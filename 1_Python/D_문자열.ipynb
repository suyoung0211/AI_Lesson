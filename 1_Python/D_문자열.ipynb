{
  "nbformat": 4,
  "nbformat_minor": 0,
  "metadata": {
    "colab": {
      "provenance": [],
      "authorship_tag": "ABX9TyMt1ruVd4lRl0XJux3W6MiV",
      "include_colab_link": true
    },
    "kernelspec": {
      "name": "python3",
      "display_name": "Python 3"
    },
    "language_info": {
      "name": "python"
    }
  },
  "cells": [
    {
      "cell_type": "markdown",
      "metadata": {
        "id": "view-in-github",
        "colab_type": "text"
      },
      "source": [
        "<a href=\"https://colab.research.google.com/github/suyoung0211/python/blob/main/D_string.ipynb\" target=\"_parent\"><img src=\"https://colab.research.google.com/assets/colab-badge.svg\" alt=\"Open In Colab\"/></a>"
      ]
    },
    {
      "cell_type": "markdown",
      "source": [
        "### 문자열\n",
        "- 인덱스 표시 [ ] 기호 사용 가능(파이썬 특징)\n",
        "\n",
        "### iterable 객체\n",
        "- 문자열,배열(넘파이 ndarray),모든 컬렉션(list,set,tuple,dict)  __반복__ 접근을 할 수 있는 객체입니다.\n",
        "\n",
        "### 시퀀스 자료구조\n",
        "- sequence :  __순서__ 가 있는 ... . 인덱싱/슬라이싱이 가능.\n",
        "- 문자열, 배열, 리스트, 튜플"
      ],
      "metadata": {
        "id": "g9Fg7CLU_-63"
      }
    },
    {
      "cell_type": "code",
      "source": [
        "mystr = 'Hello'\n",
        "mystr[2]"
      ],
      "metadata": {
        "colab": {
          "base_uri": "https://localhost:8080/",
          "height": 35
        },
        "id": "ZNFqFm4TAjeU",
        "outputId": "5f67ae3c-cc43-405d-a743-d91f301f340f"
      },
      "execution_count": null,
      "outputs": [
        {
          "output_type": "execute_result",
          "data": {
            "text/plain": [
              "'l'"
            ],
            "application/vnd.google.colaboratory.intrinsic+json": {
              "type": "string"
            }
          },
          "metadata": {},
          "execution_count": 2
        }
      ]
    },
    {
      "cell_type": "code",
      "source": [
        "# 인덱스는 음수 사용 가능\n",
        "# 알파벳 o 가 -1\n",
        "mystr[-3]"
      ],
      "metadata": {
        "colab": {
          "base_uri": "https://localhost:8080/",
          "height": 35
        },
        "id": "rdBDiZI0AuBV",
        "outputId": "3ba8008a-c6d8-4cd3-af1c-32c7e07868d7"
      },
      "execution_count": null,
      "outputs": [
        {
          "output_type": "execute_result",
          "data": {
            "text/plain": [
              "'l'"
            ],
            "application/vnd.google.colaboratory.intrinsic+json": {
              "type": "string"
            }
          },
          "metadata": {},
          "execution_count": 6
        }
      ]
    },
    {
      "cell_type": "code",
      "source": [
        "len(mystr)"
      ],
      "metadata": {
        "colab": {
          "base_uri": "https://localhost:8080/"
        },
        "id": "2OCZch2jA_im",
        "outputId": "9145d6df-acd4-4ee6-992c-50b62baff59d"
      },
      "execution_count": null,
      "outputs": [
        {
          "output_type": "execute_result",
          "data": {
            "text/plain": [
              "5"
            ]
          },
          "metadata": {},
          "execution_count": 8
        }
      ]
    },
    {
      "cell_type": "code",
      "source": [
        "# 파이썬만 가능\n",
        "'🌟' * 10"
      ],
      "metadata": {
        "colab": {
          "base_uri": "https://localhost:8080/",
          "height": 35
        },
        "id": "TZy_rHqMBDL5",
        "outputId": "2f72b742-f0ac-4ef0-d270-68f97d2773da"
      },
      "execution_count": null,
      "outputs": [
        {
          "output_type": "execute_result",
          "data": {
            "text/plain": [
              "'🌟🌟🌟🌟🌟🌟🌟🌟🌟🌟'"
            ],
            "application/vnd.google.colaboratory.intrinsic+json": {
              "type": "string"
            }
          },
          "metadata": {},
          "execution_count": 10
        }
      ]
    },
    {
      "cell_type": "markdown",
      "source": [
        "### 인덱싱과 슬라이싱\n",
        "- 인덱싱 : 특정 인덱스 값으로 가져오기(한개만 추출)\n",
        "- 슬라이싱 : 특정 인덱스 범위로 자르기\n",
        "- iterable 객체들은 모두 비슷하게 동작합니다."
      ],
      "metadata": {
        "id": "SIGbgCjkBFj6"
      }
    },
    {
      "cell_type": "code",
      "source": [
        "# 인덱싱\n",
        "print('mystr :', mystr)\n",
        "print('mystr[0] :', mystr[0])\n",
        "print('mystr[-1] :', mystr[-1])\n",
        "print('type(mystr[0]) :', type(mystr[0]))"
      ],
      "metadata": {
        "colab": {
          "base_uri": "https://localhost:8080/"
        },
        "id": "mGQWm5-gBsQN",
        "outputId": "53951f0a-c73a-4fa4-c96e-84131eb1ea7e"
      },
      "execution_count": null,
      "outputs": [
        {
          "output_type": "stream",
          "name": "stdout",
          "text": [
            "mystr : Hello\n",
            "mystr[0] : H\n",
            "mystr[-1] : o\n",
            "type(mystr[0]) : <class 'str'>\n"
          ]
        }
      ]
    },
    {
      "cell_type": "code",
      "source": [
        "# 슬라이싱 기호 : [시작인덱스:끝인덱스]\n",
        "# 질문 1. 끝인덱스 포함하나요?  아니요\n",
        "# 질문 2. 시작인덱스 기본값?    0\n",
        "# 질문 3. 끝인덱스 기본값?      문자열의 끝\n",
        "\n",
        "#          0123456789012345678901234567890123456789\n",
        "message = 'Goodbye Java. Welcome Python. hi~!'\n",
        "print('message[0:5] :', message[0:5])\n",
        "print('message[12:15] :', message[12:15])\n",
        "print('message[12:] :', message[12:])\n",
        "print('message[:5] :', message[:5])\n",
        "print('message[-1:] :', message[-1:])\n",
        "print('type(message[-1:] :', type(message[-1:]))"
      ],
      "metadata": {
        "colab": {
          "base_uri": "https://localhost:8080/"
        },
        "id": "raVsDOI8CKd3",
        "outputId": "88d093c2-5303-4621-add9-1977cddba65b"
      },
      "execution_count": null,
      "outputs": [
        {
          "output_type": "stream",
          "name": "stdout",
          "text": [
            "message[0:5] : Goodb\n",
            "message[12:15] : . W\n",
            "message[12:] : . Welcome Python. hi~!\n",
            "message[:5] : Goodb\n",
            "message[-1:] : !\n",
            "type(message[-1:] : <class 'str'>\n"
          ]
        }
      ]
    },
    {
      "cell_type": "code",
      "source": [
        "# 반대방향으로 슬라이싱 못함\n",
        "print('message[-1:-5] :', message[-1:-5])"
      ],
      "metadata": {
        "colab": {
          "base_uri": "https://localhost:8080/"
        },
        "id": "8w3NfQAnDz3n",
        "outputId": "7c7eb562-8fa3-4fb1-d88d-b16f5d1dee1b"
      },
      "execution_count": null,
      "outputs": [
        {
          "output_type": "stream",
          "name": "stdout",
          "text": [
            "message[-1:-5] : \n"
          ]
        }
      ]
    },
    {
      "cell_type": "code",
      "source": [
        "# -> 방향은 가능\n",
        "print('message[-5:-1] :', message[-5:-1])"
      ],
      "metadata": {
        "colab": {
          "base_uri": "https://localhost:8080/"
        },
        "id": "DD72D6WUEQ8W",
        "outputId": "15ea7312-9f55-4fcd-c603-fcb5b9b7eaf2"
      },
      "execution_count": null,
      "outputs": [
        {
          "output_type": "stream",
          "name": "stdout",
          "text": [
            "message[-5:-1] :  hi~\n"
          ]
        }
      ]
    },
    {
      "cell_type": "markdown",
      "source": [
        "```\n",
        "# 코드로 형식 지정됨\n",
        "```\n",
        "\n",
        "- [start:end:step]   step을 지정할 수 있습니다."
      ],
      "metadata": {
        "id": "2lOL1DYCEZk8"
      }
    },
    {
      "cell_type": "code",
      "source": [
        "#          0123456789012345678901234567890123456789\n",
        "message = 'Goodbye Java. Welcome Python. hi~!'\n",
        "# 질문4. step 의 기본값은 얼마일까요? 1\n",
        "message[0:10:2]"
      ],
      "metadata": {
        "colab": {
          "base_uri": "https://localhost:8080/",
          "height": 35
        },
        "id": "09Vauqd-H7ZS",
        "outputId": "95050eba-2b7d-441d-e396-26fba942a854"
      },
      "execution_count": null,
      "outputs": [
        {
          "output_type": "execute_result",
          "data": {
            "text/plain": [
              "'GobeJ'"
            ],
            "application/vnd.google.colaboratory.intrinsic+json": {
              "type": "string"
            }
          },
          "metadata": {},
          "execution_count": 10
        }
      ]
    },
    {
      "cell_type": "code",
      "source": [
        "message[-1:-5:-1]"
      ],
      "metadata": {
        "colab": {
          "base_uri": "https://localhost:8080/",
          "height": 35
        },
        "id": "8J5s491BH-kU",
        "outputId": "0bb768a6-56f7-4186-ad64-d285ceeaaaec"
      },
      "execution_count": null,
      "outputs": [
        {
          "output_type": "execute_result",
          "data": {
            "text/plain": [
              "'!~ih'"
            ],
            "application/vnd.google.colaboratory.intrinsic+json": {
              "type": "string"
            }
          },
          "metadata": {},
          "execution_count": 28
        }
      ]
    },
    {
      "cell_type": "code",
      "source": [
        "message[::2]"
      ],
      "metadata": {
        "colab": {
          "base_uri": "https://localhost:8080/",
          "height": 35
        },
        "id": "RDsizP1EH_2o",
        "outputId": "af73ce4a-09bd-43f9-ea0a-8587f22c8150"
      },
      "execution_count": null,
      "outputs": [
        {
          "output_type": "execute_result",
          "data": {
            "text/plain": [
              "'GobeJv.WloePto.h~'"
            ],
            "application/vnd.google.colaboratory.intrinsic+json": {
              "type": "string"
            }
          },
          "metadata": {},
          "execution_count": 11
        }
      ]
    },
    {
      "cell_type": "code",
      "source": [
        "# step 이 음수일때는\n",
        "# start, end 의 기본값이 바뀝니다.(start 는 문자열 끝, end 는 0. 0 포함)\n",
        "message[::-1]"
      ],
      "metadata": {
        "colab": {
          "base_uri": "https://localhost:8080/",
          "height": 35
        },
        "id": "rtAM-Cp8JUU8",
        "outputId": "092d84f5-2a66-4f32-a2a5-068920c53c04"
      },
      "execution_count": null,
      "outputs": [
        {
          "output_type": "execute_result",
          "data": {
            "text/plain": [
              "'!~ih .nohtyP emocleW .avaJ eybdooG'"
            ],
            "application/vnd.google.colaboratory.intrinsic+json": {
              "type": "string"
            }
          },
          "metadata": {},
          "execution_count": 12
        }
      ]
    },
    {
      "cell_type": "markdown",
      "source": [
        "### 문자열 메소드\n",
        "\n",
        "1.   항목 추가\n",
        "2.   항목 추가\n",
        "\n",
        "\n",
        "- 자바,자바스크립트와 유사한 문자열 메소드 있습니다."
      ],
      "metadata": {
        "id": "PU4VklOtOCDQ"
      }
    },
    {
      "cell_type": "code",
      "source": [
        "message = 'Goodbye Java. Welcome Python. hi~!'"
      ],
      "metadata": {
        "id": "WIdYQocrNylm"
      },
      "execution_count": null,
      "outputs": []
    },
    {
      "cell_type": "code",
      "source": [
        "# 대문자로 변환하여 새로운 문자열 리턴\n",
        "message.upper()"
      ],
      "metadata": {
        "colab": {
          "base_uri": "https://localhost:8080/",
          "height": 35
        },
        "id": "IJ-jQInjOICj",
        "outputId": "7065432e-3b1d-46b3-c697-4ef9ea43c919"
      },
      "execution_count": null,
      "outputs": [
        {
          "output_type": "execute_result",
          "data": {
            "text/plain": [
              "'GOODBYE JAVA. WELCOME PYTHON. HI~!'"
            ],
            "application/vnd.google.colaboratory.intrinsic+json": {
              "type": "string"
            }
          },
          "metadata": {},
          "execution_count": 7
        }
      ]
    },
    {
      "cell_type": "code",
      "source": [
        "# 소문자로 변환하여 새로운 문자열 리턴\n",
        "message.lower()"
      ],
      "metadata": {
        "colab": {
          "base_uri": "https://localhost:8080/",
          "height": 35
        },
        "id": "kGxOKjuxOMtT",
        "outputId": "2e4aef80-7edc-4455-fe79-2fa694ad99e3"
      },
      "execution_count": null,
      "outputs": [
        {
          "output_type": "execute_result",
          "data": {
            "text/plain": [
              "'goodbye java. welcome python. hi~!'"
            ],
            "application/vnd.google.colaboratory.intrinsic+json": {
              "type": "string"
            }
          },
          "metadata": {},
          "execution_count": 8
        }
      ]
    },
    {
      "cell_type": "code",
      "source": [
        "message.count('a')"
      ],
      "metadata": {
        "colab": {
          "base_uri": "https://localhost:8080/"
        },
        "id": "swoCFnvwOQ73",
        "outputId": "7d5a782b-30f5-49ed-e7ef-af6cd1233f6c"
      },
      "execution_count": null,
      "outputs": [
        {
          "output_type": "execute_result",
          "data": {
            "text/plain": [
              "2"
            ]
          },
          "metadata": {},
          "execution_count": 9
        }
      ]
    },
    {
      "cell_type": "code",
      "source": [
        "message.count('oo')"
      ],
      "metadata": {
        "colab": {
          "base_uri": "https://localhost:8080/"
        },
        "id": "Dq85d_SOOswR",
        "outputId": "0a9c70c3-3159-4af1-eb13-2927dadd8ef1"
      },
      "execution_count": null,
      "outputs": [
        {
          "output_type": "execute_result",
          "data": {
            "text/plain": [
              "1"
            ]
          },
          "metadata": {},
          "execution_count": 14
        }
      ]
    },
    {
      "cell_type": "code",
      "source": [
        "message"
      ],
      "metadata": {
        "colab": {
          "base_uri": "https://localhost:8080/",
          "height": 35
        },
        "id": "uhQHncg-PO5-",
        "outputId": "73a9fa01-f5c0-42ab-f7d6-f0c88a3a280a"
      },
      "execution_count": null,
      "outputs": [
        {
          "output_type": "execute_result",
          "data": {
            "text/plain": [
              "'Goodbye Java. Welcome Python. hi~!'"
            ],
            "application/vnd.google.colaboratory.intrinsic+json": {
              "type": "string"
            }
          },
          "metadata": {},
          "execution_count": 16
        }
      ]
    },
    {
      "cell_type": "code",
      "source": [
        "message.find('Java')"
      ],
      "metadata": {
        "colab": {
          "base_uri": "https://localhost:8080/"
        },
        "id": "8IbPepJDO8sL",
        "outputId": "cef1cfab-3ace-4b90-d145-79ac5a3b3b7e"
      },
      "execution_count": null,
      "outputs": [
        {
          "output_type": "execute_result",
          "data": {
            "text/plain": [
              "8"
            ]
          },
          "metadata": {},
          "execution_count": 17
        }
      ]
    },
    {
      "cell_type": "code",
      "source": [
        "message.rfind('Java')"
      ],
      "metadata": {
        "colab": {
          "base_uri": "https://localhost:8080/"
        },
        "id": "4AJPQZjUPFK3",
        "outputId": "6cdc23d1-0522-46e1-e826-9e65c749c987"
      },
      "execution_count": null,
      "outputs": [
        {
          "output_type": "execute_result",
          "data": {
            "text/plain": [
              "8"
            ]
          },
          "metadata": {},
          "execution_count": 20
        }
      ]
    },
    {
      "cell_type": "code",
      "source": [
        "# find 할 때 찾는 시작 위치를 두번째 값으로 전달\n",
        "message.rfind('Java',10)"
      ],
      "metadata": {
        "colab": {
          "base_uri": "https://localhost:8080/"
        },
        "id": "B2lwo6R5QKJ7",
        "outputId": "c6bc103f-0c9a-4d4d-b94e-f4c95f9a5f79"
      },
      "execution_count": null,
      "outputs": [
        {
          "output_type": "execute_result",
          "data": {
            "text/plain": [
              "-1"
            ]
          },
          "metadata": {},
          "execution_count": 21
        }
      ]
    },
    {
      "cell_type": "code",
      "source": [
        "# 양쪽 공백 제거\n",
        "message2 ='     GoodBye Java,  GoodBye Oracle   '\n",
        "message2.strip()"
      ],
      "metadata": {
        "colab": {
          "base_uri": "https://localhost:8080/",
          "height": 35
        },
        "id": "cxfjcyFwRjwK",
        "outputId": "bfd8dbe0-f268-4e18-b31f-a74bcb548590"
      },
      "execution_count": null,
      "outputs": [
        {
          "output_type": "execute_result",
          "data": {
            "text/plain": [
              "'GoodBye Java,  GoodBye Oracle'"
            ],
            "application/vnd.google.colaboratory.intrinsic+json": {
              "type": "string"
            }
          },
          "metadata": {},
          "execution_count": 26
        }
      ]
    },
    {
      "cell_type": "code",
      "source": [
        "message2.replace('GoodBye','I Miss')"
      ],
      "metadata": {
        "colab": {
          "base_uri": "https://localhost:8080/",
          "height": 35
        },
        "id": "kD_ckQu2Rl7s",
        "outputId": "e2085967-fe7f-4257-ba9f-719b7a94f38e"
      },
      "execution_count": null,
      "outputs": [
        {
          "output_type": "execute_result",
          "data": {
            "text/plain": [
              "'     I Miss Java,  I Miss Oracle   '"
            ],
            "application/vnd.google.colaboratory.intrinsic+json": {
              "type": "string"
            }
          },
          "metadata": {},
          "execution_count": 27
        }
      ]
    },
    {
      "cell_type": "code",
      "source": [
        "message2.replace('GoodBye','I Miss',1)"
      ],
      "metadata": {
        "colab": {
          "base_uri": "https://localhost:8080/",
          "height": 35
        },
        "id": "VD0DMof0RpsZ",
        "outputId": "1884e2f9-0c5c-44f6-a868-9c07c6b91936"
      },
      "execution_count": null,
      "outputs": [
        {
          "output_type": "execute_result",
          "data": {
            "text/plain": [
              "'     I Miss Java,  GoodBye Oracle   '"
            ],
            "application/vnd.google.colaboratory.intrinsic+json": {
              "type": "string"
            }
          },
          "metadata": {},
          "execution_count": 29
        }
      ]
    },
    {
      "cell_type": "code",
      "source": [
        "# 문자열 split 하면 특정기호를 구분자로 분리\n",
        "# ↪ 리스트로 리턴"
      ],
      "metadata": {
        "id": "J0w-dzRpSIeY"
      },
      "execution_count": null,
      "outputs": []
    },
    {
      "cell_type": "code",
      "source": [
        "text = '김🍎  강🍉 이🍑 신🍒 나🍆 최🍈'\n",
        "names= text.split()   # 구분문자는 공백이 기본값\n",
        "print('names =',names)\n",
        "print('type(names) :', type(names))\n",
        "print('len(names) :', len(names))"
      ],
      "metadata": {
        "colab": {
          "base_uri": "https://localhost:8080/"
        },
        "id": "LUhb4vwoTTr6",
        "outputId": "f85c3ea1-04bb-4874-c6d2-43013a415672"
      },
      "execution_count": null,
      "outputs": [
        {
          "output_type": "stream",
          "name": "stdout",
          "text": [
            "names = ['김🍎', '강🍉', '이🍑', '신🍒', '나🍆', '최🍈']\n",
            "type(names) : <class 'list'>\n",
            "len(names) : 6\n"
          ]
        }
      ]
    },
    {
      "cell_type": "code",
      "source": [
        "text = '김🍎,강🍉, 이🍑,        신🍒, 나🍆, 최🍈    임😑'"
      ],
      "metadata": {
        "id": "YlwvGD0STWyA"
      },
      "execution_count": null,
      "outputs": []
    },
    {
      "cell_type": "code",
      "source": [
        "# li3 = re.split(r'·|…\\s*|\\s+', text)  -> 정규표현식 참고\n",
        "import re"
      ],
      "metadata": {
        "id": "gy1fuQW4T9Gt"
      },
      "execution_count": null,
      "outputs": []
    },
    {
      "cell_type": "code",
      "source": [
        "print('테스트1 =>',text.split())\n",
        "print('테스트2 =>',text.split(','))\n",
        "# 쪼개는 기준(구분) 문자열 : \\s*,\\s* 또는 \\s+\n",
        "re.split(r'\\s*,\\s*|\\s+',text)"
      ],
      "metadata": {
        "colab": {
          "base_uri": "https://localhost:8080/"
        },
        "id": "UURiqN74UA8p",
        "outputId": "c8a28c1d-8861-429e-a2f5-41833ed5b843"
      },
      "execution_count": null,
      "outputs": [
        {
          "output_type": "stream",
          "name": "stdout",
          "text": [
            "테스트1 => ['김🍎,강🍉,', '이🍑,', '신🍒,', '나🍆,', '최🍈', '임😑']\n",
            "테스트2 => ['김🍎', '강🍉', ' 이🍑', '        신🍒', ' 나🍆', ' 최🍈    임😑']\n"
          ]
        },
        {
          "output_type": "execute_result",
          "data": {
            "text/plain": [
              "['김🍎', '강🍉', '이🍑', '신🍒', '나🍆', '최🍈', '임😑']"
            ]
          },
          "metadata": {},
          "execution_count": 52
        }
      ]
    },
    {
      "cell_type": "markdown",
      "source": [
        "![image.png](data:image/png;base64,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)"
      ],
      "metadata": {
        "id": "5hGyrMmFUMlo"
      }
    },
    {
      "cell_type": "markdown",
      "source": [
        "## 복습 퀴즈\n",
        "### 어떤 문자열에서 2번째 위치의 Goodbye 를 Hello 로 교체한다.\n",
        "### => 슬라이싱 방법으로 해결해 봅니다.\n",
        "- step 1. 첫번째 GoodBye 가 몇 번째 위치에 있나 확인\n",
        "- step 2. pos 변수에 step 1 에서 구한 값 + len('GoodBye')\n",
        "- step 3. pos 기준으로 앞의 문자열 슬라이싱\n",
        "- step 4. pos 기준으로 뒤의 문자열 슬라이싱하여 replace. 'GoodBye' 를 'Hello'\n",
        "- step 5. 결과 step 3 과 step 4 를 연결 -> step 3 부터 결과까지 하나의 명령어로"
      ],
      "metadata": {
        "id": "ZbCt13qya1sw"
      }
    },
    {
      "cell_type": "code",
      "source": [
        "message2 = 'Hello ~~ GoodBye Java, !! GoodBye Oracle!!'\n",
        "# 결과 => Hello ~~ GoodBye Java, !! Hello Oracle!!\n",
        "# step 1\n",
        "print(\"message2.find('GoodBye') :\", message2.find('GoodBye'))\n",
        "# step 2\n",
        "print(\"len('GoodBye') :\", len('GoodBye'))\n",
        "pos = message2.find('GoodBye') + len('GoodBye')\n",
        "# + len('GoodBye') 대신 + 1 사용 가능\n",
        "print('pos =', pos)\n",
        "# step 3\n",
        "print('message2[:pos] =', message2[:pos])   # 앞부분\n",
        "print('message2[pos:] =', message2[pos:])   # 뒷부분\n",
        "# step 4\n",
        "print(\"message2[pos:].replace('GoodBye', 'Hello') :\",\n",
        "      message2[pos:].replace('GoodBye', 'Hello'))\n",
        "# step 5\n",
        "result = message2[:pos] + message2[pos:].replace('GoodBye', 'Hello')\n",
        "print(result)"
      ],
      "metadata": {
        "colab": {
          "base_uri": "https://localhost:8080/"
        },
        "id": "3wywcNtfcuNg",
        "outputId": "5a2c35b8-ffef-46c0-a80b-6204d30fb1fe"
      },
      "execution_count": null,
      "outputs": [
        {
          "output_type": "stream",
          "name": "stdout",
          "text": [
            "message2.find('GoodBye') : 9\n",
            "len('GoodBye') : 7\n",
            "pos = 16\n",
            "message2[:pos] = Hello ~~ GoodBye\n",
            "message2[pos:] =  Java, !! GoodBye Oracle!!\n",
            "message2[pos:].replace('GoodBye', 'Hello') :  Java, !! Hello Oracle!!\n",
            "Hello ~~ GoodBye Java, !! Hello Oracle!!\n"
          ]
        }
      ]
    },
    {
      "cell_type": "code",
      "source": [
        "# develop : 함수 학습 후에 위의 기능을 '함수' 로 정의해 보기"
      ],
      "metadata": {
        "id": "3nmXXKLAifbZ"
      },
      "execution_count": null,
      "outputs": []
    }
  ]
}