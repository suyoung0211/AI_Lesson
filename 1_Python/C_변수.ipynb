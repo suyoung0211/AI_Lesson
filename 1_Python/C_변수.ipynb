{
  "nbformat": 4,
  "nbformat_minor": 0,
  "metadata": {
    "colab": {
      "provenance": [],
      "authorship_tag": "ABX9TyMbQGz+g8dEV4GRNWrmipR4",
      "include_colab_link": true
    },
    "kernelspec": {
      "name": "python3",
      "display_name": "Python 3"
    },
    "language_info": {
      "name": "python"
    }
  },
  "cells": [
    {
      "cell_type": "markdown",
      "metadata": {
        "id": "view-in-github",
        "colab_type": "text"
      },
      "source": [
        "<a href=\"https://colab.research.google.com/github/suyoung0211/python/blob/main/C_function.ipynb\" target=\"_parent\"><img src=\"https://colab.research.google.com/assets/colab-badge.svg\" alt=\"Open In Colab\"/></a>"
      ]
    },
    {
      "cell_type": "markdown",
      "source": [
        "### 파이썬 변수의 특징 1\n",
        "- 변수는 \"값을 담는 상자\"가 아님.\n",
        "- 파이썬에서 변수는 __객체(Object)에 대한 이름(참조, reference)__ 입니다.\n",
        "a = 10은 a 라는 이름을 정수 객체 10에 붙여주는 것일 뿐입니다.\n",
        "- 파이썬의 변수에 들어가는 건 전부 **객체(Object)**입니다.정수, 문자열, 리스트, 함수까지 모두 객체.\n",
        "- 불변(immutable): 값 자체가 변하지 않음.값이 변하면 → 새로운 객체 생성 저장\n",
        "(정수, 실수, 문자열, 튜플 등)\n",
        "- 가변(mutable): 값이 변하면 객체 안의 내용이 바뀜\n",
        "(리스트, 딕셔너리, 집합 등)\n",
        "- interning\n",
        "  + 같은 값을 갖는 객체를 하나만 만들어 저장하고 공유(항상 같은 객체, 캐싱 기능과 유사)\n",
        "  + 정수 -5 ~ 256 범위\n",
        "  + 짧은 알파벳 문자열\n",
        "- 여러 변수에 동시에 할당 가능\n",
        "  ```\n",
        "  x, y, z = 1, 2, 3\n",
        "  a = b = c = 0\n",
        "  ```\n",
        "- 함수 인자 : 함수 인자를 넘길 때는 **객체의 참조(reference)** 가 전달\n",
        "- 변수 참조 해제 : del 변수명으로 참조 끊기\n",
        "  ```\n",
        "  x = 127\n",
        "  del x\n",
        "  # print(x)  # NameError 발생\n",
        "  ```\n",
        "- id() 함수는 **객체의 “identity(객체가 메모리에 위치한 주소값)”** 를 정수로 반환"
      ],
      "metadata": {
        "id": "OQyEfXho2xaA"
      }
    },
    {
      "cell_type": "code",
      "source": [
        "a=200\n",
        "b=200\n",
        "print('a =', a, 'b =', b)\n",
        "print('id(a) :', id(a))\n",
        "print('id(b) :', id(b))"
      ],
      "metadata": {
        "colab": {
          "base_uri": "https://localhost:8080/"
        },
        "id": "s1_Wm5066_4k",
        "outputId": "4b6b4c27-b621-4dda-e196-c01a3f10c64d"
      },
      "execution_count": null,
      "outputs": [
        {
          "output_type": "stream",
          "name": "stdout",
          "text": [
            "a = 200 b = 200\n",
            "id(a) : 11648456\n",
            "id(b) : 11648456\n"
          ]
        }
      ]
    },
    {
      "cell_type": "code",
      "source": [
        "print('type(a) :', type(a))"
      ],
      "metadata": {
        "colab": {
          "base_uri": "https://localhost:8080/"
        },
        "id": "r6r_o8VZ7iYo",
        "outputId": "5d43be61-2e49-4274-957c-8fb08e059b8c"
      },
      "execution_count": null,
      "outputs": [
        {
          "output_type": "stream",
          "name": "stdout",
          "text": [
            "type(a) : <class 'int'>\n"
          ]
        }
      ]
    },
    {
      "cell_type": "code",
      "source": [
        "print(\"a==b :\",a==b)\n",
        "print(\"a is b :\",a is b)    # id 함수값 비교"
      ],
      "metadata": {
        "colab": {
          "base_uri": "https://localhost:8080/"
        },
        "id": "ZxVyoS3Z8Ogt",
        "outputId": "7a557e13-aec0-45c1-de81-8d6ee780a9b2"
      },
      "execution_count": null,
      "outputs": [
        {
          "output_type": "stream",
          "name": "stdout",
          "text": [
            "a==b : True\n",
            "a is b : True\n"
          ]
        }
      ]
    },
    {
      "cell_type": "code",
      "source": [
        "# 257부터는 메모리에 각각 저장. 주소가 다름.\n",
        "a=257\n",
        "b=257"
      ],
      "metadata": {
        "id": "IsZ5y9Er8mFj"
      },
      "execution_count": null,
      "outputs": []
    },
    {
      "cell_type": "code",
      "source": [
        "print('a==b :', a==b)\n",
        "print('id(a) :', id(a))\n",
        "print('id(b) :', id(b))\n",
        "print('a is b :', a is b)"
      ],
      "metadata": {
        "colab": {
          "base_uri": "https://localhost:8080/"
        },
        "id": "O_JnfVIr74UA",
        "outputId": "d1437225-ca24-442d-c755-d4e02555fa9c"
      },
      "execution_count": null,
      "outputs": [
        {
          "output_type": "stream",
          "name": "stdout",
          "text": [
            "a==b : True\n",
            "id(a) : 140001414363536\n",
            "id(b) : 140001414364592\n",
            "a is b : False\n"
          ]
        }
      ]
    },
    {
      "cell_type": "code",
      "source": [
        "# 문자열은 불변객체\n",
        "name='twice'\n",
        "print('id(name) :',id(name))"
      ],
      "metadata": {
        "colab": {
          "base_uri": "https://localhost:8080/"
        },
        "id": "kGFcqOU08_WZ",
        "outputId": "e803b840-9cb7-4875-cccc-290c72c5fb46"
      },
      "execution_count": null,
      "outputs": [
        {
          "output_type": "stream",
          "name": "stdout",
          "text": [
            "id(name) : 11698624\n"
          ]
        }
      ]
    },
    {
      "cell_type": "code",
      "source": [
        "# 문자열이 변경되면 name 은 다른 메모리 위치를 가리킵니다.\n",
        "name='newjeans'\n",
        "print('id(name) :',id(name))"
      ],
      "metadata": {
        "colab": {
          "base_uri": "https://localhost:8080/"
        },
        "id": "hopkyj828_cv",
        "outputId": "f1338b8b-7096-484b-f455-1ee8332a5751"
      },
      "execution_count": null,
      "outputs": [
        {
          "output_type": "stream",
          "name": "stdout",
          "text": [
            "id(name) : 140001414854128\n"
          ]
        }
      ]
    },
    {
      "cell_type": "code",
      "source": [
        "# 같은 문자열 'twice' 를 참조하는 변수 2개는 주소가 같음.\n",
        "message = 'twice'\n",
        "print('id(message) :',id(message))"
      ],
      "metadata": {
        "colab": {
          "base_uri": "https://localhost:8080/"
        },
        "id": "jm1oGYPk9hqU",
        "outputId": "9bc55ab2-7a07-4716-e996-3c12d6d6b781"
      },
      "execution_count": null,
      "outputs": [
        {
          "output_type": "stream",
          "name": "stdout",
          "text": [
            "id(message) : 11698624\n"
          ]
        }
      ]
    },
    {
      "cell_type": "code",
      "source": [
        "f=3.14\n",
        "g=3.14\n",
        "print('type(f) :', type(f))\n",
        "print('id(f) :', id(f))\n",
        "print('id(g) :', id(g))"
      ],
      "metadata": {
        "colab": {
          "base_uri": "https://localhost:8080/"
        },
        "id": "gyEpH2hD9mm0",
        "outputId": "4464f75f-68f3-41fe-e65a-fe7c60394ba9"
      },
      "execution_count": null,
      "outputs": [
        {
          "output_type": "stream",
          "name": "stdout",
          "text": [
            "type(f) : <class 'float'>\n",
            "id(f) : 140001414360176\n",
            "id(g) : 140001414349936\n"
          ]
        }
      ]
    },
    {
      "cell_type": "markdown",
      "source": [
        "### 파이썬 변수의 특징 2\n",
        "\n",
        "- 동적 타입 언어이기 때문에 컴파일 시점에 타입을 강제하지 않는다."
      ],
      "metadata": {
        "id": "W7Eo-qeZ5f0u"
      }
    },
    {
      "cell_type": "code",
      "source": [
        "# 처음은 문자열 저장하고\n",
        "# 지금은 정수를 저장합니다. (동적 타입)\n",
        "name=23\n",
        "name"
      ],
      "metadata": {
        "colab": {
          "base_uri": "https://localhost:8080/"
        },
        "id": "AA6btC3O-V8b",
        "outputId": "b46cf135-51a5-4383-cf83-fd5014ffde51"
      },
      "execution_count": null,
      "outputs": [
        {
          "output_type": "execute_result",
          "data": {
            "text/plain": [
              "23"
            ]
          },
          "metadata": {},
          "execution_count": 25
        }
      ]
    },
    {
      "cell_type": "markdown",
      "source": [
        "#### 타입 안정성 도입\n",
        "- Python 3.5부터 변수나 함수의 인자 및 반환값에 타입을 명시한다.\n",
        "- 타입 힌트는 강제 되지 않는다.정적 타입 검사 도구를 사용하여 오류를 체크한다."
      ],
      "metadata": {
        "id": "VhZCWA645jc5"
      }
    },
    {
      "cell_type": "code",
      "source": [
        "# :str  는 타입 힌트\n",
        "address:str = '서울시 강남구'\n",
        "address"
      ],
      "metadata": {
        "id": "NVkohZ_UDBfy"
      },
      "execution_count": null,
      "outputs": []
    },
    {
      "cell_type": "code",
      "source": [
        "# 타입힌트 강제성이 없습니다.\n",
        "address=23\n",
        "address"
      ],
      "metadata": {
        "id": "b1ku89NzDCMM"
      },
      "execution_count": null,
      "outputs": []
    },
    {
      "cell_type": "markdown",
      "source": [
        "#### 타입 안정성을 높이는 모듈과 라이브러리\n",
        "- dataclasses 모듈을 사용하면 명확한 타입 구조를 가진 객체를 정의\n",
        "- TypedDict는 딕셔너리 구조에 타입을 부여\n",
        "- pydantic: 데이터 검증과 타입 강제를 지원하는 라이브러리"
      ],
      "metadata": {
        "id": "bbX_Rwrx5me0"
      }
    }
  ]
}