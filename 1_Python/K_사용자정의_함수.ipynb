{
  "nbformat": 4,
  "nbformat_minor": 0,
  "metadata": {
    "colab": {
      "provenance": [],
      "include_colab_link": true
    },
    "kernelspec": {
      "name": "python3",
      "display_name": "Python 3"
    },
    "language_info": {
      "name": "python"
    }
  },
  "cells": [
    {
      "cell_type": "markdown",
      "metadata": {
        "id": "view-in-github",
        "colab_type": "text"
      },
      "source": [
        "<a href=\"https://colab.research.google.com/github/suyoung0211/Python/blob/main/K_%EC%82%AC%EC%9A%A9%EC%9E%90%EC%A0%95%EC%9D%98_%ED%95%A8%EC%88%98.ipynb\" target=\"_parent\"><img src=\"https://colab.research.google.com/assets/colab-badge.svg\" alt=\"Open In Colab\"/></a>"
      ]
    },
    {
      "cell_type": "markdown",
      "source": [
        "사용자 정의 함수란 사용자가 특정 작업을 수행하기 위해 직접 작성한 함수를 의미합니다. 파이썬에는 많은 내장 함수들이 있지만, 때로는 우리의 요구사항에 맞게 동작하는 함수를 직접 만들어야 할 때가 있습니다. 이때 사용자 정의 함수를 작성하게 됩니다.\n",
        "\n",
        "<pre>\n",
        "def 함수명(매개변수1, 매개변수2, ...):\n",
        "    # 함수 내용\n",
        "    return 결과값\n",
        "</pre>"
      ],
      "metadata": {
        "id": "5v8i9yacjU8d"
      }
    },
    {
      "cell_type": "code",
      "source": [
        "# 1. 매개변수와 반환 값이 없는 함수\n",
        "def func1():    # define(정의하다)\n",
        "    print('~'*30)\n",
        "    print('처음으로 만드는 함수!')\n",
        "    print('~'*30)\n",
        "\n",
        "func1()   # 함수: 객체없이 단독으로 실행. 메소드:객체를 통해서 실행하는 함수\n",
        "func1()\n",
        "\n"
      ],
      "metadata": {
        "id": "D7Yg8F_KkHr4",
        "colab": {
          "base_uri": "https://localhost:8080/"
        },
        "outputId": "3e65dc9c-3aa6-42c0-eec7-8e61231f5dfa"
      },
      "execution_count": null,
      "outputs": [
        {
          "output_type": "stream",
          "name": "stdout",
          "text": [
            "~~~~~~~~~~~~~~~~~~~~~~~~~~~~~~\n",
            "처음으로 만드는 함수!\n",
            "~~~~~~~~~~~~~~~~~~~~~~~~~~~~~~\n",
            "~~~~~~~~~~~~~~~~~~~~~~~~~~~~~~\n",
            "처음으로 만드는 함수!\n",
            "~~~~~~~~~~~~~~~~~~~~~~~~~~~~~~\n"
          ]
        }
      ]
    },
    {
      "cell_type": "code",
      "source": [
        "# 2. 매개변수가 있고 반환 값이 없는 함수\n",
        "def func2(num):\n",
        "    print(f'입력받은 숫자: {num}')\n",
        "    print('*'*num)\n",
        "func2(10)\n",
        "func2(4)"
      ],
      "metadata": {
        "id": "fHA-nhaVj_rC",
        "colab": {
          "base_uri": "https://localhost:8080/"
        },
        "outputId": "0c30bf0a-5030-4f3c-bd88-b90084c5cd18"
      },
      "execution_count": null,
      "outputs": [
        {
          "output_type": "stream",
          "name": "stdout",
          "text": [
            "입력받은 숫자: 10\n",
            "**********\n",
            "입력받은 숫자: 4\n",
            "****\n"
          ]
        }
      ]
    },
    {
      "cell_type": "code",
      "source": [
        "def func3(start=1, end=10):   # 초기값 설정하기 가능\n",
        "    sum = 0\n",
        "    for i in range(start, end+1):   # end 인자값 포함하기 위해\n",
        "        sum += i\n",
        "    print(f'{start}부터 {end}까지의 합: {sum}')\n",
        "func3(1, 10)\n",
        "func3(1, 100)\n",
        "# 파이썬 키워드 인자(keyword arguments) 전달 방식:  함수인자 전달할 때 '매개변수이름=값' 으로 한다. ➡ 순서 무시  가능\n",
        "func3(end=100, start=1)\n",
        "func3()"
      ],
      "metadata": {
        "id": "xjexZK7OkM7z",
        "colab": {
          "base_uri": "https://localhost:8080/"
        },
        "outputId": "1208d287-cab2-4387-8420-aaf9ab090803"
      },
      "execution_count": null,
      "outputs": [
        {
          "output_type": "stream",
          "name": "stdout",
          "text": [
            "1부터 10까지의 합: 55\n",
            "1부터 100까지의 합: 5050\n",
            "1부터 100까지의 합: 5050\n",
            "1부터 10까지의 합: 55\n"
          ]
        }
      ]
    },
    {
      "cell_type": "code",
      "source": [
        "# 3. 매개변수 없고 반환 값이 있는 함수\n",
        "def func4():\n",
        "    return '🎁'\n",
        "\n",
        "print(func4())\n",
        "temp = func4()\n",
        "print(f'temp에 저장된 값: {temp}')\n",
        "\n"
      ],
      "metadata": {
        "colab": {
          "base_uri": "https://localhost:8080/"
        },
        "id": "YxZT8K1fkV8R",
        "outputId": "a9fd1394-ffe5-4871-f74f-86e83c459587"
      },
      "execution_count": null,
      "outputs": [
        {
          "output_type": "stream",
          "name": "stdout",
          "text": [
            "🎁\n",
            "temp에 저장된 값: 🎁\n"
          ]
        }
      ]
    },
    {
      "cell_type": "code",
      "source": [
        "# 4. 매개변수(2개)와 리턴이 모두 있는 함수\n",
        "def func5(num1, num2):\n",
        "    sum = num1 + num2\n",
        "    return sum\n",
        "\n",
        "print(func5(10, 5))\n",
        "temp = func5(4, 3)   # 함수 리턴값 받아 저장\n",
        "print(temp)\n",
        "\n",
        "print(func5(10)) # TypeError: func5() missing 1 required positional argument: 'num2'"
      ],
      "metadata": {
        "id": "brSrDICckhiy"
      },
      "execution_count": null,
      "outputs": []
    },
    {
      "cell_type": "code",
      "source": [
        "# 기본값이 설정된 매개변수\n",
        "def func6(num1=0, num2=0):    # num1, num2의 기본값 모두 0\n",
        "    sum = num1 + num2\n",
        "    return sum\n",
        "\n",
        "print(func6())   # 결과값 0\n",
        "print(func6(10))\n",
        "print(func6(10, 3))\n",
        "print(func6(num2=3))\n",
        "# print(func6(, 3))\n",
        "# print(func6(None, 3))"
      ],
      "metadata": {
        "id": "_sKBvi1_k_Ty",
        "colab": {
          "base_uri": "https://localhost:8080/"
        },
        "outputId": "3b5035cb-f5a6-45b4-d568-66ef84591908"
      },
      "execution_count": null,
      "outputs": [
        {
          "output_type": "stream",
          "name": "stdout",
          "text": [
            "0\n",
            "10\n",
            "13\n",
            "3\n"
          ]
        }
      ]
    },
    {
      "cell_type": "code",
      "source": [
        "# TypeError: unsupported operand type(s) for +: 'NoneType' and 'int'\n",
        "print(func6(None, 3))"
      ],
      "metadata": {
        "id": "wE-AjLYGspTF"
      },
      "execution_count": null,
      "outputs": []
    },
    {
      "cell_type": "code",
      "source": [
        "# 퀴즈 : message 에서 지정된 단어(origin)를 다른 단어(dest)로 치환하기\n",
        "#        단, 모든 단어가 아닌 2 번째 해당 단어만 치환하기\n",
        "#        함수 구현\n",
        "\n",
        "# 참고 :  ⤵   d_문자열.ipynb 에서 작성한 코드\n",
        "message = 'Hello~~ GoodBye Java, !! GoodBye Oracle!! Good job'   # 대상 문자열\n",
        "pos = message.find('!!') + len('!!')\n",
        "original =\"GoodBye\"   # 찾는 문자열\n",
        "dest = \"Hi\" # 바꿀 문자열\n",
        "result = message[:pos] + message[pos:].replace('!!','~~~')"
      ],
      "metadata": {
        "id": "OLXR8aVFsoML"
      },
      "execution_count": null,
      "outputs": []
    },
    {
      "cell_type": "code",
      "source": [
        "# 함수 정의\n",
        "def replaceAtPos(message,origin,dest):\n",
        "  pos = message.find(origin) + len(origin)\n",
        "  result = message[:pos] + message[pos:].replace(origin,dest)\n",
        "  return result"
      ],
      "metadata": {
        "id": "G5MJ4d8jtMeD"
      },
      "execution_count": null,
      "outputs": []
    },
    {
      "cell_type": "code",
      "source": [
        "# 함수 실행\n",
        "result = replaceAtPos(\"Hello~~ GoodBye Java, !! GoodBye Oracle!!\",\"Good\",\"Hi\")\n",
        "print(result)\n",
        "result = replaceAtPos(\"Hello~~ GoodBye Java, !! GoodBye Oracle!!\",\"!!\",\"~~~~\")\n",
        "print(result)"
      ],
      "metadata": {
        "colab": {
          "base_uri": "https://localhost:8080/"
        },
        "id": "7TP2mbKcvsIN",
        "outputId": "f5b00b47-df0d-47c3-d68a-c10e94dd480a"
      },
      "execution_count": null,
      "outputs": [
        {
          "output_type": "stream",
          "name": "stdout",
          "text": [
            "Hello~~ GoodBye Java, !! HiBye Oracle!!\n",
            "Hello~~ GoodBye Java, !! GoodBye Oracle~~~~\n"
          ]
        }
      ]
    },
    {
      "cell_type": "code",
      "source": [
        "# 함수의 개선 : 항상 2번째 단어가 아니고 n 번째 단어를 처리할 수 있게 만들어보기\n",
        "def replaceAtPosN(message, n, origin, dest):\n",
        "  # 잘못된 인자값\n",
        "  if len(message)==0 or n==0 or len(origin)==0:\n",
        "    return None\n",
        "  pos=0\n",
        "  for i in range(n):\n",
        "    pos = message.find(origin,pos)\n",
        "    if pos == -1:   # 찾는 단어가 없다면\n",
        "     return None\n",
        "    pos+=len(origin)\n",
        "  result = message[:pos-len(origin)] + message[pos-len(origin):pos].replace(origin,dest) + message[pos-len(origin):]\n",
        "  # pos 를 구하기 위해 find 를 n번 실행해야 합니다.\n",
        "  return result"
      ],
      "metadata": {
        "id": "j2MCjdmd6dzr"
      },
      "execution_count": null,
      "outputs": []
    },
    {
      "cell_type": "code",
      "source": [
        "result = replaceAtPosN(\"GoodBye Java, !! GoodBye Oracle!! Good job!! \",1, \"Good\",\"Hi\")\n",
        "print(result)\n",
        "result = replaceAtPosN(\"GoodBye Java, !! GoodBye Oracle!! Good job!! \",2, \"Good\",\"Hi\")\n",
        "print(result)\n",
        "result = replaceAtPosN(\"GoodBye Java, !! GoodBye Oracle!! Good job!! \",3, \"Good\",\"Hi\")\n",
        "print(result)\n",
        "result = replaceAtPosN(\"GoodBye Java, !! GoodBye Oracle!! Good job!! \",4, \"Good\",\"Hi\")   # None\n",
        "print(result)"
      ],
      "metadata": {
        "colab": {
          "base_uri": "https://localhost:8080/"
        },
        "id": "nHLm0g176f58",
        "outputId": "a508cd41-c062-4f98-d785-1a60aed1dfb0"
      },
      "execution_count": null,
      "outputs": [
        {
          "output_type": "stream",
          "name": "stdout",
          "text": [
            "HiGoodBye Java, !! GoodBye Oracle!! Good job!! \n",
            "GoodBye Java, !! HiGoodBye Oracle!! Good job!! \n",
            "GoodBye Java, !! GoodBye Oracle!! HiGood job!! \n",
            "None\n"
          ]
        }
      ]
    },
    {
      "cell_type": "markdown",
      "source": [
        "- 정규식으로 찾는 re.finditer(정규식,문자열) 메소드 사용"
      ],
      "metadata": {
        "id": "K57wFFs0GSSS"
      }
    },
    {
      "cell_type": "code",
      "source": [
        "message=\"GoodBye Java, !! GoodBye Oracle!! Good job!!\"\n",
        "origin = \"Good\"\n",
        "dest = \"Hi\"\n",
        "n=3\n",
        "import re\n",
        "matches = list(re.finditer(origin, message))\n",
        "#             ↪ iter(이터레이터) 를 이용해서 origin 단어를 모두 찾아 list로 저장\n",
        "# matches 는 찾는 단어의 위치 정보를 포함하는 객체의 list 입니다.\n",
        "print(matches)\n",
        "# list 의 갯수가 n보다 작으면 n번째 단어 없음\n",
        "if len(matches) < n:\n",
        "    # return None  또는 return message\n",
        "    print(f'{n} 번째 단어 없습니다.' )\n",
        "\n",
        "# n번째 단어의 시작 인덱스,끝 인덱스를 튜플로 반환\n",
        "start, end = matches[n-1].span()\n",
        "print(f'start={start},end={end}')\n",
        "# start 앞의 문자열 슬라이싱 + dest + end 이후의 문자열 슬라이싱\n",
        "message[:start] + dest + message[end:]"
      ],
      "metadata": {
        "id": "YkbWIwO9GTnH",
        "outputId": "91a764d3-3069-4ef9-d7f5-60d22f66a986",
        "colab": {
          "base_uri": "https://localhost:8080/",
          "height": 72
        }
      },
      "execution_count": null,
      "outputs": [
        {
          "output_type": "stream",
          "name": "stdout",
          "text": [
            "[<re.Match object; span=(0, 4), match='Good'>, <re.Match object; span=(17, 21), match='Good'>, <re.Match object; span=(34, 38), match='Good'>]\n",
            "start=34,end=38\n"
          ]
        },
        {
          "output_type": "execute_result",
          "data": {
            "text/plain": [
              "'GoodBye Java, !! GoodBye Oracle!! Hi job!!'"
            ],
            "application/vnd.google.colaboratory.intrinsic+json": {
              "type": "string"
            }
          },
          "metadata": {},
          "execution_count": 79
        }
      ]
    }
  ]
}