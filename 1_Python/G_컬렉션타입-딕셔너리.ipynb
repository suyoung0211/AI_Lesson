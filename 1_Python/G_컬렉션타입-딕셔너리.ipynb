{
  "nbformat": 4,
  "nbformat_minor": 0,
  "metadata": {
    "colab": {
      "provenance": [],
      "authorship_tag": "ABX9TyM8v3l7iuZ79wRC/jLNKir4",
      "include_colab_link": true
    },
    "kernelspec": {
      "name": "python3",
      "display_name": "Python 3"
    },
    "language_info": {
      "name": "python"
    }
  },
  "cells": [
    {
      "cell_type": "markdown",
      "metadata": {
        "id": "view-in-github",
        "colab_type": "text"
      },
      "source": [
        "<a href=\"https://colab.research.google.com/github/suyoung0211/python/blob/main/G_collectiontype_dictionary.ipynb\" target=\"_parent\"><img src=\"https://colab.research.google.com/assets/colab-badge.svg\" alt=\"Open In Colab\"/></a>"
      ]
    },
    {
      "cell_type": "markdown",
      "source": [
        "### 딕셔너리\n",
        "- 기호는 { } 사용\n",
        "- 자바 Map, json 자바스크립트 객체와 유사한 타입 : key 와 value 한 쌍으로 저장\n",
        "- 가변 객체"
      ],
      "metadata": {
        "id": "OAAPOPwPIWIP"
      }
    },
    {
      "cell_type": "code",
      "source": [
        "dic1 = {}\n",
        "print(type(dic1))"
      ],
      "metadata": {
        "colab": {
          "base_uri": "https://localhost:8080/"
        },
        "id": "QLTGVru2IoHV",
        "outputId": "f17b7961-990a-46f2-fd44-72c917864321"
      },
      "execution_count": null,
      "outputs": [
        {
          "output_type": "stream",
          "name": "stdout",
          "text": [
            "<class 'dict'>\n"
          ]
        }
      ]
    },
    {
      "cell_type": "code",
      "source": [
        "# dic1[key]=값\n",
        "# ↪ 새로운 항목이 저장 또는 기존 key 의 값을 변경\n",
        "dic1['name']='김모모'  # 새로운 항목\n",
        "dic1['age']=23\n",
        "dic1"
      ],
      "metadata": {
        "colab": {
          "base_uri": "https://localhost:8080/"
        },
        "id": "RyS8iEwnI9Bi",
        "outputId": "3def2b6b-7f0c-4810-d18d-185beadd1495"
      },
      "execution_count": null,
      "outputs": [
        {
          "output_type": "execute_result",
          "data": {
            "text/plain": [
              "{'name': '김모모',\n",
              " 'age': 23,\n",
              " 10: 3.4,\n",
              " 3.14: 'Pi',\n",
              " (1, 2, 3): 'test1',\n",
              " True: 'test3'}"
            ]
          },
          "metadata": {},
          "execution_count": 30
        }
      ]
    },
    {
      "cell_type": "code",
      "source": [
        "dic1['name']='이하니'  # 기존 key 의 값을 변경"
      ],
      "metadata": {
        "id": "bCXNlT_tRdIT"
      },
      "execution_count": null,
      "outputs": []
    },
    {
      "cell_type": "code",
      "source": [
        "# key 로 value 가져오기\n",
        "print(\"dic1['name'] =\",dic1['name'],\n",
        "      \"dic1['age'] =\",dic1['age'],\n",
        "      \"dic1[(1,2,3)] =\",dic1[(1,2,3)])\n",
        "dic1"
      ],
      "metadata": {
        "colab": {
          "base_uri": "https://localhost:8080/"
        },
        "id": "rXwBp3QeRha-",
        "outputId": "d6cdd83b-940d-4a88-ae1d-fa08178f9c04"
      },
      "execution_count": null,
      "outputs": [
        {
          "output_type": "stream",
          "name": "stdout",
          "text": [
            "dic1['name'] = 이하니 dic1['age'] = 23 dic1[(1,2,3)] = test1\n"
          ]
        },
        {
          "output_type": "execute_result",
          "data": {
            "text/plain": [
              "{'name': '이하니',\n",
              " 'age': 23,\n",
              " 10: 3.4,\n",
              " 3.14: 'Pi',\n",
              " (1, 2, 3): 'test1',\n",
              " True: 'test3'}"
            ]
          },
          "metadata": {},
          "execution_count": 40
        }
      ]
    },
    {
      "cell_type": "markdown",
      "source": [
        "- key 의 타입은 반드시 불변객체\n",
        "  * key 로 사용 가능한 타입 : 정수, 실수, boolean, 문자열, 튜플, set"
      ],
      "metadata": {
        "id": "m-mAutQFJRYD"
      }
    },
    {
      "cell_type": "code",
      "source": [
        "dic1[10]=3.4\n",
        "dic1"
      ],
      "metadata": {
        "colab": {
          "base_uri": "https://localhost:8080/"
        },
        "id": "5H-C3Hs-Jhui",
        "outputId": "8b78a0df-f763-4c3a-d44f-7229e28e96cc"
      },
      "execution_count": null,
      "outputs": [
        {
          "output_type": "execute_result",
          "data": {
            "text/plain": [
              "{'name': '김모모', 'age': 23, 10: 3.4}"
            ]
          },
          "metadata": {},
          "execution_count": 6
        }
      ]
    },
    {
      "cell_type": "code",
      "source": [
        "dic1[3.14]='Pi'\n",
        "dic1"
      ],
      "metadata": {
        "colab": {
          "base_uri": "https://localhost:8080/"
        },
        "id": "PHcCK3u0JmXa",
        "outputId": "fa01c708-a093-4fec-84a7-9fff370b1836"
      },
      "execution_count": null,
      "outputs": [
        {
          "output_type": "execute_result",
          "data": {
            "text/plain": [
              "{'name': '김모모', 'age': 23, 10: 3.4, 3.14: 'Pi'}"
            ]
          },
          "metadata": {},
          "execution_count": 8
        }
      ]
    },
    {
      "cell_type": "code",
      "source": [
        "dic1[(1,2,3)]='test1'\n",
        "dic1"
      ],
      "metadata": {
        "colab": {
          "base_uri": "https://localhost:8080/"
        },
        "id": "hSrOib1TJtTy",
        "outputId": "fd9e4d6c-be4e-4175-8115-1671266ea169"
      },
      "execution_count": null,
      "outputs": [
        {
          "output_type": "execute_result",
          "data": {
            "text/plain": [
              "{'name': '김모모', 'age': 23, 10: 3.4, 3.14: 'Pi', (1, 2, 3): 'test1'}"
            ]
          },
          "metadata": {},
          "execution_count": 9
        }
      ]
    },
    {
      "cell_type": "code",
      "source": [
        "# key 의 타입이 가변객체이면 오류 => TypeError: unhashable type: 'list'\n",
        "dic1[[1,2,3]]='test2'\n",
        "dic1"
      ],
      "metadata": {
        "id": "jA106A_2J4Tv"
      },
      "execution_count": null,
      "outputs": []
    },
    {
      "cell_type": "code",
      "source": [
        "dic1[True]='test3'\n",
        "dic1"
      ],
      "metadata": {
        "colab": {
          "base_uri": "https://localhost:8080/"
        },
        "id": "iPhvVCHRJ82L",
        "outputId": "5f518157-d2d9-42dd-dac3-081a3989706b"
      },
      "execution_count": null,
      "outputs": [
        {
          "output_type": "execute_result",
          "data": {
            "text/plain": [
              "{'name': '김모모',\n",
              " 'age': 23,\n",
              " 10: 3.4,\n",
              " 3.14: 'Pi',\n",
              " (1, 2, 3): 'test1',\n",
              " True: 'test3'}"
            ]
          },
          "metadata": {},
          "execution_count": 12
        }
      ]
    },
    {
      "cell_type": "code",
      "source": [
        "# 퀴즈\n",
        "exam = {'name':'이하니',\n",
        "        'menu':['🍈','🍕','🍎','🍒'],\n",
        "        'color':{'red':'💗','blue':'💙','green':'💚'}\n",
        "      }"
      ],
      "metadata": {
        "id": "EzYxc5anLGMg"
      },
      "execution_count": null,
      "outputs": []
    },
    {
      "cell_type": "code",
      "source": [
        "# '🍎' 를 가져와서 출력하세요\n",
        "print(exam['menu'][2])\n",
        "\n",
        "# '💙' 를 가져와서 출력하세요\n",
        "print(exam['color']['blue'])\n",
        "\n",
        "# '🍎' 를 '🌊' 로 변경하세요.\n",
        "exam['menu'][2] = '🌊'\n",
        "print(\"exam['menu'] =\",exam['menu'])\n",
        "print(exam)\n",
        "\n",
        "# '💙' 를 '🍀' 로 변경하세요.\n",
        "exam['color']['blue'] = '🍀'\n",
        "print(\"exam['color'] =\",exam['color'])\n",
        "print(exam)"
      ],
      "metadata": {
        "colab": {
          "base_uri": "https://localhost:8080/"
        },
        "id": "KXVv3GWuLKqN",
        "outputId": "d305a34c-ff9e-4b2b-aa9c-855b9fcc299a"
      },
      "execution_count": null,
      "outputs": [
        {
          "output_type": "stream",
          "name": "stdout",
          "text": [
            "🍎\n",
            "💙\n",
            "exam['menu'] = ['🍈', '🍕', '🌊', '🍒']\n",
            "{'name': '이하니', 'menu': ['🍈', '🍕', '🌊', '🍒'], 'color': {'red': '💗', 'blue': '💙', 'green': '💚'}}\n",
            "exam['color'] = {'red': '💗', 'blue': '🍀', 'green': '💚'}\n",
            "{'name': '이하니', 'menu': ['🍈', '🍕', '🌊', '🍒'], 'color': {'red': '💗', 'blue': '🍀', 'green': '💚'}}\n"
          ]
        }
      ]
    },
    {
      "cell_type": "code",
      "source": [
        "exam2 = {'name':'이하니',\n",
        "        'menu':('🍈','🍕','🍎','🍒'),\n",
        "        'color':{'red':'💗','blue':'💙','green':'💚'}\n",
        "      }"
      ],
      "metadata": {
        "id": "Lxt4R3H_Tepy"
      },
      "execution_count": null,
      "outputs": []
    },
    {
      "cell_type": "code",
      "source": [
        "exam2['menu'][2] = '🌊' # TypeError: 'tuple' object does not support item assignment"
      ],
      "metadata": {
        "id": "Y-OQXcB5T9KH"
      },
      "execution_count": null,
      "outputs": []
    },
    {
      "cell_type": "markdown",
      "source": [
        "### 주요 메서드\n",
        "- dic.keys() : key 만 모아서 list 타입 dict_keys 객체 리턴\n",
        "- dic.values() : value 만 모아서 list 타입 dict_values 객체 리턴\n",
        "- dic.items() : key-value 한쌍으로 튜플 생성하고 모아서 list 타입 dict_items 객체 리턴\n",
        "- sorted 함수만 사용 가능 : key 값의 타입 모두 같을 때 key 값을 기준으로 정렬 가능"
      ],
      "metadata": {
        "id": "r49GpUfKUJXp"
      }
    },
    {
      "cell_type": "code",
      "source": [
        "print(type(exam2.keys()))\n",
        "print(exam2.keys())"
      ],
      "metadata": {
        "colab": {
          "base_uri": "https://localhost:8080/"
        },
        "id": "G_82mOCQVDVx",
        "outputId": "907b5e37-d53b-4d16-8f1d-8461b2a5ee34"
      },
      "execution_count": null,
      "outputs": [
        {
          "output_type": "stream",
          "name": "stdout",
          "text": [
            "<class 'dict_keys'>\n",
            "dict_keys(['name', 'menu', 'color'])\n"
          ]
        }
      ]
    },
    {
      "cell_type": "code",
      "source": [
        "print(type(exam2.values()))\n",
        "print(exam2.values())"
      ],
      "metadata": {
        "colab": {
          "base_uri": "https://localhost:8080/"
        },
        "id": "wZldQZrhVb53",
        "outputId": "43b47b3b-85fc-4cb1-bd65-64bdb3b0c43c"
      },
      "execution_count": null,
      "outputs": [
        {
          "output_type": "stream",
          "name": "stdout",
          "text": [
            "<class 'dict_values'>\n",
            "dict_values(['이하니', ('🍈', '🍕', '🍎', '🍒'), {'red': '💗', 'blue': '💙', 'green': '💚'}])\n"
          ]
        }
      ]
    },
    {
      "cell_type": "code",
      "source": [
        "print(type(exam2.items()))\n",
        "print(exam2.items())"
      ],
      "metadata": {
        "colab": {
          "base_uri": "https://localhost:8080/"
        },
        "id": "evEDAfOLV5I5",
        "outputId": "e92d9f3e-111a-4e62-fdcc-52878a673b26"
      },
      "execution_count": null,
      "outputs": [
        {
          "output_type": "stream",
          "name": "stdout",
          "text": [
            "<class 'dict_items'>\n",
            "dict_items([('name', '이하니'), ('menu', ('🍈', '🍕', '🍎', '🍒')), ('color', {'red': '💗', 'blue': '💙', 'green': '💚'})])\n"
          ]
        }
      ]
    },
    {
      "cell_type": "code",
      "source": [
        "# key 만 모아서 정렬. list 객체리턴\n",
        "print(type(sorted(exam2)))\n",
        "sorted(exam2)"
      ],
      "metadata": {
        "colab": {
          "base_uri": "https://localhost:8080/"
        },
        "id": "X6DZOh9CW9xU",
        "outputId": "76589f68-d239-491b-f5b5-bbaaaee6edc9"
      },
      "execution_count": null,
      "outputs": [
        {
          "output_type": "stream",
          "name": "stdout",
          "text": [
            "<class 'list'>\n"
          ]
        },
        {
          "output_type": "execute_result",
          "data": {
            "text/plain": [
              "['color', 'menu', 'name']"
            ]
          },
          "metadata": {},
          "execution_count": 67
        }
      ]
    },
    {
      "cell_type": "markdown",
      "source": [
        "- key 값으로 값을 가져오는 메소드"
      ],
      "metadata": {
        "id": "i8bTMteSuDsu"
      }
    },
    {
      "cell_type": "code",
      "source": [
        "sample = {'name':'김모모', 'age':23, 'color':'red' }"
      ],
      "metadata": {
        "id": "LHikgtFquD1j"
      },
      "execution_count": null,
      "outputs": []
    },
    {
      "cell_type": "code",
      "source": [
        "print(\"sample['name'] =\",sample['name'])"
      ],
      "metadata": {
        "colab": {
          "base_uri": "https://localhost:8080/"
        },
        "id": "aFhJrZEruD7c",
        "outputId": "60784a85-4c81-41de-f7ac-9e96c99a6fc9"
      },
      "execution_count": null,
      "outputs": [
        {
          "output_type": "stream",
          "name": "stdout",
          "text": [
            "sample['name'] = 김모모\n"
          ]
        }
      ]
    },
    {
      "cell_type": "code",
      "source": [
        "# 없는 key 값으로 가져오려는 시도\n",
        "print(sample['height'])  # KeyError: 'height'"
      ],
      "metadata": {
        "id": "3almRO31uStY"
      },
      "execution_count": null,
      "outputs": []
    },
    {
      "cell_type": "code",
      "source": [
        "# 없는 key 값을 다른 값으로 대체할 수 있는 메소드\n",
        "print(\"sample.get('height') =\",sample.get('height')) # 오류 ❌"
      ],
      "metadata": {
        "colab": {
          "base_uri": "https://localhost:8080/"
        },
        "id": "HR4JKjVbuWEN",
        "outputId": "a59a33d2-0fa7-4ff3-f13f-9ed96b8fade6"
      },
      "execution_count": null,
      "outputs": [
        {
          "output_type": "stream",
          "name": "stdout",
          "text": [
            "sample.get('height') = None\n"
          ]
        }
      ]
    },
    {
      "cell_type": "code",
      "source": [
        "print(\"sample.get('name') =\",sample.get('name'))"
      ],
      "metadata": {
        "colab": {
          "base_uri": "https://localhost:8080/"
        },
        "id": "S6GRisg5uZzj",
        "outputId": "4e5c0eff-96b7-4569-d0ec-95682f45cf0c"
      },
      "execution_count": null,
      "outputs": [
        {
          "output_type": "stream",
          "name": "stdout",
          "text": [
            "sample.get('name') = 김모모\n"
          ]
        }
      ]
    },
    {
      "cell_type": "code",
      "source": [
        "# 값이 없으면 0 이 나오도록 설정\n",
        "print(\"sample.get('height') =\",sample.get('height',0))"
      ],
      "metadata": {
        "colab": {
          "base_uri": "https://localhost:8080/"
        },
        "id": "ORT66RaBuuVZ",
        "outputId": "5421b416-efc8-4c76-8a0a-1e1e6c8122ae"
      },
      "execution_count": null,
      "outputs": [
        {
          "output_type": "stream",
          "name": "stdout",
          "text": [
            "sample.get('height') = 0\n"
          ]
        }
      ]
    },
    {
      "cell_type": "code",
      "source": [
        "# 지정된 key 항목을 삭제. value 리턴.\n",
        "print(sample.pop('name')) # 삭제할 항목 출력\n",
        "print('sample =',sample)"
      ],
      "metadata": {
        "colab": {
          "base_uri": "https://localhost:8080/"
        },
        "id": "StExQIzUuuu4",
        "outputId": "f91ebd24-9d55-48f9-a0b5-139409f617a7"
      },
      "execution_count": null,
      "outputs": [
        {
          "output_type": "stream",
          "name": "stdout",
          "text": [
            "김모모\n",
            "sample = {'age': 23, 'color': 'red'}\n"
          ]
        }
      ]
    },
    {
      "cell_type": "code",
      "source": [
        "# 없는 key 삭제시 오류\n",
        "sample.pop('weight')  # KeyError: 'weight'"
      ],
      "metadata": {
        "id": "IhmwoeYluwno"
      },
      "execution_count": null,
      "outputs": []
    },
    {
      "cell_type": "code",
      "source": [
        "# dict 의 멤버십 연산자 in\n",
        "print('weight' in sample) # False\n",
        "if 'weight' in sample:\n",
        "  print('weight key가 있습니다.')\n",
        "  sample.pop('weight')"
      ],
      "metadata": {
        "colab": {
          "base_uri": "https://localhost:8080/"
        },
        "id": "-ZTny-MKvxRl",
        "outputId": "6a970aad-4a67-43ca-f4ca-07438ed76207"
      },
      "execution_count": null,
      "outputs": [
        {
          "output_type": "stream",
          "name": "stdout",
          "text": [
            "False\n"
          ]
        }
      ]
    },
    {
      "cell_type": "code",
      "source": [
        "key='color'\n",
        "if key in sample:\n",
        "  print(key +'  있습니다.')\n",
        "  print(sample.pop(key))"
      ],
      "metadata": {
        "colab": {
          "base_uri": "https://localhost:8080/"
        },
        "id": "x2DG8-hPvzNH",
        "outputId": "d358d988-b42e-4b24-efca-8fffc7aa6598"
      },
      "execution_count": null,
      "outputs": [
        {
          "output_type": "stream",
          "name": "stdout",
          "text": [
            "color  있습니다.\n",
            "red\n"
          ]
        }
      ]
    },
    {
      "cell_type": "code",
      "source": [
        "sample"
      ],
      "metadata": {
        "colab": {
          "base_uri": "https://localhost:8080/"
        },
        "id": "ul4GmUW8v1Eq",
        "outputId": "c19aa603-a7b2-41d7-b941-d7f9e5cc6f4a"
      },
      "execution_count": null,
      "outputs": [
        {
          "output_type": "execute_result",
          "data": {
            "text/plain": [
              "{'age': 23}"
            ]
          },
          "metadata": {},
          "execution_count": 36
        }
      ]
    },
    {
      "cell_type": "code",
      "source": [
        "name = input('이름을 입력하세요. >>>> ')\n",
        "name"
      ],
      "metadata": {
        "colab": {
          "base_uri": "https://localhost:8080/",
          "height": 54
        },
        "id": "yZg8b2m_wv8T",
        "outputId": "4b62225b-358d-40fe-d3af-e142c015fa11"
      },
      "execution_count": null,
      "outputs": [
        {
          "name": "stdout",
          "output_type": "stream",
          "text": [
            "이름을 입력하세요. >>>> 김모모\n"
          ]
        },
        {
          "output_type": "execute_result",
          "data": {
            "text/plain": [
              "'김모모'"
            ],
            "application/vnd.google.colaboratory.intrinsic+json": {
              "type": "string"
            }
          },
          "metadata": {},
          "execution_count": 37
        }
      ]
    },
    {
      "cell_type": "code",
      "source": [
        "age = input('나이를 입력하세요. >>>> ')\n",
        "print('type(age) :',type(age))   # str\n",
        "print('type(int(age)) :',type(int(age)))  # int\n",
        "# input 으로 입력값을 받으면 string 으로 받음"
      ],
      "metadata": {
        "colab": {
          "base_uri": "https://localhost:8080/"
        },
        "id": "Yv9R3mifww-L",
        "outputId": "b0d35199-a230-468c-c982-30476fdaa5d8"
      },
      "execution_count": null,
      "outputs": [
        {
          "output_type": "stream",
          "name": "stdout",
          "text": [
            "나이를 입력하세요. >>>> 23\n",
            "type(age) : <class 'str'>\n",
            "type(int(age)) : <class 'int'>\n"
          ]
        }
      ]
    }
  ]
}