{
  "nbformat": 4,
  "nbformat_minor": 0,
  "metadata": {
    "colab": {
      "provenance": [],
      "authorship_tag": "ABX9TyNndCh/YKXebs5gAgqmgOB3",
      "include_colab_link": true
    },
    "kernelspec": {
      "name": "python3",
      "display_name": "Python 3"
    },
    "language_info": {
      "name": "python"
    }
  },
  "cells": [
    {
      "cell_type": "markdown",
      "metadata": {
        "id": "view-in-github",
        "colab_type": "text"
      },
      "source": [
        "<a href=\"https://colab.research.google.com/github/suyoung0211/python/blob/main/F_collectiontype_tuple.ipynb\" target=\"_parent\"><img src=\"https://colab.research.google.com/assets/colab-badge.svg\" alt=\"Open In Colab\"/></a>"
      ]
    },
    {
      "cell_type": "markdown",
      "source": [
        "### 튜플\n",
        "- 불변객체 리스트\n",
        "- 리스트와의 차이점 : 추가 / 수정 / 삭제 불가능\n",
        "- 기호는 소괄고 ()\n",
        "- 딥러닝 / 머신러닝에서 많이 사용됩니다."
      ],
      "metadata": {
        "id": "gLm6el6kCmZ7"
      }
    },
    {
      "cell_type": "code",
      "source": [
        "(1, 2, 3, 4)"
      ],
      "metadata": {
        "colab": {
          "base_uri": "https://localhost:8080/"
        },
        "id": "AFtXaX5bDGxi",
        "outputId": "a377021f-ecc1-4c2c-dc88-4526440a9569"
      },
      "execution_count": null,
      "outputs": [
        {
          "output_type": "execute_result",
          "data": {
            "text/plain": [
              "(1, 2, 3, 4)"
            ]
          },
          "metadata": {},
          "execution_count": 1
        }
      ]
    },
    {
      "cell_type": "code",
      "source": [
        "print(type((1, 2, 3, 4)))"
      ],
      "metadata": {
        "colab": {
          "base_uri": "https://localhost:8080/"
        },
        "id": "qXykMGuLDJor",
        "outputId": "ae7d37a8-836d-4a3b-f87f-9a07f77eacc1"
      },
      "execution_count": null,
      "outputs": [
        {
          "output_type": "stream",
          "name": "stdout",
          "text": [
            "<class 'tuple'>\n"
          ]
        }
      ]
    },
    {
      "cell_type": "code",
      "source": [
        "tu1 = (1)\n",
        "print(type(tu1))"
      ],
      "metadata": {
        "colab": {
          "base_uri": "https://localhost:8080/"
        },
        "id": "B0JTHWyEDVZ7",
        "outputId": "b98e7d10-cc56-4a7c-bee7-a034dd9877e7"
      },
      "execution_count": null,
      "outputs": [
        {
          "output_type": "stream",
          "name": "stdout",
          "text": [
            "<class 'int'>\n"
          ]
        }
      ]
    },
    {
      "cell_type": "code",
      "source": [
        "# 1개의 요소를 갖는 튜플\n",
        "tu1 = (1,)\n",
        "print(type(tu1))"
      ],
      "metadata": {
        "colab": {
          "base_uri": "https://localhost:8080/"
        },
        "id": "CfjRNlNNDgVf",
        "outputId": "e2182408-a6dd-4c8d-83a6-e8ca90ea660f"
      },
      "execution_count": null,
      "outputs": [
        {
          "output_type": "stream",
          "name": "stdout",
          "text": [
            "<class 'tuple'>\n"
          ]
        }
      ]
    },
    {
      "cell_type": "markdown",
      "source": [
        "### 인덱싱과 슬라이싱\n",
        "- 요소값을 변경 시켜주는 구문은 오류\n",
        "- 일반적인 가져오는 구문은 리스트와 동일"
      ],
      "metadata": {
        "id": "J2IdcoDvDsiu"
      }
    },
    {
      "cell_type": "code",
      "source": [
        "tu1 = (1, 3, 5, 7)\n",
        "tu1[2]"
      ],
      "metadata": {
        "colab": {
          "base_uri": "https://localhost:8080/"
        },
        "id": "BFgXvS8hD5t0",
        "outputId": "420774e4-6eb9-49d5-d9c6-2a41d101af33"
      },
      "execution_count": null,
      "outputs": [
        {
          "output_type": "execute_result",
          "data": {
            "text/plain": [
              "5"
            ]
          },
          "metadata": {},
          "execution_count": 8
        }
      ]
    },
    {
      "cell_type": "code",
      "source": [
        "tu1[2] = 10 # TypeError: 'tuple' object does not support item assignment"
      ],
      "metadata": {
        "id": "bPfVZUSqEAuU"
      },
      "execution_count": null,
      "outputs": []
    },
    {
      "cell_type": "code",
      "source": [
        "tu1[1:3]"
      ],
      "metadata": {
        "colab": {
          "base_uri": "https://localhost:8080/"
        },
        "id": "IQ0sMEqVELF7",
        "outputId": "7e1111dd-7e39-4589-e401-bface3ed90d6"
      },
      "execution_count": null,
      "outputs": [
        {
          "output_type": "execute_result",
          "data": {
            "text/plain": [
              "(3, 5)"
            ]
          },
          "metadata": {},
          "execution_count": 11
        }
      ]
    },
    {
      "cell_type": "markdown",
      "source": [
        "- 리스트를 튜플로 변환\n",
        "  * tuple( ) 생성자 함수 사용"
      ],
      "metadata": {
        "id": "dMwqFhDXEQEt"
      }
    },
    {
      "cell_type": "code",
      "source": [
        "tu2 = tuple([1, 2, 3, 4])\n",
        "print(tu2)"
      ],
      "metadata": {
        "colab": {
          "base_uri": "https://localhost:8080/"
        },
        "id": "IWOsG-spEZD7",
        "outputId": "b3ec55d1-d096-4d2e-8268-b2c2e8ee7f8c"
      },
      "execution_count": null,
      "outputs": [
        {
          "output_type": "stream",
          "name": "stdout",
          "text": [
            "(1, 2, 3, 4)\n"
          ]
        }
      ]
    },
    {
      "cell_type": "markdown",
      "source": [
        "### 패킹과 언패킹\n",
        "- 튜플 정의 할 때 ( ) 생략 가능\n",
        "  * 패킹(packing) : 변수 또는 값을 나열하여 하나의 변수에 대입하여 튜플 생성\n",
        "  * 언패킹(unpacking) : 튜플의 항목들을 순차적으로 여러 변수에 대입하는 구문"
      ],
      "metadata": {
        "id": "PhTvQjS2EojM"
      }
    },
    {
      "cell_type": "code",
      "source": [
        "# 패킹\n",
        "tu3 = 1, 3, 5, 7, 9\n",
        "tu3"
      ],
      "metadata": {
        "colab": {
          "base_uri": "https://localhost:8080/"
        },
        "id": "pasvl-lsEvRC",
        "outputId": "62e19aa1-fe2f-4ca0-a723-7da5c9af2778"
      },
      "execution_count": null,
      "outputs": [
        {
          "output_type": "execute_result",
          "data": {
            "text/plain": [
              "(1, 3, 5, 7, 9)"
            ]
          },
          "metadata": {},
          "execution_count": 13
        }
      ]
    },
    {
      "cell_type": "code",
      "source": [
        "# 언패킹\n",
        "n1, n2, n3, n4, n5 = tu3\n",
        "print(n1,n2,n3,n4,n5)"
      ],
      "metadata": {
        "colab": {
          "base_uri": "https://localhost:8080/"
        },
        "id": "GMzJSl94E6rE",
        "outputId": "6d70da54-0bb4-41ef-e8d6-14c93ae58a50"
      },
      "execution_count": null,
      "outputs": [
        {
          "output_type": "stream",
          "name": "stdout",
          "text": [
            "1 3 5 7 9\n"
          ]
        }
      ]
    },
    {
      "cell_type": "code",
      "source": [
        "# 리스트의 언패킹\n",
        "n1, n2, n3, n4, n5 = [11, 33, 55, 77, 99]\n",
        "print(n1,n2,n3,n4,n5)"
      ],
      "metadata": {
        "colab": {
          "base_uri": "https://localhost:8080/"
        },
        "id": "9qKreIXrFoAp",
        "outputId": "a64f7791-448e-4ad6-8467-25074c7c356c"
      },
      "execution_count": null,
      "outputs": [
        {
          "output_type": "stream",
          "name": "stdout",
          "text": [
            "11 33 55 77 99\n"
          ]
        }
      ]
    },
    {
      "cell_type": "markdown",
      "source": [
        "- 튜플 연결(+), 반복(*), 연산 가능 : 새로운 튜플 리턴\n",
        "- 리스트의 sort( ) 메소드는 불변 객체이므로 사용 못함\n",
        "- sorted( ) 함수는 새로운 리스트, 튜플 리턴하므로 사용 가능"
      ],
      "metadata": {
        "id": "wkceYgoLF5M-"
      }
    },
    {
      "cell_type": "markdown",
      "source": [
        "### 멤버십 연산\n",
        "- in 연산자 : 리스트와 튜플에서 사용. 특정값이 요소에 포함되어 있는지 확인"
      ],
      "metadata": {
        "id": "EL40wsuzHFpp"
      }
    },
    {
      "cell_type": "code",
      "source": [
        "print(2 in [2,4,6,8,10])\n",
        "print(7 in [2,4,6,8,10])\n",
        "print(4 in (2,4,6,8,10))\n",
        "print(5 in (2,4,6,8,10))"
      ],
      "metadata": {
        "colab": {
          "base_uri": "https://localhost:8080/"
        },
        "id": "i-lrpBDsHjSh",
        "outputId": "e00f1c34-4991-4e1c-a5e8-4c37dc8dc24b"
      },
      "execution_count": null,
      "outputs": [
        {
          "output_type": "stream",
          "name": "stdout",
          "text": [
            "True\n",
            "False\n",
            "True\n",
            "False\n"
          ]
        }
      ]
    }
  ]
}