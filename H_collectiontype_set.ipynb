{
  "nbformat": 4,
  "nbformat_minor": 0,
  "metadata": {
    "colab": {
      "provenance": [],
      "include_colab_link": true
    },
    "kernelspec": {
      "name": "python3",
      "display_name": "Python 3"
    },
    "language_info": {
      "name": "python"
    }
  },
  "cells": [
    {
      "cell_type": "markdown",
      "metadata": {
        "id": "view-in-github",
        "colab_type": "text"
      },
      "source": [
        "<a href=\"https://colab.research.google.com/github/suyoung0211/python/blob/main/H_collectiontype_set.ipynb\" target=\"_parent\"><img src=\"https://colab.research.google.com/assets/colab-badge.svg\" alt=\"Open In Colab\"/></a>"
      ]
    },
    {
      "cell_type": "markdown",
      "source": [
        "## Set\n",
        "- set : 중복되지 않는 항목들의 컬렉션. 가변객체\n",
        "- 순서 없는 컬렉션.: ❌ 인덱싱과 슬라이싱 ❌\n",
        "- __불변객체__ 만 저장할 수 있음.(딕셔너리의 key 의 조건과 같음)\n",
        "- 중괄호 {}를 사용하여 생성하거나 set() 함수를 사용하여 생성"
      ],
      "metadata": {
        "id": "KDsJxTiKWc6p"
      }
    },
    {
      "cell_type": "code",
      "source": [
        "a = [1,2,3,4,5,3,4]   # 리스트\n",
        "b = (1,2,3,4,5,3,4)   # 튜플\n",
        "c= {1,2,3,4,5,3,4}    # set : 값의 나열에 순서 없음\n",
        "d = 1,2,3,4,5,3,4     # 튜플\n",
        "print(len(a))\n",
        "print(len(b))\n",
        "print(len(c))   # 중복된 값은 2번 저장하지 않음.\n",
        "print(len(d))"
      ],
      "metadata": {
        "colab": {
          "base_uri": "https://localhost:8080/"
        },
        "id": "gIO6NNX_Wq01",
        "outputId": "de29339a-18c8-41e3-85cb-e943a5543c5b"
      },
      "execution_count": null,
      "outputs": [
        {
          "output_type": "stream",
          "name": "stdout",
          "text": [
            "7\n",
            "7\n",
            "5\n",
            "7\n"
          ]
        }
      ]
    },
    {
      "cell_type": "markdown",
      "source": [
        "- 인덱싱 과 슬라이싱 못함."
      ],
      "metadata": {
        "id": "vfNt96_E3rgH"
      }
    },
    {
      "cell_type": "code",
      "source": [
        "# 인덱싱 - 2번 인덱스값을 가져오기\n",
        "# print(c[2])    # 인덱싱 불가 TypeError: 'set' object is not subscriptable"
      ],
      "metadata": {
        "id": "-CRTkPMEZHGk"
      },
      "execution_count": null,
      "outputs": []
    },
    {
      "cell_type": "markdown",
      "source": [
        "- 가변 객체 저장 못함."
      ],
      "metadata": {
        "id": "hy8sOKPE4L91"
      }
    },
    {
      "cell_type": "code",
      "source": [
        "c={1,2,(3,4),5,(3,4)}\n",
        "c"
      ],
      "metadata": {
        "colab": {
          "base_uri": "https://localhost:8080/"
        },
        "id": "Wq1iLAOiXYGT",
        "outputId": "0f997e9a-c37e-4604-cb2f-ea83ab965666"
      },
      "execution_count": null,
      "outputs": [
        {
          "output_type": "execute_result",
          "data": {
            "text/plain": [
              "{(3, 4), 1, 2, 5}"
            ]
          },
          "metadata": {},
          "execution_count": 2
        }
      ]
    },
    {
      "cell_type": "code",
      "source": [
        "d={1,2,[3,4],5,[3,4]}   # 오류 : unhashable type: 'list'\n",
        "# set 에는 가변객체는 저장하지 못함. 가변객체는 unhashable(해쉬를 만들 수 없다.)\n",
        "# set 은 중복값을 체크할 수 있어야 합니다.\n",
        "# 같은 요소로 구성된 튜플은 같은 해쉬값을 갖도록 계산이 가능함\n",
        "# 같은 요소로 구성된 리스트는 같은 해쉬값을 갖도록 계산이 불가능함\n",
        "d"
      ],
      "metadata": {
        "id": "L59MWjDPXcEL"
      },
      "execution_count": null,
      "outputs": []
    },
    {
      "cell_type": "code",
      "source": [
        "# 튜플 : 튜플 자체는 불변 객체 , but 가변 개체를 저장할 수 있음. (why: 항목/요소는 인덱스로 구분하는 리스트와 같음)\n",
        "d=(1,2,[3,4],5,[3,4])\n",
        "d"
      ],
      "metadata": {
        "colab": {
          "base_uri": "https://localhost:8080/"
        },
        "id": "BUfhJILqXju0",
        "outputId": "ee29d307-0637-44e8-abb4-bba017e65a79"
      },
      "execution_count": null,
      "outputs": [
        {
          "output_type": "execute_result",
          "data": {
            "text/plain": [
              "(1, 2, [3, 4], 5, [3, 4])"
            ]
          },
          "metadata": {},
          "execution_count": 3
        }
      ]
    },
    {
      "cell_type": "code",
      "source": [
        "# set : 집합 자체는 가변 객체 , but 가변 객체를 저장할 수 없음.(why: 중복값 처리 필요)\n",
        "c={1,2,(3,4),5,(3,4)}\n",
        "# c={1,2,[3,4],5,[3,4]} # 오류"
      ],
      "metadata": {
        "id": "v6AusYHyciBf"
      },
      "execution_count": null,
      "outputs": []
    },
    {
      "cell_type": "code",
      "source": [
        "type(d)"
      ],
      "metadata": {
        "colab": {
          "base_uri": "https://localhost:8080/"
        },
        "id": "zffUnrn2XlRU",
        "outputId": "652c1ae3-9769-4fba-ee9b-e5c627231e94"
      },
      "execution_count": null,
      "outputs": [
        {
          "output_type": "execute_result",
          "data": {
            "text/plain": [
              "tuple"
            ]
          },
          "metadata": {},
          "execution_count": 6
        }
      ]
    },
    {
      "cell_type": "markdown",
      "source": [
        "- 비어있는 {}"
      ],
      "metadata": {
        "id": "CRQA9XLB5BZt"
      }
    },
    {
      "cell_type": "code",
      "source": [
        "s1={}    #  딕셔너리\n",
        "print(type(s1))\n",
        "s1"
      ],
      "metadata": {
        "colab": {
          "base_uri": "https://localhost:8080/"
        },
        "id": "rEsKBgb7Xof-",
        "outputId": "96cacfef-a998-446d-8a80-21f0f1626050"
      },
      "execution_count": null,
      "outputs": [
        {
          "output_type": "stream",
          "name": "stdout",
          "text": [
            "<class 'dict'>\n"
          ]
        },
        {
          "output_type": "execute_result",
          "data": {
            "text/plain": [
              "{}"
            ]
          },
          "metadata": {},
          "execution_count": 5
        }
      ]
    },
    {
      "cell_type": "code",
      "source": [
        "s1 = {1,3,5,7}\n",
        "print(type(s1))\n",
        "s1"
      ],
      "metadata": {
        "colab": {
          "base_uri": "https://localhost:8080/"
        },
        "id": "jPCnZZexXqHw",
        "outputId": "6cc9f015-f0c1-4cb2-c4ae-18f54f37d023"
      },
      "execution_count": null,
      "outputs": [
        {
          "output_type": "stream",
          "name": "stdout",
          "text": [
            "<class 'set'>\n"
          ]
        },
        {
          "output_type": "execute_result",
          "data": {
            "text/plain": [
              "{1, 3, 5, 7}"
            ]
          },
          "metadata": {},
          "execution_count": 10
        }
      ]
    },
    {
      "cell_type": "markdown",
      "source": [
        "- list 에서 set 으로 변환"
      ],
      "metadata": {
        "id": "ALmclS2N6aPH"
      }
    },
    {
      "cell_type": "code",
      "source": [
        "lst = [1, 3, 5, 7, 7, 7, 5]\n",
        "print('len(lst) :',len(lst))\n",
        "s3 = set(lst)\n",
        "print('s3 =',s3)\n",
        "print('len(s3) :',len(s3))\n",
        "print('type(s3) :', type(s3))"
      ],
      "metadata": {
        "colab": {
          "base_uri": "https://localhost:8080/"
        },
        "id": "u_c9chLgX8LY",
        "outputId": "bc866567-ce56-47a1-d49f-52a23fbfb28e"
      },
      "execution_count": null,
      "outputs": [
        {
          "output_type": "stream",
          "name": "stdout",
          "text": [
            "len(lst) : 7\n",
            "s3 = {1, 3, 5, 7}\n",
            "len(s3) : 4\n",
            "type(s3) : <class 'set'>\n"
          ]
        }
      ]
    },
    {
      "cell_type": "code",
      "source": [
        "newlist=list(s3)\n",
        "print('type(list(s3)) :', type(list(s3)))\n",
        "print('s3 =',s3)"
      ],
      "metadata": {
        "colab": {
          "base_uri": "https://localhost:8080/"
        },
        "id": "cjKluX61jZv9",
        "outputId": "e180dfaf-4ff1-4253-b51f-f4e89eb4332c"
      },
      "execution_count": null,
      "outputs": [
        {
          "output_type": "stream",
          "name": "stdout",
          "text": [
            "type(list(s3)) : <class 'list'>\n",
            "s3 = {1, 3, 5, 7}\n"
          ]
        }
      ]
    },
    {
      "cell_type": "markdown",
      "source": [
        "### 참고\n",
        "- 파이썬은 list, set, tuple 등등의 예약어를 변수명으로 정의할 때 오류 발생 안함\n",
        "- 그 이후 list, setm tuple 의 함수 사용이 불가. 참조를 덮어 씀"
      ],
      "metadata": {
        "id": "lSMouhpEkMVn"
      }
    },
    {
      "cell_type": "markdown",
      "source": [
        "### 메소드\n",
        "- 요소 추가하기\n",
        "  * add : 단일 요소 추가\n",
        "  * update : 여러 요소 추가\n",
        "  "
      ],
      "metadata": {
        "id": "aJ000hfWYcTW"
      }
    },
    {
      "cell_type": "code",
      "source": [
        "s1 = {1, 3, 5, 7}\n",
        "print(s1)\n",
        "\n",
        "# add(): 세트의 요소를 추가\n",
        "s1.add(2)\n",
        "print(s1)\n",
        "s1.add(4)\n",
        "print(s1)\n",
        "s1.add(7)\n",
        "print(s1)"
      ],
      "metadata": {
        "id": "3EzJDGyiYlzs",
        "colab": {
          "base_uri": "https://localhost:8080/"
        },
        "outputId": "f22e1aa4-e60b-411e-ed11-744d526ad586"
      },
      "execution_count": null,
      "outputs": [
        {
          "output_type": "stream",
          "name": "stdout",
          "text": [
            "{1, 3, 5, 7}\n",
            "{1, 2, 3, 5, 7}\n",
            "{1, 2, 3, 4, 5, 7}\n",
            "{1, 2, 3, 4, 5, 7}\n"
          ]
        }
      ]
    },
    {
      "cell_type": "code",
      "source": [
        "# 왜 오류 일까요?\n",
        "s2={}         # 딕셔너리\n",
        "print(type(s2))\n",
        "s2.add(2)     # add 메소드는 set 객체로 실행\n",
        "# AttributeError: 'dict' object has no attribute 'add'"
      ],
      "metadata": {
        "id": "3RLHXC1FZ7Oy"
      },
      "execution_count": null,
      "outputs": []
    },
    {
      "cell_type": "code",
      "source": [
        "# set() 로 빈집합을 만들면 add 사용가능\n",
        "s2=set()\n",
        "print(s2)\n",
        "s2.add(2)\n",
        "print(s2)"
      ],
      "metadata": {
        "colab": {
          "base_uri": "https://localhost:8080/"
        },
        "id": "VB91dnCGgzKq",
        "outputId": "a95972d6-89fc-48a8-ce29-ec61980c0f86"
      },
      "execution_count": null,
      "outputs": [
        {
          "output_type": "stream",
          "name": "stdout",
          "text": [
            "set()\n",
            "{2}\n"
          ]
        }
      ]
    },
    {
      "cell_type": "markdown",
      "source": [
        "- 여러 요소를 추가하기"
      ],
      "metadata": {
        "id": "LDGEjXx56yXs"
      }
    },
    {
      "cell_type": "code",
      "source": [
        "# set 에 여러 요소를 set 으로 추가하기\n",
        "s1.update({2,3,5,8,10})\n",
        "s1"
      ],
      "metadata": {
        "colab": {
          "base_uri": "https://localhost:8080/"
        },
        "id": "qO7yOzooaK0X",
        "outputId": "e63bbc0e-0a95-4f3c-fb6a-6e26c4c56d56"
      },
      "execution_count": null,
      "outputs": [
        {
          "output_type": "execute_result",
          "data": {
            "text/plain": [
              "{1, 2, 3, 4, 5, 7, 8, 10}"
            ]
          },
          "metadata": {},
          "execution_count": 10
        }
      ]
    },
    {
      "cell_type": "code",
      "source": [
        "# set 에 여러 요소를 list 로 추가하기\n",
        "s1.update([1,11,22,7])\n",
        "s1"
      ],
      "metadata": {
        "colab": {
          "base_uri": "https://localhost:8080/"
        },
        "id": "eXG8n1hYaNqG",
        "outputId": "4ca0bf31-81cf-4aca-9ca6-61b077956c02"
      },
      "execution_count": null,
      "outputs": [
        {
          "output_type": "execute_result",
          "data": {
            "text/plain": [
              "{1, 2, 3, 4, 5, 7, 8, 10, 11, 22}"
            ]
          },
          "metadata": {},
          "execution_count": 11
        }
      ]
    },
    {
      "cell_type": "code",
      "source": [
        "# set 에 여러 요소를 튜플 로 추가하기\n",
        "s1.update((4,7,9,11,44,77))\n",
        "s1"
      ],
      "metadata": {
        "colab": {
          "base_uri": "https://localhost:8080/"
        },
        "id": "0FpkqXw9lfNw",
        "outputId": "555ba3bb-557c-45ff-ec65-9dc293beed28"
      },
      "execution_count": null,
      "outputs": [
        {
          "output_type": "execute_result",
          "data": {
            "text/plain": [
              "{1, 2, 3, 4, 5, 7, 8, 9, 10, 11, 22, 44, 77}"
            ]
          },
          "metadata": {},
          "execution_count": 12
        }
      ]
    },
    {
      "cell_type": "markdown",
      "source": [
        "- remove\n",
        "  * 요소 (값) 제거 : 삭제하려는 값이 존재하지 않으면 오류"
      ],
      "metadata": {
        "id": "0kv-FZpv7ART"
      }
    },
    {
      "cell_type": "code",
      "source": [
        "s1={1,3,5,7}\n",
        "s1.remove(3)\n",
        "print(s1)\n",
        "#s1.remove(4) # KeyError: 4"
      ],
      "metadata": {
        "id": "O65qkOh7aTTG",
        "colab": {
          "base_uri": "https://localhost:8080/"
        },
        "outputId": "f47da982-489e-4b98-f628-e9cb2d2b9444"
      },
      "execution_count": null,
      "outputs": [
        {
          "output_type": "stream",
          "name": "stdout",
          "text": [
            "{1, 5, 7}\n"
          ]
        }
      ]
    },
    {
      "cell_type": "markdown",
      "source": [
        "- discard\n",
        "  * 요소 (값) 제거 : 삭제하려는 값이 존재하지 않아도 오류 없음"
      ],
      "metadata": {
        "id": "6cQOmx307OSb"
      }
    },
    {
      "cell_type": "code",
      "source": [
        "s1={1,3,5,7}\n",
        "s1.discard(5)\n",
        "print(s1)\n",
        "s1.discard(4)\n",
        "print(s1)"
      ],
      "metadata": {
        "id": "rTSGaKQhaXEe",
        "colab": {
          "base_uri": "https://localhost:8080/"
        },
        "outputId": "0dcb6f79-4f4a-4d8a-c0bf-a9ce4ed4079b"
      },
      "execution_count": null,
      "outputs": [
        {
          "output_type": "stream",
          "name": "stdout",
          "text": [
            "{1, 3, 7}\n",
            "{1, 3, 7}\n"
          ]
        }
      ]
    },
    {
      "cell_type": "markdown",
      "source": [
        "- set 특징 메소드\n",
        "  + union() : 합집합\n",
        "  + intersection() : 교집합\n",
        "  + difference() : 차집합\n",
        "  + issubset() : boolean 리턴\n",
        "  + issuperset() : boolean 리턴"
      ],
      "metadata": {
        "id": "a5Xs9Jaw7v1j"
      }
    },
    {
      "cell_type": "code",
      "source": [
        "# union() : 합집합\n",
        "s1 = {10,20,30,40,50}\n",
        "s2 = {30,40,50,60,70}\n",
        "result1 = s1.union(s2)\n",
        "print(result1)\n",
        "result2 = s1 | s2   # | <- set 의 합집합 연산기호\n",
        "print(result2)\n"
      ],
      "metadata": {
        "colab": {
          "base_uri": "https://localhost:8080/"
        },
        "id": "mQqg3Ql7d56s",
        "outputId": "7491552c-c81f-435f-912a-d1c71ba00024"
      },
      "execution_count": null,
      "outputs": [
        {
          "output_type": "stream",
          "name": "stdout",
          "text": [
            "{70, 40, 10, 50, 20, 60, 30}\n",
            "{70, 40, 10, 50, 20, 60, 30}\n"
          ]
        }
      ]
    },
    {
      "cell_type": "markdown",
      "source": [
        "### 컬렉션 복사\n",
        "- 가변 객체 list,dict,set 은 copy() 메소드를 갖는다.\n",
        "- 얕은 복사 : shallow copy.  새로운 set 객체는 만들지만 내부의 불변값들까지 복사하지 않는다.\n"
      ],
      "metadata": {
        "id": "pTSodT9M9Qp6"
      }
    },
    {
      "cell_type": "code",
      "source": [
        "#copy() : set을 복사\n",
        "s1 = {1,3,5,7}\n",
        "# s2=s1            # 새로운 객체만들지 않고 s1과 같은 참조\n",
        "s2=s1.copy()       # 얕은 복사 shallow copy : 새로운 set 객체는 만들지만 내부의 불변값들까지 복사하지 않는다.\n",
        "print(s1)\n",
        "print(s2)\n",
        "print('id(s1) =',id(s1))   # s1 변수의 주소\n",
        "print('id(s2) =',id(s2))   # 대입문과 copy 메소드 결과의 차이점 비교\n",
        "# 수정해도 불변객체라 영향 없음\n",
        "s1.add(99)\n",
        "print('s1 =',s1)\n",
        "print('s2 =',s2)"
      ],
      "metadata": {
        "id": "lkx7mCkiaQqo",
        "colab": {
          "base_uri": "https://localhost:8080/"
        },
        "outputId": "ab925662-ba5a-4185-8563-f38b2459b18e"
      },
      "execution_count": null,
      "outputs": [
        {
          "output_type": "stream",
          "name": "stdout",
          "text": [
            "{1, 3, 5, 7}\n",
            "{1, 3, 5, 7}\n",
            "id(s1) = 132771540223360\n",
            "id(s2) = 132771540226272\n",
            "s1 = {1, 99, 3, 5, 7}\n",
            "s2 = {1, 3, 5, 7}\n"
          ]
        }
      ]
    },
    {
      "cell_type": "code",
      "source": [
        "# origina 을 copy() 해서 shallow_copy 생성\n",
        "original = [1, [2, 3], 4]\n",
        "shallow_copy = original.copy()\n",
        "print('original =',original)\n",
        "print('shallow_copy =',shallow_copy)"
      ],
      "metadata": {
        "colab": {
          "base_uri": "https://localhost:8080/"
        },
        "id": "ezcLqDFKocOm",
        "outputId": "7d98aef8-7d98-41b6-bb7c-34e1f6c1a215"
      },
      "execution_count": null,
      "outputs": [
        {
          "output_type": "stream",
          "name": "stdout",
          "text": [
            "original = [1, [2, 3], 4]\n",
            "shallow_copy = [1, [2, 3], 4]\n"
          ]
        }
      ]
    },
    {
      "cell_type": "code",
      "source": [
        "# original과 shallow_copy 의 인덱스 1번 list(가변객체) 는 주소가 같음.-> 얕은 복사\n",
        "# original 을 수정하면 shallow_copy 의 가변객체가 같이 변경\n",
        "shallow_copy[1].append(99)\n",
        "print('original =',original)\n",
        "print('shallow_copy =',shallow_copy)"
      ],
      "metadata": {
        "colab": {
          "base_uri": "https://localhost:8080/"
        },
        "id": "326Rebk8omlQ",
        "outputId": "edea3ad8-7609-4424-a68b-1d164476d2c2"
      },
      "execution_count": null,
      "outputs": [
        {
          "output_type": "stream",
          "name": "stdout",
          "text": [
            "original = [1, [2, 3, 99, 99], 4]\n",
            "shallow_copy = [1, [2, 3, 99, 99], 4]\n"
          ]
        }
      ]
    },
    {
      "cell_type": "markdown",
      "source": [
        "- 깊은 복사 : deep copy.\n",
        "  + 원본 객체뿐 아니라 그 내부에 포함된 모든 객체까지 새롭게 복사한다.\n",
        "  + 복사 후  원본과 완전히 독립적으로 동작해야 할 때 필요함.\n",
        "  + 복사 대상이 너무 크거나 복잡하면 성능에 나쁜 영향 있음\n"
      ],
      "metadata": {
        "id": "QNpeF1fwd82d"
      }
    },
    {
      "cell_type": "code",
      "source": [
        "import copy\n",
        "original = [1, [2, 3], 4]\n",
        "deep_copied = copy.deepcopy(original)\n",
        "\n",
        "# 수정해도 원본에 영향 없음\n",
        "deep_copied[1].append(99)\n",
        "# original과 deep_copied  의 인덱스 1번 list(가변객체) 는 주소가 다름.\n",
        "# -> 깊은 복사는 가변객체의 데이터를 그대로 복사해서 새로 생성.\n",
        "print(\"original:\", original)       # [1, [2, 3], 4]\n",
        "print(\"deep_copied:\", deep_copied) # [1, [2, 3, 99], 4]"
      ],
      "metadata": {
        "colab": {
          "base_uri": "https://localhost:8080/"
        },
        "id": "hDDQ93GK-UTG",
        "outputId": "8b75c095-28d6-4028-fa60-e847ba28ac2a"
      },
      "execution_count": null,
      "outputs": [
        {
          "output_type": "stream",
          "name": "stdout",
          "text": [
            "original: [1, [2, 3], 4]\n",
            "deep_copied: [1, [2, 3, 99], 4]\n"
          ]
        }
      ]
    }
  ]
}