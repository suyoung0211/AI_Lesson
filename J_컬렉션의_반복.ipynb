{
  "nbformat": 4,
  "nbformat_minor": 0,
  "metadata": {
    "colab": {
      "provenance": [],
      "authorship_tag": "ABX9TyMmdUrlBZNnWX5HnaIKW6+A",
      "include_colab_link": true
    },
    "kernelspec": {
      "name": "python3",
      "display_name": "Python 3"
    },
    "language_info": {
      "name": "python"
    }
  },
  "cells": [
    {
      "cell_type": "markdown",
      "metadata": {
        "id": "view-in-github",
        "colab_type": "text"
      },
      "source": [
        "<a href=\"https://colab.research.google.com/github/suyoung0211/Python/blob/main/J_%EC%BB%AC%EB%A0%89%EC%85%98%EC%9D%98_%EB%B0%98%EB%B3%B5.ipynb\" target=\"_parent\"><img src=\"https://colab.research.google.com/assets/colab-badge.svg\" alt=\"Open In Colab\"/></a>"
      ]
    },
    {
      "cell_type": "markdown",
      "source": [
        "### 컬렉션과 for\n",
        "- 컬렉션 : 많은 데이터들을 저장하는 자료구조 -> 반복 필수\n",
        "- list, tuple, set, dict : 반복 객체\n",
        "  * list,tuple : 순서가 있음. 인덱싱/슬라이싱을 할 수 있음.\n",
        "  * tuple : 요소를 변경할 수 없는 불변객체.\n",
        "  * set : 요소를 변경할 수 있으나 저장데이터는 반드시 불변 객체\n",
        "  * dict : key,value 한쌍의 요소. key 는 불변 객체\n",
        "    - only key, only value , key,value 한쌍 들을 각각 가져오는 메소드 -> 리스트 같은 iterable 리턴합니다."
      ],
      "metadata": {
        "id": "NJY5Dm1wyln5"
      }
    },
    {
      "cell_type": "code",
      "source": [
        "scores1 = [77,88,69,100,80] #list\n",
        "scores2 = (77,88,69,100,80) #tuple\n",
        "scores3 = {77,88,69,100,80} #set"
      ],
      "metadata": {
        "id": "56yLPQWa0GA0"
      },
      "execution_count": null,
      "outputs": []
    },
    {
      "cell_type": "code",
      "source": [
        "for s in scores1:\n",
        "  if s>=80:\n",
        "    print(f'점수 : {s:3} ✅')\n",
        "  else:\n",
        "    print(f'점수 : {s:3} ❌')"
      ],
      "metadata": {
        "colab": {
          "base_uri": "https://localhost:8080/"
        },
        "id": "EpTl_eZb0P99",
        "outputId": "84a9c493-4995-4599-9f26-fd0f918c7508"
      },
      "execution_count": null,
      "outputs": [
        {
          "output_type": "stream",
          "name": "stdout",
          "text": [
            "점수 :  77 ❌\n",
            "점수 :  88 ✅\n",
            "점수 :  69 ❌\n",
            "점수 : 100 ✅\n",
            "점수 :  80 ✅\n"
          ]
        }
      ]
    },
    {
      "cell_type": "code",
      "source": [
        "# scores1 - list\n",
        "for i in range(len(scores1)):\n",
        "  print(f'값은 {scores1[i]}')"
      ],
      "metadata": {
        "colab": {
          "base_uri": "https://localhost:8080/"
        },
        "id": "c5nW0xsi1CdC",
        "outputId": "9c82695f-d04e-45f8-b9b3-393654d98ba1"
      },
      "execution_count": null,
      "outputs": [
        {
          "output_type": "stream",
          "name": "stdout",
          "text": [
            "값은 77\n",
            "값은 88\n",
            "값은 69\n",
            "값은 100\n",
            "값은 80\n"
          ]
        }
      ]
    },
    {
      "cell_type": "code",
      "source": [
        "# scores2 - tuple\n",
        "for i in range(len(scores1)):\n",
        "  print(f'값은 {scores2[i]}')"
      ],
      "metadata": {
        "colab": {
          "base_uri": "https://localhost:8080/"
        },
        "id": "ZZuWM-W_1ky2",
        "outputId": "c9b8af2e-4093-4450-f91f-56961df16b60"
      },
      "execution_count": null,
      "outputs": [
        {
          "output_type": "stream",
          "name": "stdout",
          "text": [
            "값은 77\n",
            "값은 88\n",
            "값은 69\n",
            "값은 100\n",
            "값은 80\n"
          ]
        }
      ]
    },
    {
      "cell_type": "code",
      "source": [
        "# scores3 - set\n",
        "# 오류 : TypeError: 'set' object is not subscriptable\n",
        "# set 은 인덱스 사용 불가\n",
        "for i in range(len(scores1)):\n",
        "  print(f'값은 {scores3[i]}')"
      ],
      "metadata": {
        "id": "fypsdgVX1l7j"
      },
      "execution_count": null,
      "outputs": []
    },
    {
      "cell_type": "code",
      "source": [
        "# enumerate 를 이욯아면 set 도 인덱스 임의 부여\n",
        "for ele in enumerate(scores3):\n",
        "  print(ele)"
      ],
      "metadata": {
        "colab": {
          "base_uri": "https://localhost:8080/"
        },
        "id": "2U4KaDtI2NXn",
        "outputId": "4732e840-b94c-41c2-da2f-d0ba2cb64e1a"
      },
      "execution_count": null,
      "outputs": [
        {
          "output_type": "stream",
          "name": "stdout",
          "text": [
            "(0, 80)\n",
            "(1, 100)\n",
            "(2, 69)\n",
            "(3, 88)\n",
            "(4, 77)\n"
          ]
        }
      ]
    },
    {
      "cell_type": "markdown",
      "source": [
        "- dict 와 for"
      ],
      "metadata": {
        "id": "LqmfmVAT259T"
      }
    },
    {
      "cell_type": "code",
      "source": [
        "dic1={'no':111, 'userid':'momo', 'name':'김모모'}\n",
        "# 1. key 만 가져옵니다.\n",
        "for d in dic1:\n",
        "  print('key =',d)\n",
        "  print('value =',dic1[d]) # dic1[key] key 값으로 value 가져오기"
      ],
      "metadata": {
        "colab": {
          "base_uri": "https://localhost:8080/"
        },
        "id": "FE9C--476MKz",
        "outputId": "a9d90369-e6f2-4a7c-f589-ac1b5a0f4e7c"
      },
      "execution_count": null,
      "outputs": [
        {
          "output_type": "stream",
          "name": "stdout",
          "text": [
            "key = no\n",
            "value = 111\n",
            "key = userid\n",
            "value = momo\n",
            "key = name\n",
            "value = 김모모\n"
          ]
        }
      ]
    },
    {
      "cell_type": "code",
      "source": [
        "# 2. value 만 가져와서 iterable 객체 생성\n",
        "for v in dic1.values():\n",
        "  print(\"value=\",v)"
      ],
      "metadata": {
        "colab": {
          "base_uri": "https://localhost:8080/"
        },
        "id": "l8vNlxBg7JB4",
        "outputId": "2b63036b-8778-4dff-eade-83bfe3d29bb0"
      },
      "execution_count": null,
      "outputs": [
        {
          "output_type": "stream",
          "name": "stdout",
          "text": [
            "value= 111\n",
            "value= momo\n",
            "value= 김모모\n"
          ]
        }
      ]
    },
    {
      "cell_type": "code",
      "source": [
        "# 3. key-value 한쌍 가져와서 iterable 객체 생성\n",
        "# 튜플 언팩킹\n",
        "for k,v in dic1.items():\n",
        "  print(\"key=\",k,\"value=\",v)"
      ],
      "metadata": {
        "colab": {
          "base_uri": "https://localhost:8080/"
        },
        "id": "ixYULRX07KHM",
        "outputId": "ab5bf135-8d42-47f1-d390-d38bfa089689"
      },
      "execution_count": null,
      "outputs": [
        {
          "output_type": "stream",
          "name": "stdout",
          "text": [
            "key= no value= 111\n",
            "key= userid value= momo\n",
            "key= name value= 김모모\n"
          ]
        }
      ]
    },
    {
      "cell_type": "markdown",
      "source": [
        "### 컴프리헨션(Comprehension)\n",
        "- iterable 객체로 연산,함수 등 표현식을 사용하여 새로운 iterable 객체(컬렉션)를 생성\n",
        "- for 문을 한 줄 형식으로 작성(inline loop) : 가독성과 실행 속도를 높여 줄수 있는 기능\n",
        "  ```\n",
        "  [변수를 사용한 표현식 for 변수 in 반복 가능한 객체]\n",
        "  ```\n",
        "  + 기호 [ ] 새로운 리스트가 생성되는 의미\n",
        "  + 기호 { } 새로운 set 또는 dict 생성\n",
        "  + 기호 ( ) 새로운 tuple 생성이 아님. 제너레이터 객체 생성 후 지연평가로 값 생성"
      ],
      "metadata": {
        "id": "aahXKkMjNA43"
      }
    },
    {
      "cell_type": "markdown",
      "source": [
        "- 리스트 컴프리헨션"
      ],
      "metadata": {
        "id": "EmpadwdKNnXL"
      }
    },
    {
      "cell_type": "code",
      "source": [
        "names = ['momo','twice','nayeon','honey']\n",
        "new_list = [len(s) for s in names]\n",
        "print(new_list)"
      ],
      "metadata": {
        "colab": {
          "base_uri": "https://localhost:8080/"
        },
        "id": "Y7irLH8GNq6z",
        "outputId": "d273cb41-5732-4108-8838-7b5165f52b97"
      },
      "execution_count": null,
      "outputs": [
        {
          "output_type": "stream",
          "name": "stdout",
          "text": [
            "[4, 5, 6, 5]\n"
          ]
        }
      ]
    },
    {
      "cell_type": "code",
      "source": [
        "# 위 inline 형식을 실행하는 for문\n",
        "new_list2 = []\n",
        "for s in names:\n",
        "  new_list2.append(len(s))\n",
        "new_list2"
      ],
      "metadata": {
        "colab": {
          "base_uri": "https://localhost:8080/"
        },
        "id": "SzFRn3zjN9t9",
        "outputId": "9f313ad5-6b46-47fa-c37f-7d11c12b77ba"
      },
      "execution_count": null,
      "outputs": [
        {
          "output_type": "execute_result",
          "data": {
            "text/plain": [
              "[4, 5, 6, 5]"
            ]
          },
          "metadata": {},
          "execution_count": 77
        }
      ]
    },
    {
      "cell_type": "markdown",
      "source": [
        "- set 컴프리헨션"
      ],
      "metadata": {
        "id": "67W1fyReOtxV"
      }
    },
    {
      "cell_type": "code",
      "source": [
        "names = ['momo','twice','nayeon','honey']\n",
        "new_set = {len(s) for s in names}\n",
        "print(new_set)"
      ],
      "metadata": {
        "colab": {
          "base_uri": "https://localhost:8080/"
        },
        "id": "hwDeO_LLPco3",
        "outputId": "1e21a8f3-5bad-4e3d-d1fc-8b189eeba5cc"
      },
      "execution_count": null,
      "outputs": [
        {
          "output_type": "stream",
          "name": "stdout",
          "text": [
            "{4, 5, 6}\n"
          ]
        }
      ]
    },
    {
      "cell_type": "code",
      "source": [
        "# 위 inline 형식을 실행하는 for문\n",
        "new_list2 = set()\n",
        "for s in names:\n",
        "  new_list2.add(len(s))\n",
        "new_list2"
      ],
      "metadata": {
        "colab": {
          "base_uri": "https://localhost:8080/"
        },
        "id": "PGQE925jPfip",
        "outputId": "7a815520-cbb0-467d-9f41-0a62a220c834"
      },
      "execution_count": null,
      "outputs": [
        {
          "output_type": "execute_result",
          "data": {
            "text/plain": [
              "{4, 5, 6}"
            ]
          },
          "metadata": {},
          "execution_count": 79
        }
      ]
    },
    {
      "cell_type": "markdown",
      "source": [
        "- tuple 컴프리헨션\n",
        ": 위의 리스트,set 대신에 튜플 기호 () 사용하면 어떤결과일까요?"
      ],
      "metadata": {
        "id": "HVItCg1RbnC3"
      }
    },
    {
      "cell_type": "code",
      "source": [
        "names = names = ['momo','twice','nayeon','honey']\n",
        "gen = (len(s) for s in names)\n",
        "gen\n",
        "# 리스트 names 의 각 요소에 대해 len(s) 를 계산하는 제너레이터 객체를 생성\n",
        "# ( ) 는 불변객체 튜플 기호 : for 를 순회하면서 만든 len(s) 값을 기존 컬렉션에\n",
        "# 추가해야하는데 불변객체는 추가 동작 못함\n",
        "# 그래서 제너레이터 객체를 사용"
      ],
      "metadata": {
        "colab": {
          "base_uri": "https://localhost:8080/"
        },
        "id": "UpQubPBSbtV9",
        "outputId": "760010d7-412c-4952-c9fc-82b9227dc042"
      },
      "execution_count": null,
      "outputs": [
        {
          "output_type": "execute_result",
          "data": {
            "text/plain": [
              "<generator object <genexpr> at 0x7da49ac97c60>"
            ]
          },
          "metadata": {},
          "execution_count": 109
        }
      ]
    },
    {
      "cell_type": "code",
      "source": [
        "# 제너레이터는 for, list(), set(), tuple() 함수를 이용하여 값을 저장\n",
        "# 지연평가\n",
        "new_tuple = tuple(gen)\n",
        "new_tuple"
      ],
      "metadata": {
        "colab": {
          "base_uri": "https://localhost:8080/"
        },
        "id": "EnIGyDPAcjg4",
        "outputId": "3c190909-58b5-42cd-dcc8-ec07004a2202"
      },
      "execution_count": null,
      "outputs": [
        {
          "output_type": "execute_result",
          "data": {
            "text/plain": [
              "(4, 5, 6, 5)"
            ]
          },
          "metadata": {},
          "execution_count": 110
        }
      ]
    },
    {
      "cell_type": "code",
      "source": [
        "# 제너레이터로 다른 함수도 사용해보기\n",
        "# 특징 : 값 순회를 한번만 사용할 수 있음\n",
        "list(gen)"
      ],
      "metadata": {
        "colab": {
          "base_uri": "https://localhost:8080/"
        },
        "id": "CU8Rn0z3db-s",
        "outputId": "5ba58af5-ba5b-4faa-cc39-2d3a6c629732"
      },
      "execution_count": null,
      "outputs": [
        {
          "output_type": "execute_result",
          "data": {
            "text/plain": [
              "[]"
            ]
          },
          "metadata": {},
          "execution_count": 111
        }
      ]
    },
    {
      "cell_type": "code",
      "source": [
        "# 컴프리헨션으로 tuple 만들기 : tuple() 함수 꼭 필요\n",
        "# tuple 이 불변객체라 generator 로 생성\n",
        "new_tuple2 = tuple(len(s) for s in names)\n",
        "new_tuple2"
      ],
      "metadata": {
        "colab": {
          "base_uri": "https://localhost:8080/"
        },
        "id": "QMpqY5Q3d1_w",
        "outputId": "fab07498-969a-4f4e-e8ca-1af51cbf265d"
      },
      "execution_count": null,
      "outputs": [
        {
          "output_type": "execute_result",
          "data": {
            "text/plain": [
              "(4, 5, 6, 5)"
            ]
          },
          "metadata": {},
          "execution_count": 113
        }
      ]
    },
    {
      "cell_type": "markdown",
      "source": [
        "-  dict 컴프리헨션"
      ],
      "metadata": {
        "id": "jO3Z9DE0RSrt"
      }
    },
    {
      "cell_type": "code",
      "source": [
        "names = ['momo','twice','nayeon','honey']\n",
        "new_dict = {d:len(d) for d in names}\n",
        "#  key 는 이름, value 는 len(이름)\n",
        "new_dict"
      ],
      "metadata": {
        "colab": {
          "base_uri": "https://localhost:8080/"
        },
        "id": "x5i7cYYDRTos",
        "outputId": "473133a3-a561-4275-a888-3a5b7a222220"
      },
      "execution_count": null,
      "outputs": [
        {
          "output_type": "execute_result",
          "data": {
            "text/plain": [
              "{'momo': 4, 'twice': 5, 'nayeon': 6, 'honey': 5}"
            ]
          },
          "metadata": {},
          "execution_count": 80
        }
      ]
    },
    {
      "cell_type": "code",
      "source": [
        "# 퀴즈 1 : 아래와 같은 2개의 리스트를 이용하여 새로운 리스트를 [결과]와 같이\n",
        "#  만들어 보세요. zip() 함수 사용. 언팩킹.컴프리헨션 결과는 dict의 list\n",
        "userids = ['twice', 'wonder', 'orange']\n",
        "ages=    [17,24,20]"
      ],
      "metadata": {
        "id": "sYDWGxMMRYDy"
      },
      "execution_count": null,
      "outputs": []
    },
    {
      "cell_type": "code",
      "source": [
        "nwlist = [{'userids':u,'age':a} for u,a in zip(userids,ages)]\n",
        "nwlist"
      ],
      "metadata": {
        "colab": {
          "base_uri": "https://localhost:8080/"
        },
        "id": "BTEabLptRhna",
        "outputId": "5c5ab96d-59df-43b2-8884-ec9cb051ac00"
      },
      "execution_count": null,
      "outputs": [
        {
          "output_type": "execute_result",
          "data": {
            "text/plain": [
              "[{'userids': 'twice', 'age': 17},\n",
              " {'userids': 'wonder', 'age': 24},\n",
              " {'userids': 'orange', 'age': 20}]"
            ]
          },
          "metadata": {},
          "execution_count": 92
        }
      ]
    },
    {
      "cell_type": "code",
      "source": [
        "# 결과 :\n",
        "# [ {'userid': 'twice', 'age': 17},\n",
        "#   {'userid': 'wonder', 'age': 24},\n",
        "#   {'userid': 'orange', 'age': 20}]"
      ],
      "metadata": {
        "id": "VE2VS_JPRZUJ"
      },
      "execution_count": null,
      "outputs": []
    },
    {
      "cell_type": "code",
      "source": [
        "# 퀴즈 : 2 .\n",
        "# ['user1','user2','user3','user4',,,,'user9'] 리스트 생성하기.\n",
        "# range() 사용한 컴프리헨션.\n",
        "nwlist2 = [f'user{i}' for i in range(1,10)]\n",
        "nwlist2"
      ],
      "metadata": {
        "colab": {
          "base_uri": "https://localhost:8080/"
        },
        "id": "osqAL2LVWUgn",
        "outputId": "9f8fe46f-487f-4bb3-e842-191c5bbc0c8e"
      },
      "execution_count": null,
      "outputs": [
        {
          "output_type": "execute_result",
          "data": {
            "text/plain": [
              "['user1',\n",
              " 'user2',\n",
              " 'user3',\n",
              " 'user4',\n",
              " 'user5',\n",
              " 'user6',\n",
              " 'user7',\n",
              " 'user8',\n",
              " 'user9']"
            ]
          },
          "metadata": {},
          "execution_count": 106
        }
      ]
    }
  ]
}