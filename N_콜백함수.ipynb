{
  "nbformat": 4,
  "nbformat_minor": 0,
  "metadata": {
    "colab": {
      "provenance": [],
      "authorship_tag": "ABX9TyPtN8+1C7LSUL3aEeV6QP47",
      "include_colab_link": true
    },
    "kernelspec": {
      "name": "python3",
      "display_name": "Python 3"
    },
    "language_info": {
      "name": "python"
    }
  },
  "cells": [
    {
      "cell_type": "markdown",
      "metadata": {
        "id": "view-in-github",
        "colab_type": "text"
      },
      "source": [
        "<a href=\"https://colab.research.google.com/github/suyoung0211/Python/blob/main/N_%EC%BD%9C%EB%B0%B1%ED%95%A8%EC%88%98.ipynb\" target=\"_parent\"><img src=\"https://colab.research.google.com/assets/colab-badge.svg\" alt=\"Open In Colab\"/></a>"
      ]
    },
    {
      "cell_type": "markdown",
      "source": [
        "### 콜백 함수\n",
        "- 어떤 함수의 인자로 사용되는 함수.\n",
        "- 내부 함수로 호출\n",
        "- 외부 함수가 실행되는 시점에 결정\n",
        "- sortedm filter, map 내장 함수는 콜백 함수 사용(인자가 함수)"
      ],
      "metadata": {
        "id": "iw52lB9p1CEP"
      }
    },
    {
      "cell_type": "code",
      "source": [
        "# 사용자 정의함수 예시\n",
        "# - 매개 변수가 함수\n",
        "\n",
        "def task_func(func):\n",
        "  for i in range(5):    # i = 0, 1, 2, 3, 4 순서로 실행\n",
        "    func()    # 이 함수는 콜백함수로 task_fucn 이 실행되는 시점에 결정\n",
        "\n",
        "def print_hello():\n",
        "  print('hello')\n",
        "\n",
        "def print_hi():\n",
        "  print('hi')\n",
        "\n",
        "task_func(print_hello)    # 함수의 참조값을 인자로 전달\n",
        "task_func(print_hi)    # 함수의 참조값을 인자로 전달"
      ],
      "metadata": {
        "colab": {
          "base_uri": "https://localhost:8080/"
        },
        "id": "IJGZJrNe1NX0",
        "outputId": "a273625d-5d9f-4588-9095-8a7c46a2dae2"
      },
      "execution_count": 1,
      "outputs": [
        {
          "output_type": "stream",
          "name": "stdout",
          "text": [
            "hello\n",
            "hello\n",
            "hello\n",
            "hello\n",
            "hello\n",
            "hi\n",
            "hi\n",
            "hi\n",
            "hi\n",
            "hi\n"
          ]
        }
      ]
    },
    {
      "cell_type": "code",
      "source": [
        "# 콜백함수가 인자가 있을 때\n",
        "# func 함수의 인자는 1개 필요 - 임의로 지정\n",
        "def task_func(func):\n",
        "  for i in range(5):    # i = 0, 1, 2, 3, 4 순서로 실행\n",
        "    func(i)    # 이 함수는 콜백함수로 task_fucn 이 실행되는 시점에 결정\n",
        "\n",
        "# func 함수의 인자는 1개 필요 - 외부 함수가 인자로 받음\n",
        "def task_func2(func,num):\n",
        "  for i in range(5):    # i = 0, 1, 2, 3, 4 순서로 실행\n",
        "    func(num)    # 이 함수는 콜백함수로 task_fucn 이 실행되는 시점에 결정\n",
        "\n",
        "def print_hello(num):\n",
        "  print('hello🌟',num)\n",
        "\n",
        "def print_hi(num):\n",
        "  print('hi🌟',num)"
      ],
      "metadata": {
        "id": "9LYPP_Bo2l8W"
      },
      "execution_count": 12,
      "outputs": []
    },
    {
      "cell_type": "code",
      "source": [
        "# task_func 실행\n",
        "# func 함수의 인자는 1개 필요 - 임의로 지정\n",
        "task_func(print_hello)            # 함수의 참조값을 인자로 전달\n",
        "task_func(print_hi)               # 함수의 참조값을 인자로 전달"
      ],
      "metadata": {
        "colab": {
          "base_uri": "https://localhost:8080/"
        },
        "id": "lWsY_3aQ438i",
        "outputId": "4f7438f2-8678-457f-eab6-4ce4795caa38"
      },
      "execution_count": 14,
      "outputs": [
        {
          "output_type": "stream",
          "name": "stdout",
          "text": [
            "hello🌟 0\n",
            "hello🌟 1\n",
            "hello🌟 2\n",
            "hello🌟 3\n",
            "hello🌟 4\n",
            "hi🌟 0\n",
            "hi🌟 1\n",
            "hi🌟 2\n",
            "hi🌟 3\n",
            "hi🌟 4\n"
          ]
        }
      ]
    },
    {
      "cell_type": "code",
      "source": [
        "# task_func2 실행\n",
        "# func 함수의 인자는 1개 필요 - 외부 함수가 인자로 받음\n",
        "task_func2(print_hello,'ddd')     # 함수의 참조값을 인자로 전달\n",
        "task_func2(print_hi,3)            # 함수의 참조값을 인자로 전달"
      ],
      "metadata": {
        "colab": {
          "base_uri": "https://localhost:8080/"
        },
        "id": "4hsBDZ0w48FD",
        "outputId": "b05ba3c8-0410-429a-ede2-86c4bb653d70"
      },
      "execution_count": 15,
      "outputs": [
        {
          "output_type": "stream",
          "name": "stdout",
          "text": [
            "hello🌟 ddd\n",
            "hello🌟 ddd\n",
            "hello🌟 ddd\n",
            "hello🌟 ddd\n",
            "hello🌟 ddd\n",
            "hi🌟 3\n",
            "hi🌟 3\n",
            "hi🌟 3\n",
            "hi🌟 3\n",
            "hi🌟 3\n"
          ]
        }
      ]
    },
    {
      "cell_type": "markdown",
      "source": [
        "### 람다함수(lambda function)\n",
        "- 자바스크립트의 화살표 함수. 자바에서는 함수형 인터페이스의 람다식과 같은 동작"
      ],
      "metadata": {
        "id": "JLZs0U8K5ASK"
      }
    },
    {
      "cell_type": "code",
      "source": [
        "# 제곱근\n",
        "def square(x):\n",
        "  return x**2   # x의 2승 리턴\n",
        "\n",
        "print(square(5))"
      ],
      "metadata": {
        "colab": {
          "base_uri": "https://localhost:8080/"
        },
        "id": "WGJh2DFf6EL_",
        "outputId": "18a47dbb-1705-48e5-c627-e5721412c152"
      },
      "execution_count": 21,
      "outputs": [
        {
          "output_type": "stream",
          "name": "stdout",
          "text": [
            "25\n"
          ]
        }
      ]
    },
    {
      "cell_type": "code",
      "source": [
        "# 람다함수로 만들기. return 키워드 생략\n",
        "# 인자:리턴값\n",
        "# new_sqare 는 익명의 람다함수를 참조 변수. 함수 이름처럼 사용\n",
        "new_sqare = lambda x:x**3\n",
        "print(new_sqare(3))"
      ],
      "metadata": {
        "colab": {
          "base_uri": "https://localhost:8080/"
        },
        "id": "e-evwOz46RsF",
        "outputId": "e50b1326-7abe-4cfc-cffd-6c688119b899"
      },
      "execution_count": 17,
      "outputs": [
        {
          "output_type": "stream",
          "name": "stdout",
          "text": [
            "27\n"
          ]
        }
      ]
    },
    {
      "cell_type": "code",
      "source": [
        "# square 변수가 다른 함수를 참조합니다.\n",
        "square = lambda x:2**x\n",
        "print(square(5))"
      ],
      "metadata": {
        "colab": {
          "base_uri": "https://localhost:8080/"
        },
        "id": "d3nMHJtB6p5J",
        "outputId": "8a7ecbab-1346-4ec9-d548-f56a3bc980c4"
      },
      "execution_count": 23,
      "outputs": [
        {
          "output_type": "stream",
          "name": "stdout",
          "text": [
            "32\n"
          ]
        }
      ]
    },
    {
      "cell_type": "code",
      "source": [
        "# 익명 함수(1회용 함수)\n",
        "(lambda x:x*11)(5)"
      ],
      "metadata": {
        "colab": {
          "base_uri": "https://localhost:8080/"
        },
        "id": "KaS9NoPt7GF6",
        "outputId": "1567ee14-6c34-4a15-d9e2-9773e5daf572"
      },
      "execution_count": 24,
      "outputs": [
        {
          "output_type": "execute_result",
          "data": {
            "text/plain": [
              "55"
            ]
          },
          "metadata": {},
          "execution_count": 24
        }
      ]
    },
    {
      "cell_type": "markdown",
      "source": [
        "### 콜백 함수 예시\n",
        "- sorted 함수 : 딕셔너리 자료구조를 정렬할 때 사용"
      ],
      "metadata": {
        "id": "3qMDm_cA7akB"
      }
    },
    {
      "cell_type": "code",
      "source": [
        "# sorted(리스트) : 문자열, 정수, 실수 값의 리스트는 바로 정렬할 수 있음.\n",
        "names = ['honey','momo','iu','nana']\n",
        "new_names = sorted(names)\n",
        "new_names"
      ],
      "metadata": {
        "colab": {
          "base_uri": "https://localhost:8080/"
        },
        "id": "5hFdXGL3-nam",
        "outputId": "a722637b-7e18-45c7-c59d-9cc5e12b5a4d"
      },
      "execution_count": 25,
      "outputs": [
        {
          "output_type": "execute_result",
          "data": {
            "text/plain": [
              "['honey', 'iu', 'momo', 'nana']"
            ]
          },
          "metadata": {},
          "execution_count": 25
        }
      ]
    },
    {
      "cell_type": "code",
      "source": [
        "# 딕셔너리 여러개의 key 를 갖고 있음.\n",
        "# 어떤 key로 정렬할 것인지를 콜백함수로 정의.\n",
        "peoples = [\n",
        "    {'name':'이하니', 'age':30},\n",
        "    {'name':'김모모', 'age':20},\n",
        "    {'name':'최나나', 'age':25}\n",
        "]\n",
        "\n",
        "# sorted(peoples)\n",
        "# TypeError: '<' not supported between instances of 'dict' and 'dict'"
      ],
      "metadata": {
        "id": "RS8ScsEE-qIl"
      },
      "execution_count": 28,
      "outputs": []
    },
    {
      "cell_type": "code",
      "source": [
        "# sorted(리스트, key=콜백함수). 콜백함수는 지정된 key 값을 리턴.\n",
        "def sort_age(x):    # x 는 딕셔너리 1개(리스트 요소)\n",
        "  return x['age']\n",
        "\n",
        "def sort_name(x):\n",
        "  return x['name']\n",
        "\n",
        "sorted(peoples, key=sort_age)   # 새로운 정렬된 리스트 리턴"
      ],
      "metadata": {
        "colab": {
          "base_uri": "https://localhost:8080/"
        },
        "id": "nSBZc2Ug_QgF",
        "outputId": "101dc3cc-aee0-4596-d51d-727815546cf8"
      },
      "execution_count": 35,
      "outputs": [
        {
          "output_type": "execute_result",
          "data": {
            "text/plain": [
              "[{'name': '김모모', 'age': 20},\n",
              " {'name': '최나나', 'age': 25},\n",
              " {'name': '이하니', 'age': 30}]"
            ]
          },
          "metadata": {},
          "execution_count": 35
        }
      ]
    },
    {
      "cell_type": "code",
      "source": [
        "sorted(peoples, key=sort_name)   # 새로운 정렬된 리스트 리턴"
      ],
      "metadata": {
        "colab": {
          "base_uri": "https://localhost:8080/"
        },
        "id": "94O_-4uuAbZB",
        "outputId": "1e96d4bb-a81b-452e-e179-319c2efd627c"
      },
      "execution_count": 36,
      "outputs": [
        {
          "output_type": "execute_result",
          "data": {
            "text/plain": [
              "[{'name': '김모모', 'age': 20},\n",
              " {'name': '이하니', 'age': 30},\n",
              " {'name': '최나나', 'age': 25}]"
            ]
          },
          "metadata": {},
          "execution_count": 36
        }
      ]
    },
    {
      "cell_type": "code",
      "source": [
        "# sorted(리스트, key=람다함수)\n",
        "sorted(peoples, key=lambda x:x['age'])"
      ],
      "metadata": {
        "colab": {
          "base_uri": "https://localhost:8080/"
        },
        "id": "fEAuUZKBAcmh",
        "outputId": "c492218e-963a-4ac5-d4b4-e0cd074a5853"
      },
      "execution_count": 37,
      "outputs": [
        {
          "output_type": "execute_result",
          "data": {
            "text/plain": [
              "[{'name': '김모모', 'age': 20},\n",
              " {'name': '최나나', 'age': 25},\n",
              " {'name': '이하니', 'age': 30}]"
            ]
          },
          "metadata": {},
          "execution_count": 37
        }
      ]
    },
    {
      "cell_type": "code",
      "source": [
        "# sorted(리스트, key=람다함수, reverse=True) : 역순 정렬\n",
        "sorted(peoples, key=lambda x:x['age'], reverse=True)"
      ],
      "metadata": {
        "colab": {
          "base_uri": "https://localhost:8080/"
        },
        "id": "-iTC4I6sA4_V",
        "outputId": "51750e1b-f8ef-4e2d-bc43-19145d4979c9"
      },
      "execution_count": 38,
      "outputs": [
        {
          "output_type": "execute_result",
          "data": {
            "text/plain": [
              "[{'name': '이하니', 'age': 30},\n",
              " {'name': '최나나', 'age': 25},\n",
              " {'name': '김모모', 'age': 20}]"
            ]
          },
          "metadata": {},
          "execution_count": 38
        }
      ]
    },
    {
      "cell_type": "markdown",
      "source": [
        "### filter() 와 map()\n",
        "- 리스트와 같은 iterable 를 대상으로 합니다. 리턴 타입이 list 는 아님\n",
        "- 리턴 타입은 filter, map 클래스 타입. 특징은 iterable(반복, 순회) 객체\n",
        "- 리턴 값은 한번만 사용(소비)"
      ],
      "metadata": {
        "id": "r1ed_Xf6BD1U"
      }
    },
    {
      "cell_type": "markdown",
      "source": [
        "- filter() 함수는 리스트에서 콜백함수 조건이 참인 것만 순회하는 객체 리턴\n",
        "  - 새로운 list 를 생성하고 싶으면 list(filter(생략))\n",
        "- map() 함수는 리스트 요소값을 수식 또는 함수에 대입한 새로운 결과값으로 순회하는 객체 리턴\n",
        "  - 새로운 list 를 생성하고 싶으면 list(map(생략))"
      ],
      "metadata": {
        "id": "1Bw9AVe6G0MQ"
      }
    },
    {
      "cell_type": "code",
      "source": [
        "# 필터링할 리스트\n",
        "li = [2, 5, 7, 10, 0, 17, 20, 32, 25, 28]\n",
        "\n",
        "# 필터링할 콜백 함수\n",
        "def even(n):    # n 은 리스트 요소 값이 순서 대입\n",
        "  if n%2==0:\n",
        "    return True\n",
        "  else:\n",
        "    return False"
      ],
      "metadata": {
        "id": "CnodQ4CABst8"
      },
      "execution_count": 39,
      "outputs": []
    },
    {
      "cell_type": "code",
      "source": [
        "result = filter(even, li)\n",
        "print(type(result))\n",
        "result # <filter at 0x7a1fd23aa3b0> : filter 클래스 타입 객체"
      ],
      "metadata": {
        "colab": {
          "base_uri": "https://localhost:8080/"
        },
        "id": "s3UsdAECCKHx",
        "outputId": "e2b96570-9f38-4e70-debd-15bd6e661404"
      },
      "execution_count": 41,
      "outputs": [
        {
          "output_type": "stream",
          "name": "stdout",
          "text": [
            "<class 'filter'>\n"
          ]
        },
        {
          "output_type": "execute_result",
          "data": {
            "text/plain": [
              "<filter at 0x7a1fd23aa1d0>"
            ]
          },
          "metadata": {},
          "execution_count": 41
        }
      ]
    },
    {
      "cell_type": "code",
      "source": [
        "for v in result:    # result 는 짝수만 필터링한 iterable\n",
        "  print(v)          # 짝수만 출력"
      ],
      "metadata": {
        "colab": {
          "base_uri": "https://localhost:8080/"
        },
        "id": "849UM7d0CatE",
        "outputId": "f452e38f-d3f7-4579-8b20-4b675b720489"
      },
      "execution_count": 42,
      "outputs": [
        {
          "output_type": "stream",
          "name": "stdout",
          "text": [
            "2\n",
            "10\n",
            "0\n",
            "20\n",
            "32\n",
            "28\n"
          ]
        }
      ]
    },
    {
      "cell_type": "code",
      "source": [
        "list(result)    # result iterable 객체로 list 를 생성\n",
        "\n",
        "# 위의 for 와 list 생성자 중에 순서에 따라 두번째 result 는 비어있습니다.\n",
        "# -> 한번만 순회하고 끝"
      ],
      "metadata": {
        "colab": {
          "base_uri": "https://localhost:8080/"
        },
        "id": "bL_dmo5DCwmo",
        "outputId": "c270995a-3a49-4829-d73d-ee0bf2b0792f"
      },
      "execution_count": 43,
      "outputs": [
        {
          "output_type": "execute_result",
          "data": {
            "text/plain": [
              "[]"
            ]
          },
          "metadata": {},
          "execution_count": 43
        }
      ]
    },
    {
      "cell_type": "code",
      "source": [
        "# list(filter(람다함수, 리스트))\n",
        "list(filter(lambda n:n%2==0,li))\n",
        "# li 요소값을 순서대로 n 에 대입 -> 참 리턴되는 n 만 순회하는 filter 객체 생성"
      ],
      "metadata": {
        "colab": {
          "base_uri": "https://localhost:8080/"
        },
        "id": "GQZzeYPIDZ0Q",
        "outputId": "ae53e4d9-b095-4498-dcfb-de1579d68039"
      },
      "execution_count": 44,
      "outputs": [
        {
          "output_type": "execute_result",
          "data": {
            "text/plain": [
              "[2, 10, 0, 20, 32, 28]"
            ]
          },
          "metadata": {},
          "execution_count": 44
        }
      ]
    },
    {
      "cell_type": "code",
      "source": [
        "# 홀수만 필터링한 리스트\n",
        "# list(filter(lambda n:n%2!=0,li))\n",
        "list(filter(lambda n:n%2,li))"
      ],
      "metadata": {
        "colab": {
          "base_uri": "https://localhost:8080/"
        },
        "id": "bO8rvMiREDgt",
        "outputId": "df29ceda-29be-4670-a76d-97aaeee9caf1"
      },
      "execution_count": 46,
      "outputs": [
        {
          "output_type": "execute_result",
          "data": {
            "text/plain": [
              "[5, 7, 17, 25]"
            ]
          },
          "metadata": {},
          "execution_count": 46
        }
      ]
    },
    {
      "cell_type": "code",
      "source": [
        "# 퀴즈 :10 이상인 값만 필터링한 리스트\n",
        "list(filter(lambda x:x>=10,li))"
      ],
      "metadata": {
        "colab": {
          "base_uri": "https://localhost:8080/"
        },
        "id": "0gG1tArtEmNG",
        "outputId": "8032ba0b-f516-4982-f16a-a66cb9d26d36"
      },
      "execution_count": 47,
      "outputs": [
        {
          "output_type": "execute_result",
          "data": {
            "text/plain": [
              "[10, 17, 20, 32, 25, 28]"
            ]
          },
          "metadata": {},
          "execution_count": 47
        }
      ]
    },
    {
      "cell_type": "code",
      "source": [
        "from os import name\n",
        "# 퀴즈 : 문자열 리스트\n",
        "# 양쪽 공백을 제거하고 이름이 4글자 미만인 것만 가져와 리스트 만들기\n",
        "names =  ['Alice', 'Bob', '  ', '', 'Eve']\n",
        "# 공백만 있는 또는 빈 문자열은 제거 하고 리스트 리턴\n",
        "list(filter(lambda x:len(x.strip())<4,names))"
      ],
      "metadata": {
        "colab": {
          "base_uri": "https://localhost:8080/"
        },
        "id": "ls8BI0X2Ev1B",
        "outputId": "4697ea8f-0477-4ca1-a21b-dd2c76163847"
      },
      "execution_count": 55,
      "outputs": [
        {
          "output_type": "execute_result",
          "data": {
            "text/plain": [
              "['Bob', '  ', '', 'Eve']"
            ]
          },
          "metadata": {},
          "execution_count": 55
        }
      ]
    }
  ]
}