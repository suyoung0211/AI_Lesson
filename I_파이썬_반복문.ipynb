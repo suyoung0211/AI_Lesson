{
  "nbformat": 4,
  "nbformat_minor": 0,
  "metadata": {
    "colab": {
      "provenance": [],
      "authorship_tag": "ABX9TyPMfhAylrZiVQtvibm2o51f",
      "include_colab_link": true
    },
    "kernelspec": {
      "name": "python3",
      "display_name": "Python 3"
    },
    "language_info": {
      "name": "python"
    }
  },
  "cells": [
    {
      "cell_type": "markdown",
      "metadata": {
        "id": "view-in-github",
        "colab_type": "text"
      },
      "source": [
        "<a href=\"https://colab.research.google.com/github/suyoung0211/python/blob/main/I_%ED%8C%8C%EC%9D%B4%EC%8D%AC_%EB%B0%98%EB%B3%B5%EB%AC%B8.ipynb\" target=\"_parent\"><img src=\"https://colab.research.google.com/assets/colab-badge.svg\" alt=\"Open In Colab\"/></a>"
      ]
    },
    {
      "cell_type": "markdown",
      "source": [
        "### while\n",
        "- 반복 블록은 들여쓰기 형식 사용\n",
        "- 반복 while 문 끝은 :"
      ],
      "metadata": {
        "id": "V4_yIv0yXEKJ"
      }
    },
    {
      "cell_type": "code",
      "source": [
        "i=1\n",
        "sum=0\n",
        "end = 100\n",
        "while i<=end:\n",
        "  sum +=i\n",
        "  i+=1\n",
        "  print(f'i={i}')\n",
        "\n",
        "print(f'1부터 {end} 까지의 합 = {sum}')"
      ],
      "metadata": {
        "colab": {
          "base_uri": "https://localhost:8080/"
        },
        "collapsed": true,
        "id": "-DtyG6R3XdYD",
        "outputId": "1abe6556-861d-4c09-e590-16daa95aa6e9"
      },
      "execution_count": null,
      "outputs": [
        {
          "output_type": "stream",
          "name": "stdout",
          "text": [
            "i=2\n",
            "i=3\n",
            "i=4\n",
            "i=5\n",
            "i=6\n",
            "i=7\n",
            "i=8\n",
            "i=9\n",
            "i=10\n",
            "i=11\n",
            "i=12\n",
            "i=13\n",
            "i=14\n",
            "i=15\n",
            "i=16\n",
            "i=17\n",
            "i=18\n",
            "i=19\n",
            "i=20\n",
            "i=21\n",
            "i=22\n",
            "i=23\n",
            "i=24\n",
            "i=25\n",
            "i=26\n",
            "i=27\n",
            "i=28\n",
            "i=29\n",
            "i=30\n",
            "i=31\n",
            "i=32\n",
            "i=33\n",
            "i=34\n",
            "i=35\n",
            "i=36\n",
            "i=37\n",
            "i=38\n",
            "i=39\n",
            "i=40\n",
            "i=41\n",
            "i=42\n",
            "i=43\n",
            "i=44\n",
            "i=45\n",
            "i=46\n",
            "i=47\n",
            "i=48\n",
            "i=49\n",
            "i=50\n",
            "i=51\n",
            "i=52\n",
            "i=53\n",
            "i=54\n",
            "i=55\n",
            "i=56\n",
            "i=57\n",
            "i=58\n",
            "i=59\n",
            "i=60\n",
            "i=61\n",
            "i=62\n",
            "i=63\n",
            "i=64\n",
            "i=65\n",
            "i=66\n",
            "i=67\n",
            "i=68\n",
            "i=69\n",
            "i=70\n",
            "i=71\n",
            "i=72\n",
            "i=73\n",
            "i=74\n",
            "i=75\n",
            "i=76\n",
            "i=77\n",
            "i=78\n",
            "i=79\n",
            "i=80\n",
            "i=81\n",
            "i=82\n",
            "i=83\n",
            "i=84\n",
            "i=85\n",
            "i=86\n",
            "i=87\n",
            "i=88\n",
            "i=89\n",
            "i=90\n",
            "i=91\n",
            "i=92\n",
            "i=93\n",
            "i=94\n",
            "i=95\n",
            "i=96\n",
            "i=97\n",
            "i=98\n",
            "i=99\n",
            "i=100\n",
            "i=101\n",
            "1부터 100 까지의 합 = 5050\n"
          ]
        }
      ]
    },
    {
      "cell_type": "code",
      "source": [
        "i=1\n",
        "sum=0\n",
        "end = 100\n",
        "while i<=end:\n",
        "  # i 값이 짝수이면\n",
        "  if i % 2 ==0:\n",
        "    sum +=i  # 누적더하기\n",
        "    print(f'i={i}')\n",
        "  i+=1\n",
        "\n",
        "print(f'1부터 {end} 까지의 짝수의 합 = {sum}')"
      ],
      "metadata": {
        "colab": {
          "base_uri": "https://localhost:8080/"
        },
        "collapsed": true,
        "id": "gSjmdqLbX6Is",
        "outputId": "ca8a3a50-5489-4022-c1aa-8a18f6b96a2e"
      },
      "execution_count": null,
      "outputs": [
        {
          "output_type": "stream",
          "name": "stdout",
          "text": [
            "i=2\n",
            "i=4\n",
            "i=6\n",
            "i=8\n",
            "i=10\n",
            "i=12\n",
            "i=14\n",
            "i=16\n",
            "i=18\n",
            "i=20\n",
            "i=22\n",
            "i=24\n",
            "i=26\n",
            "i=28\n",
            "i=30\n",
            "i=32\n",
            "i=34\n",
            "i=36\n",
            "i=38\n",
            "i=40\n",
            "i=42\n",
            "i=44\n",
            "i=46\n",
            "i=48\n",
            "i=50\n",
            "i=52\n",
            "i=54\n",
            "i=56\n",
            "i=58\n",
            "i=60\n",
            "i=62\n",
            "i=64\n",
            "i=66\n",
            "i=68\n",
            "i=70\n",
            "i=72\n",
            "i=74\n",
            "i=76\n",
            "i=78\n",
            "i=80\n",
            "i=82\n",
            "i=84\n",
            "i=86\n",
            "i=88\n",
            "i=90\n",
            "i=92\n",
            "i=94\n",
            "i=96\n",
            "i=98\n",
            "i=100\n",
            "1부터 100 까지의 짝수의 합 = 2550\n"
          ]
        }
      ]
    },
    {
      "cell_type": "code",
      "source": [
        "# 구구단 숫자 2 ~ 9 중 하나를 입력 받아서\n",
        "# 예시 : 3 입력 3x1=3, 3x2=6, 3x3=9, ... 3x9=27 출력하기\n",
        "number=input(\"구구단 숫자 입력 >>>> \")\n",
        "i=1\n",
        "while i<10:\n",
        "  print(f'{number} x {i} ={int(number)*i:>3}')\n",
        "  i+=1"
      ],
      "metadata": {
        "colab": {
          "base_uri": "https://localhost:8080/"
        },
        "id": "enEX96TeZCdM",
        "outputId": "aef72fb0-30bb-4767-8dc1-0a9ce6acdbc0"
      },
      "execution_count": null,
      "outputs": [
        {
          "output_type": "stream",
          "name": "stdout",
          "text": [
            "구구단 숫자 입력 >>>> 6\n",
            "6 x 1 =  6\n",
            "6 x 2 = 12\n",
            "6 x 3 = 18\n",
            "6 x 4 = 24\n",
            "6 x 5 = 30\n",
            "6 x 6 = 36\n",
            "6 x 7 = 42\n",
            "6 x 8 = 48\n",
            "6 x 9 = 54\n"
          ]
        }
      ]
    },
    {
      "cell_type": "markdown",
      "source": [
        "### for\n",
        "- 파이썬에서는 iterable 객체를 대상으로 합니다.\n",
        "- for a in list_test:<br>\n",
        "  &ensp;요소대입변수명 in iterable 객체\n",
        "- iterable 객체를 대신해서 `시퀀스를 만드는 range()` 함수 사용도 많이 합니다."
      ],
      "metadata": {
        "id": "AganbH6RdoX-"
      }
    },
    {
      "cell_type": "code",
      "source": [
        "for s in 'Hello':\n",
        "  print(s,hex(ord(s)))"
      ],
      "metadata": {
        "colab": {
          "base_uri": "https://localhost:8080/"
        },
        "id": "xCmcvch-eS4C",
        "outputId": "bda62947-4e4d-4d54-d1ed-c964666a075b"
      },
      "execution_count": null,
      "outputs": [
        {
          "output_type": "stream",
          "name": "stdout",
          "text": [
            "H 0x48\n",
            "e 0x65\n",
            "l 0x6c\n",
            "l 0x6c\n",
            "o 0x6f\n"
          ]
        }
      ]
    },
    {
      "cell_type": "markdown",
      "source": [
        "## range() 함수\n",
        "\n",
        "- 파이썬에서 순차적인 정수의 시퀀스(순서를 갖는 객체) 를 생성하는 데 사용되는 내장 함수입니다.  \n",
        "- 주로 for 문과 함께 사용\n",
        "- range() 함수의 반환값은 range 객체이며 결과로 생성되는 순차적인 정수 시퀀스는 실제로 메모리에 저장되지 않고 필요할 때마다 생성되므로, 큰 범위의 반복문에도 효율적으로 사용할 수 있습니다.\n",
        "\n",
        "- range([start], stop, [step])\n",
        "\n",
        "    * start (선택 사항): 순차적인 범위의 시작 값을 지정합니다. 기본값은 0\n",
        "    * stop: 순차적인 범위의 끝 값을 지정합니다. 생성된 시퀀스는 stop 값 직전까지의 정수를 포함합니다.\n",
        "    * step (선택 사항): 순차적인 값을 증가시키는 간격. 기본값은 1."
      ],
      "metadata": {
        "id": "p6OQWevsfd3S"
      }
    },
    {
      "cell_type": "code",
      "source": [
        "for i in range(10):\n",
        "  print(i,end=\" \")\n",
        "print()\n",
        "print(type(range(10)))  # <class 'range'> 이터러블 객체"
      ],
      "metadata": {
        "colab": {
          "base_uri": "https://localhost:8080/"
        },
        "id": "cUFLq7NVkrEI",
        "outputId": "f94c8dc7-95f6-4508-c4c3-c1d245b16012"
      },
      "execution_count": null,
      "outputs": [
        {
          "output_type": "stream",
          "name": "stdout",
          "text": [
            "0 1 2 3 4 5 6 7 8 9 \n",
            "<class 'range'>\n"
          ]
        }
      ]
    },
    {
      "cell_type": "code",
      "source": [
        "# 자바 : for(i=1;i<10;i+=2) 에 해당하는 for문 작성에서 i를 출력하기\n",
        "for i in range(1,10,2):\n",
        "  print(i,end=\" \")"
      ],
      "metadata": {
        "colab": {
          "base_uri": "https://localhost:8080/"
        },
        "id": "Kj9FMqWNksN6",
        "outputId": "695a7537-66b4-44f9-b747-9ffe25315588"
      },
      "execution_count": null,
      "outputs": [
        {
          "output_type": "stream",
          "name": "stdout",
          "text": [
            "1 3 5 7 9 "
          ]
        }
      ]
    },
    {
      "cell_type": "markdown",
      "source": [
        "## enumerate() 함수\n",
        "- enumerate() 함수는 파이썬에서 반복문을 사용할 때 인덱스와 값을 함께 가져오기 위해 사용되는 내장 함수입니다.\n",
        "- enumerate() 함수는 (인덱스, 값)의 튜플을 반환하는 이터레이터(iterator)를 생성합니다.\n",
        "\n",
        " * Iterable(반복 가능 객체): 리스트, 튜플, 딕셔너리, 문자열과 같은 컬렉션 자료형은 반복 가능한 객체로, 반복자를 생성할 수 있습니다.\n",
        " * Iterator(이터레이터): 반복자(者). 이터러블 객체에서 iter() 함수를 호출해 얻을 수 있으며, next() 함수를 사용해 요소를 하나씩 순차적으로 접근합니다."
      ],
      "metadata": {
        "id": "vNar1iDRktD8"
      }
    },
    {
      "cell_type": "code",
      "source": [
        "# 반복자(역할) 생성\n",
        "itr = iter('Hello Python!')\n",
        "itr"
      ],
      "metadata": {
        "colab": {
          "base_uri": "https://localhost:8080/"
        },
        "id": "EjQ-jCMrmZxi",
        "outputId": "f912479b-111f-42da-f185-6d39b97fc493"
      },
      "execution_count": null,
      "outputs": [
        {
          "output_type": "execute_result",
          "data": {
            "text/plain": [
              "<str_ascii_iterator at 0x7adbda041de0>"
            ]
          },
          "metadata": {},
          "execution_count": 28
        }
      ]
    },
    {
      "cell_type": "code",
      "source": [
        "# 반복(iterable)객체 요소를 순차적으로 접근하는 next() 함수 실행\n",
        "# 인자는 반복자 객체\n",
        "print(next(itr))\n",
        "print(next(itr))\n",
        "print(next(itr))\n",
        "print(next(itr))\n",
        "print(next(itr))\n",
        "# next() 함수가 더 이상 가져올 요소가 없으면 : StopIteration (반복 중지 오류)"
      ],
      "metadata": {
        "colab": {
          "base_uri": "https://localhost:8080/"
        },
        "id": "mkUreOZ0mZ1_",
        "outputId": "1f4f83a4-a983-4978-e135-aeb5bcd5c75f"
      },
      "execution_count": null,
      "outputs": [
        {
          "output_type": "stream",
          "name": "stdout",
          "text": [
            "H\n",
            "e\n",
            "l\n",
            "l\n",
            "o\n"
          ]
        }
      ]
    },
    {
      "cell_type": "code",
      "source": [
        "# enumerate() 함수는 반복 객체 요소의 인덱스 필요시\n",
        "# 시작 인덱스 0 기본값\n",
        "for e in enumerate('hello python'):\n",
        "  print(e)"
      ],
      "metadata": {
        "colab": {
          "base_uri": "https://localhost:8080/"
        },
        "id": "JKDipKh3m705",
        "outputId": "31cd2a2e-6ba8-44ec-dcf7-977244b37adf"
      },
      "execution_count": null,
      "outputs": [
        {
          "output_type": "stream",
          "name": "stdout",
          "text": [
            "(0, 'h')\n",
            "(1, 'e')\n",
            "(2, 'l')\n",
            "(3, 'l')\n",
            "(4, 'o')\n",
            "(5, ' ')\n",
            "(6, 'p')\n",
            "(7, 'y')\n",
            "(8, 't')\n",
            "(9, 'h')\n",
            "(10, 'o')\n",
            "(11, 'n')\n"
          ]
        }
      ]
    },
    {
      "cell_type": "code",
      "source": [
        "# enumerate() 함수는 반복 객체 요소의 인덱스 필요시\n",
        "# 시작 인덱스 1 지정\n",
        "for e in enumerate('hello python',1):\n",
        "  print(e)"
      ],
      "metadata": {
        "colab": {
          "base_uri": "https://localhost:8080/"
        },
        "id": "J1Fj-36MnXES",
        "outputId": "474ced3e-1efa-41c7-a1da-d3c3afe88502"
      },
      "execution_count": null,
      "outputs": [
        {
          "output_type": "stream",
          "name": "stdout",
          "text": [
            "(1, 'h')\n",
            "(2, 'e')\n",
            "(3, 'l')\n",
            "(4, 'l')\n",
            "(5, 'o')\n",
            "(6, ' ')\n",
            "(7, 'p')\n",
            "(8, 'y')\n",
            "(9, 't')\n",
            "(10, 'h')\n",
            "(11, 'o')\n",
            "(12, 'n')\n"
          ]
        }
      ]
    },
    {
      "cell_type": "code",
      "source": [
        "# e 요소값 중에서 인덱스, 요소 각각 출력하고 싶다면\n",
        "for e in enumerate('hello python'):\n",
        "  print('인덱스 =',e[0],end=' ')\n",
        "  print('요소값 =',e[1])"
      ],
      "metadata": {
        "colab": {
          "base_uri": "https://localhost:8080/"
        },
        "id": "KvHwD5ponzHr",
        "outputId": "eeb796b6-28aa-4664-de4e-f33b78c897db"
      },
      "execution_count": null,
      "outputs": [
        {
          "output_type": "stream",
          "name": "stdout",
          "text": [
            "인덱스 = 0 요소값 = h\n",
            "인덱스 = 1 요소값 = e\n",
            "인덱스 = 2 요소값 = l\n",
            "인덱스 = 3 요소값 = l\n",
            "인덱스 = 4 요소값 = o\n",
            "인덱스 = 5 요소값 =  \n",
            "인덱스 = 6 요소값 = p\n",
            "인덱스 = 7 요소값 = y\n",
            "인덱스 = 8 요소값 = t\n",
            "인덱스 = 9 요소값 = h\n",
            "인덱스 = 10 요소값 = o\n",
            "인덱스 = 11 요소값 = n\n"
          ]
        }
      ]
    },
    {
      "cell_type": "code",
      "source": [
        "# 위에서 튜플 타입 e 를 언팩킹 출력\n",
        "for i,v in enumerate('hello python'):\n",
        "  print(i,v)"
      ],
      "metadata": {
        "colab": {
          "base_uri": "https://localhost:8080/"
        },
        "id": "_yH5zcsrrcrW",
        "outputId": "4d128abc-06a2-4184-ad95-7a97cc0ba824"
      },
      "execution_count": null,
      "outputs": [
        {
          "output_type": "stream",
          "name": "stdout",
          "text": [
            "0 h\n",
            "1 e\n",
            "2 l\n",
            "3 l\n",
            "4 o\n",
            "5  \n",
            "6 p\n",
            "7 y\n",
            "8 t\n",
            "9 h\n",
            "10 o\n",
            "11 n\n"
          ]
        }
      ]
    },
    {
      "cell_type": "markdown",
      "source": [
        "### zip() 함수\n",
        "- zip() 함수는 파이썬에서 여러 개의 반복 가능한(iterable) 객체를 병렬적으로 묶어주는 내장 함수입니다. 각 객체로부터 순서대로 하나의 요소씩 가져와 `튜플로 묶어주는` 이터레이터를 반환합니다. 주로 여러 개의 리스트나 튜플을 병렬적으로 처리하고자 할 때 사용됩니다.\n",
        "- zip(iterable1, iterable2, ...) : 2개 이상의 반복 객체를 대상으로 합니다."
      ],
      "metadata": {
        "id": "uuxOHhwJku4_"
      }
    },
    {
      "cell_type": "code",
      "source": [
        "test1 = [100,101,102,103]\n",
        "test2 = ['apple','banana','orange','melon']\n",
        "\n",
        "# zip 함수 없이 for문 하나로 2개의 리스트에서 순차적 값 가져오기\n",
        "# 자바 : for(i=0;i<test1.size();i++) . 파이썬은 X\n",
        "for i in range(len(test1)):\n",
        "  print(test1[i],test2[i])\n",
        "# test1 의 갯수가 더 많으면 오류"
      ],
      "metadata": {
        "colab": {
          "base_uri": "https://localhost:8080/"
        },
        "id": "sW5KEzd3pA6e",
        "outputId": "826c173c-ba32-4b53-e77b-bde250634629"
      },
      "execution_count": null,
      "outputs": [
        {
          "output_type": "stream",
          "name": "stdout",
          "text": [
            "100 apple\n",
            "101 banana\n",
            "102 orange\n",
            "103 melon\n"
          ]
        }
      ]
    },
    {
      "cell_type": "code",
      "source": [
        "test1 = [100,101,102,103]\n",
        "test2 = ['apple','banana','orange','melon']\n",
        "for item in zip(test1,test2):\n",
        "  print(item)"
      ],
      "metadata": {
        "colab": {
          "base_uri": "https://localhost:8080/"
        },
        "id": "dWCN0U5yqd5-",
        "outputId": "b0519f14-57df-434d-f82b-e47ca91ce674"
      },
      "execution_count": null,
      "outputs": [
        {
          "output_type": "stream",
          "name": "stdout",
          "text": [
            "(100, 'apple')\n",
            "(101, 'banana')\n",
            "(102, 'orange')\n",
            "(103, 'melon')\n"
          ]
        }
      ]
    },
    {
      "cell_type": "code",
      "source": [
        "# 위에서 item 은 tuple\n",
        "# 각각 데이터를 접근하기 위해서는 언팩킹을 더 많이 사용\n",
        "for t1,t2 in zip(test1,test2):\n",
        "  print(t1, t2)"
      ],
      "metadata": {
        "colab": {
          "base_uri": "https://localhost:8080/"
        },
        "id": "F7pt6Xt2qrc_",
        "outputId": "2636b13f-71fe-4b97-9f2f-a460798aac9e"
      },
      "execution_count": null,
      "outputs": [
        {
          "output_type": "stream",
          "name": "stdout",
          "text": [
            "100 apple\n",
            "101 banana\n",
            "102 orange\n",
            "103 melon\n"
          ]
        }
      ]
    },
    {
      "cell_type": "code",
      "source": [
        "# 퀴즈 : test3 =['🍒','🍉','🍆','🍈']\n",
        "# zip 함수로 3개의 반복객체 값을 가져오기\n",
        "# 순서대로 같은 위치의 요소값 출력(튜플 또는 언패킹 사용)\n",
        "# 튜플\n",
        "test3 =['🍒','🍉','🍆','🍈']\n",
        "for item in zip(test1,test2,test3):\n",
        "  print(item)\n",
        "# 언패킹\n",
        "for t1,t2,t3 in zip(test1,test2,test3):\n",
        "  print(t1,t2,t3)"
      ],
      "metadata": {
        "colab": {
          "base_uri": "https://localhost:8080/"
        },
        "id": "r95SYVAcsiGE",
        "outputId": "6ca302a2-381d-4b60-c662-f3416198822e"
      },
      "execution_count": null,
      "outputs": [
        {
          "output_type": "stream",
          "name": "stdout",
          "text": [
            "(100, 'apple', '🍒')\n",
            "(101, 'banana', '🍉')\n",
            "(102, 'orange', '🍆')\n",
            "(103, 'melon', '🍈')\n",
            "100 apple 🍒\n",
            "101 banana 🍉\n",
            "102 orange 🍆\n",
            "103 melon 🍈\n"
          ]
        }
      ]
    },
    {
      "cell_type": "code",
      "source": [
        "# 오류 : 언패킹 저장 변수 갯수 일치해야함.\n",
        "for t1,t2 in zip(test1,test2,test3):\n",
        "  print(t1,t2)"
      ],
      "metadata": {
        "id": "cWgYnzV1yUa4"
      },
      "execution_count": null,
      "outputs": []
    }
  ]
}