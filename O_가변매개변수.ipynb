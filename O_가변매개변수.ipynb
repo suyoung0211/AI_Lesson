{
  "nbformat": 4,
  "nbformat_minor": 0,
  "metadata": {
    "colab": {
      "provenance": [],
      "authorship_tag": "ABX9TyMxoRcYtsKMPXwGjaDU0hFI",
      "include_colab_link": true
    },
    "kernelspec": {
      "name": "python3",
      "display_name": "Python 3"
    },
    "language_info": {
      "name": "python"
    }
  },
  "cells": [
    {
      "cell_type": "markdown",
      "metadata": {
        "id": "view-in-github",
        "colab_type": "text"
      },
      "source": [
        "<a href=\"https://colab.research.google.com/github/suyoung0211/Python/blob/main/O_%EA%B0%80%EB%B3%80%EB%A7%A4%EA%B0%9C%EB%B3%80%EC%88%98.ipynb\" target=\"_parent\"><img src=\"https://colab.research.google.com/assets/colab-badge.svg\" alt=\"Open In Colab\"/></a>"
      ]
    },
    {
      "cell_type": "markdown",
      "source": [
        "###  가변매개변수\n",
        "- 정해지지 않은 갯수, 이름의 인자를 함수가 받을 수 있도록 함\n",
        "- 시퀀스 매개변수 : *\n",
        "  + 튜플 형식. 정해지지 않은 갯수로 인자를 받을 수 있음\n",
        "- 키워드 매개변수 : **\n",
        "  + 매개변수이름=값, 딕셔너리 형식. 정해지지 않은 이름의 인자를 받을 수 있음"
      ],
      "metadata": {
        "id": "EbU-_JdRnan_"
      }
    },
    {
      "cell_type": "code",
      "source": [
        "def test_func(*args):\n",
        "  print(type(args))\n",
        "  for i,v in enumerate(args):\n",
        "    print(i,':',v)\n",
        "  return args\n",
        "\n",
        "# 인자의 갯수가 가변적인 함수 호출\n",
        "# 인자 값의 나열 -> 시퀀스 매개변수\n",
        "print(test_func(10,20,30,40))\n",
        "print(test_func(10,20,30))\n",
        "print(test_func(10,20))\n",
        "print(test_func(10))\n",
        "print(test_func())"
      ],
      "metadata": {
        "colab": {
          "base_uri": "https://localhost:8080/"
        },
        "id": "hmgYXeYLoNZK",
        "outputId": "464fb172-ffb2-4c74-82b2-7c0312a1e1f3"
      },
      "execution_count": null,
      "outputs": [
        {
          "output_type": "stream",
          "name": "stdout",
          "text": [
            "<class 'tuple'>\n",
            "0 : 10\n",
            "1 : 20\n",
            "2 : 30\n",
            "3 : 40\n",
            "(10, 20, 30, 40)\n",
            "<class 'tuple'>\n",
            "0 : 10\n",
            "1 : 20\n",
            "2 : 30\n",
            "(10, 20, 30)\n",
            "<class 'tuple'>\n",
            "0 : 10\n",
            "1 : 20\n",
            "(10, 20)\n",
            "<class 'tuple'>\n",
            "0 : 10\n",
            "(10,)\n",
            "<class 'tuple'>\n",
            "()\n"
          ]
        }
      ]
    },
    {
      "cell_type": "code",
      "source": [
        "# 키워드 매개변수\n",
        "# 매개변수 이름이 정해지지 않은 형식의 함수\n",
        "def test2_func(**kwargs):\n",
        "  print(type(kwargs))   # <class 'dict'>\n",
        "  print(kwargs)\n",
        "  for key,value in kwargs.items():\n",
        "    print(f'{key} : {value}')\n",
        "\n",
        "test2_func(name='momo',age=30,city='서울')"
      ],
      "metadata": {
        "colab": {
          "base_uri": "https://localhost:8080/"
        },
        "id": "5BJ7t7wkoeWT",
        "outputId": "0d5fd45d-68a7-473f-e946-bbc7685e0dc1"
      },
      "execution_count": null,
      "outputs": [
        {
          "output_type": "stream",
          "name": "stdout",
          "text": [
            "<class 'dict'>\n",
            "{'name': 'momo', 'age': 30, 'city': '서울'}\n",
            "name : momo\n",
            "age : 30\n",
            "city : 서울\n"
          ]
        }
      ]
    },
    {
      "cell_type": "code",
      "source": [
        "test2_func(korean=99,english=44,math=66)"
      ],
      "metadata": {
        "colab": {
          "base_uri": "https://localhost:8080/"
        },
        "id": "yY0NgiLhrwwh",
        "outputId": "6315e09a-80ea-4953-d761-2e70c84e6e04"
      },
      "execution_count": null,
      "outputs": [
        {
          "output_type": "stream",
          "name": "stdout",
          "text": [
            "<class 'dict'>\n",
            "{'korean': 99, 'english': 44, 'math': 66}\n",
            "korean : 99\n",
            "english : 44\n",
            "math : 66\n"
          ]
        }
      ]
    },
    {
      "cell_type": "markdown",
      "source": [
        "###  참고\n",
        "- 파이썬 함수는 리턴값을 여러개 나열하여 패킹한 튜플 형식으로 전달"
      ],
      "metadata": {
        "id": "eXvDALeDsrb_"
      }
    },
    {
      "cell_type": "code",
      "source": [
        "def arith(num1,num2):\n",
        "  return num1+num2, num1-num2, num1*num2\n",
        "\n",
        "result = arith(10,11)\n",
        "# a,b,c = arith(10,11)   # 언팩킹하여 변수 저장.\n",
        "print(type(result))\n",
        "result"
      ],
      "metadata": {
        "colab": {
          "base_uri": "https://localhost:8080/"
        },
        "id": "MIYWXYNCs1Y2",
        "outputId": "305e0ea9-ad25-49f9-a90c-8e4d44b1f2e9"
      },
      "execution_count": null,
      "outputs": [
        {
          "output_type": "stream",
          "name": "stdout",
          "text": [
            "<class 'tuple'>\n"
          ]
        },
        {
          "output_type": "execute_result",
          "data": {
            "text/plain": [
              "(21, -1, 110)"
            ]
          },
          "metadata": {},
          "execution_count": 17
        }
      ]
    }
  ]
}