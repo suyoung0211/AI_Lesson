{
  "nbformat": 4,
  "nbformat_minor": 0,
  "metadata": {
    "colab": {
      "provenance": [],
      "authorship_tag": "ABX9TyNORBB1thtJwwl8xyflsK5u",
      "include_colab_link": true
    },
    "kernelspec": {
      "name": "python3",
      "display_name": "Python 3"
    },
    "language_info": {
      "name": "python"
    }
  },
  "cells": [
    {
      "cell_type": "markdown",
      "metadata": {
        "id": "view-in-github",
        "colab_type": "text"
      },
      "source": [
        "<a href=\"https://colab.research.google.com/github/suyoung0211/Python/blob/main/L_%EB%B3%80%EC%88%98scope.ipynb\" target=\"_parent\"><img src=\"https://colab.research.google.com/assets/colab-badge.svg\" alt=\"Open In Colab\"/></a>"
      ]
    },
    {
      "cell_type": "markdown",
      "source": [
        "##🌐 파이썬과 자바스크립트에서 불린(Boolean) 평가\n",
        "✅ 두 언어에서 공통적으로 `False로 평가`되는 값들 ➡ Falsy\n",
        "- False (불리언 false 값)\n",
        "- 0 (숫자 0)\n",
        "- \"\" (빈 문자열)\n",
        "- [] (빈 리스트 또는 배열)\n",
        "- {} (빈 딕셔너리 또는 객체)\n",
        "- None (파이썬) / null (자바스크립트)\n",
        "\n",
        "✅ 두 언어에서 공통적으로 `True로 평가`되는 값들 ➡ Truthy\n",
        "- True (불리언 true 값)\n",
        "- 0이 아닌 숫자 (양수, 음수 모두 포함)\n",
        "- \"hello\" 같은 비어 있지 않은 문자열\n",
        "- [1, 2] 같은 비어 있지 않은 리스트/배열\n",
        "- {\"a\": 1} 같은 비어 있지 않은 딕셔너리/객체\n",
        "\n",
        "⚠️ 차이점이 있는 값들\n",
        "- 자바스크립트에서는 빈 객체 {}도 True로 평가됨 → 파이썬에서는 빈 딕셔너리 {}는 False로 평가됨"
      ],
      "metadata": {
        "id": "qEJnhtwokMT0"
      }
    },
    {
      "cell_type": "code",
      "source": [
        "# and, or -> 단축평가, 단락평가\n",
        "# not 논리연산 - True, False (파이썬은 Boolean 대문자로 사용)\n",
        "# if 조건식"
      ],
      "metadata": {
        "id": "GhITxRO2kWYG"
      },
      "execution_count": null,
      "outputs": []
    },
    {
      "cell_type": "code",
      "source": [
        "# not\n",
        "print(not True)       # False\n",
        "print(not 0)          # True\n",
        "print(not 3)          # False\n",
        "print(not '')         # True\n",
        "print(not 'hello')    # False\n",
        "print(not '     ')    # False"
      ],
      "metadata": {
        "colab": {
          "base_uri": "https://localhost:8080/"
        },
        "id": "MV9nO-0Vk5jF",
        "outputId": "47851908-d76d-4a61-85d9-6c58d9512ed5"
      },
      "execution_count": null,
      "outputs": [
        {
          "output_type": "stream",
          "name": "stdout",
          "text": [
            "False\n",
            "True\n",
            "False\n",
            "True\n",
            "False\n",
            "False\n"
          ]
        }
      ]
    },
    {
      "cell_type": "code",
      "source": [
        "if True:    # : (콜론) 은 if 블럭을 시작하는 기호. 해당 블록 구문은 들여쓰기\n",
        "  print('결과는 참입니다.')\n",
        "\n",
        "if False:\n",
        "  print('결과는 거짓입니다.')   # 무조건 출력 안됨"
      ],
      "metadata": {
        "colab": {
          "base_uri": "https://localhost:8080/"
        },
        "id": "7G2kYhhHlZgg",
        "outputId": "d9ed1c0b-74ce-4cd7-edc1-e92a710ff824"
      },
      "execution_count": null,
      "outputs": [
        {
          "output_type": "stream",
          "name": "stdout",
          "text": [
            "결과는 참입니다.\n"
          ]
        }
      ]
    },
    {
      "cell_type": "code",
      "source": [
        "message = input('테스트 문자열 입력 >>> ')\n",
        "if message.strip():\n",
        "  print('길이가 0보다 큰 문자열 입니다')\n",
        "else:\n",
        "  print('길이가 0인 문자열 입니다.')"
      ],
      "metadata": {
        "colab": {
          "base_uri": "https://localhost:8080/"
        },
        "id": "jcd9l3EIl4r2",
        "outputId": "e50a1a40-bc21-497f-82cf-97a4a6f94585"
      },
      "execution_count": null,
      "outputs": [
        {
          "output_type": "stream",
          "name": "stdout",
          "text": [
            "테스트 문자열 입력 >>> ㅇㅇ\n",
            "길이가 0보다 큰 문자열 입니다\n"
          ]
        }
      ]
    },
    {
      "cell_type": "code",
      "source": [
        "# if ~ else if ~ else if ~ else 구문\n",
        "age = int(input('나이를 입력 >>> '))\n",
        "if age>19:\n",
        "  print('성인입니다.')\n",
        "elif age>14:\n",
        "  print('청소년 입니다.')\n",
        "elif age>6:\n",
        "  print('어린이 입니다.')\n",
        "elif age>0:\n",
        "  print('유아 입니다.')\n",
        "else:\n",
        " print('잘못된 입력값 입니다.')\n",
        "print('입력한 나이 :',age)"
      ],
      "metadata": {
        "colab": {
          "base_uri": "https://localhost:8080/"
        },
        "id": "oZe6SQWSmHU3",
        "outputId": "8ec3a276-e122-495b-fec5-74f03bbb42e0"
      },
      "execution_count": null,
      "outputs": [
        {
          "output_type": "stream",
          "name": "stdout",
          "text": [
            "나이를 입력 >>> 1\n",
            "유아 입니다.\n",
            "입력한 나이 : 1\n"
          ]
        }
      ]
    },
    {
      "cell_type": "markdown",
      "source": [
        "### 조건부 표현식\n",
        "- 자바에서는\n",
        "    ```\n",
        "    조건식? 참일때 값(또는 명령): 거짓일 때 값(또는 명령)\n",
        "    ```\n",
        "- 파이썬은\n",
        "\n",
        "   ```\n",
        "   참일때(또는 명령) if 조건식 else 거짓일 때(또는 명령)\n",
        "   ```"
      ],
      "metadata": {
        "id": "n1Ik-ngpoIdK"
      }
    },
    {
      "cell_type": "code",
      "source": [
        "# \\(역슬래쉬) : 하나의 명령이 너무 길어서 여려줄로 작성할 때 사용\n",
        "age = int(input('나이를 입력하세요 : '))\n",
        "message = '성인입니다' if age > 19 else \\\n",
        "          '청소년입니다' if age > 14 else \\\n",
        "          '어린이입니다' if age > 6 else \\\n",
        "          '유아입니다' if age > 0 else \\\n",
        "          '다시 입력해주세요'\n",
        "message"
      ],
      "metadata": {
        "colab": {
          "base_uri": "https://localhost:8080/",
          "height": 54
        },
        "id": "WFwT19tUo4Ln",
        "outputId": "8dc54fe5-4fdf-48cb-c884-01fc47ccdd1e"
      },
      "execution_count": null,
      "outputs": [
        {
          "name": "stdout",
          "output_type": "stream",
          "text": [
            "나이를 입력하세요 : 12\n"
          ]
        },
        {
          "output_type": "execute_result",
          "data": {
            "text/plain": [
              "'어린이입니다'"
            ],
            "application/vnd.google.colaboratory.intrinsic+json": {
              "type": "string"
            }
          },
          "metadata": {},
          "execution_count": 16
        }
      ]
    },
    {
      "cell_type": "markdown",
      "source": [
        "### 단락 평가 (Short-Circuit Evaluation)\n",
        "- Python에서는 and와 or 연산자가 왼쪽 피연산자의 값에 따라 오른쪽 피연산자를 평가(실행) 할 것인지를 결정하는 방식을 사용합니다.\n",
        "\n",
        "- 모든 요소를 처리하지 않고도 목표를 달성할 수 있을 때, 연산이 조기에 종료되므로 이는 성능 최적화 측면에서 매우 유용합니다.\n",
        "\n",
        " - A and B  : A와 B가 모두 참일 때만 결과가 참.\n",
        "\n",
        "  ```\n",
        "  A가 False라면 B를 확인하지 않아도 False 이므로 A를 반환\n",
        "  A가 True라면 B를 평가해야 하므로 B를 반환\n",
        "  ```\n",
        "\n",
        " - A or B  : A와 B가 모두 거짓일 때만 결과가 거짓.\n",
        "\n",
        "  ```\n",
        "  A가 True라면 B를 확인하지 않아도 True 이므로 A를 반환\n",
        "  A가 False라면 B를 평가해야 하므로 B를 반환\n",
        "  ```"
      ],
      "metadata": {
        "id": "7_OM1bVapIk_"
      }
    },
    {
      "cell_type": "code",
      "source": [
        "# 기존 and, or 논리연산은 무조건 결과가 True, False\n",
        "# 논리 and 연산 특성을 활용한 단락 평가\n",
        "print(True and 3)       # 3\n",
        "print(3 and 5)          # 첫번째 3 은 참으로 평가.    =>  B 반환 5\n",
        "print(0 and 5)          # 첫번째 0 은 거짓으로 평가.  =>  A 반환 0"
      ],
      "metadata": {
        "colab": {
          "base_uri": "https://localhost:8080/"
        },
        "id": "HCdreluhqMRQ",
        "outputId": "3f97c653-2339-46dd-a859-6ba9a54e199e"
      },
      "execution_count": null,
      "outputs": [
        {
          "output_type": "stream",
          "name": "stdout",
          "text": [
            "3\n",
            "5\n",
            "0\n"
          ]
        }
      ]
    },
    {
      "cell_type": "code",
      "source": [
        "# or\n",
        "print(True or 3)       # True\n",
        "print(3 or 5)          # 첫번째 3 은 참으로 평가.    =>  A 반환 3\n",
        "print(0 or 5)          # 첫번째 0 은 거짓으로 평가.  =>  B 반환 5"
      ],
      "metadata": {
        "colab": {
          "base_uri": "https://localhost:8080/"
        },
        "id": "kFx2vhsDrvcO",
        "outputId": "ef108788-21c9-42ea-8f48-12f720a15732"
      },
      "execution_count": null,
      "outputs": [
        {
          "output_type": "stream",
          "name": "stdout",
          "text": [
            "True\n",
            "3\n",
            "5\n"
          ]
        }
      ]
    },
    {
      "cell_type": "code",
      "source": [
        "age = int(input('나이 입력 >>> '))\n",
        "result = age>19 and '성인입니다.'\n",
        "print(result)"
      ],
      "metadata": {
        "colab": {
          "base_uri": "https://localhost:8080/"
        },
        "id": "O6k2u-4rsGm1",
        "outputId": "2a547a76-0213-4f56-8d54-d3281fddd912"
      },
      "execution_count": null,
      "outputs": [
        {
          "output_type": "stream",
          "name": "stdout",
          "text": [
            "나이 입력 >>> 22\n",
            "성인입니다.\n"
          ]
        }
      ]
    }
  ]
}