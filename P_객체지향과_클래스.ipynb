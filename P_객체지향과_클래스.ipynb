{
  "nbformat": 4,
  "nbformat_minor": 0,
  "metadata": {
    "colab": {
      "provenance": [],
      "include_colab_link": true
    },
    "kernelspec": {
      "name": "python3",
      "display_name": "Python 3"
    },
    "language_info": {
      "name": "python"
    }
  },
  "cells": [
    {
      "cell_type": "markdown",
      "metadata": {
        "id": "view-in-github",
        "colab_type": "text"
      },
      "source": [
        "<a href=\"https://colab.research.google.com/github/suyoung0211/Python/blob/main/P_%EA%B0%9D%EC%B2%B4%EC%A7%80%ED%96%A5%EA%B3%BC_%ED%81%B4%EB%9E%98%EC%8A%A4.ipynb\" target=\"_parent\"><img src=\"https://colab.research.google.com/assets/colab-badge.svg\" alt=\"Open In Colab\"/></a>"
      ]
    },
    {
      "cell_type": "code",
      "execution_count": null,
      "metadata": {
        "id": "W2Ez7X1zoczf"
      },
      "outputs": [],
      "source": [
        "# 클래스 정의\n",
        "class Dog:\n",
        "    pass # 내용이 없는 블록을 만들 때 사용"
      ]
    },
    {
      "cell_type": "code",
      "source": [
        "# 객체 생성 : 클래스이름()\n",
        "coco = Dog()\n",
        "print(coco)\n",
        "print(type(coco))\n",
        "# __main__\n",
        "# ↪ 클래스가 정의된 파이썬 스크립트 파일에서 직접 실행되고 있다는 뜻\n",
        "# import 모듈이 아닐 떄\n",
        "print(id(coco))          # 10진수 값\n",
        "print(f'{id(coco):x}')   # 16진수 값"
      ],
      "metadata": {
        "colab": {
          "base_uri": "https://localhost:8080/"
        },
        "id": "jwVkUHfKojGD",
        "outputId": "9e7035be-3926-43ea-c0fd-7b96f680a793"
      },
      "execution_count": null,
      "outputs": [
        {
          "output_type": "stream",
          "name": "stdout",
          "text": [
            "<__main__.Dog object at 0x78c5d85bcbf0>\n",
            "<class '__main__.Dog'>\n",
            "132791133785072\n",
            "78c5d85bcbf0\n"
          ]
        }
      ]
    },
    {
      "cell_type": "code",
      "source": [
        "# import 할 모듈을 정의\n",
        "%%writefile puppy.py\n",
        "# 클래스 객체\n",
        "class Puppy:\n",
        "  print('🐶')\n",
        "  print(__name__)\n",
        "\n",
        "# 함수\n",
        "def puppy():\n",
        "  print('테스트 🐶')\n",
        "\n",
        "# python 명령으로 실행할 때\n",
        "if __name__=='__main__':\n",
        "  puppy()"
      ],
      "metadata": {
        "colab": {
          "base_uri": "https://localhost:8080/"
        },
        "id": "IgWlM55gp41o",
        "outputId": "39464323-8012-4f4d-8d2d-1f394fc9349f"
      },
      "execution_count": null,
      "outputs": [
        {
          "output_type": "stream",
          "name": "stdout",
          "text": [
            "Writing puppy.py\n"
          ]
        }
      ]
    },
    {
      "cell_type": "code",
      "source": [
        "print(__name__)    # 내장 변수 : 실행 중인 프로그램의 이름.\n",
        "# 실행 중인 스크립트 파일은 '__main__' 값을 갖는다."
      ],
      "metadata": {
        "colab": {
          "base_uri": "https://localhost:8080/"
        },
        "id": "BnEPy7_qo9WW",
        "outputId": "30743353-d774-49dc-d5f9-2a75687a76d2"
      },
      "execution_count": null,
      "outputs": [
        {
          "output_type": "stream",
          "name": "stdout",
          "text": [
            "__main__\n"
          ]
        }
      ]
    },
    {
      "cell_type": "code",
      "source": [
        "from puppy import Puppy,puppy\n",
        "mimi = Puppy()\n",
        "print(mimi)\n",
        "print(type(mimi))\n",
        "puppy()"
      ],
      "metadata": {
        "colab": {
          "base_uri": "https://localhost:8080/"
        },
        "id": "us_yZWihqSPd",
        "outputId": "9f164366-cfd4-4f43-c815-62799295111f"
      },
      "execution_count": null,
      "outputs": [
        {
          "output_type": "stream",
          "name": "stdout",
          "text": [
            "<puppy.Puppy object at 0x7e0ea388e900>\n",
            "<class 'puppy.Puppy'>\n",
            "테스트 🐶\n"
          ]
        }
      ]
    },
    {
      "cell_type": "code",
      "source": [
        "!python puppy.py\n",
        "# 클래스 정의는 파이썬 인터프리터가 해당 코드를 실행하면서 이루어짐.(클래스 객체를 만든다고도 함.)\n",
        "# 생성자 실행으로 만들어지는 것은 인스턴스라고 하여 구별하려고 함."
      ],
      "metadata": {
        "colab": {
          "base_uri": "https://localhost:8080/"
        },
        "id": "TGeavee3qtj5",
        "outputId": "3a13e3a9-bde3-48d6-d824-2a8276047534"
      },
      "execution_count": null,
      "outputs": [
        {
          "output_type": "stream",
          "name": "stdout",
          "text": [
            "🐶\n",
            "__main__\n"
          ]
        }
      ]
    },
    {
      "cell_type": "code",
      "source": [
        "# import 할 모듈을 정의\n",
        "%%writefile test.py\n",
        "# 클래스 객체\n",
        "class Puppy:\n",
        "  print('🐶')     # 클래스를 정의하면서 실행함.\n",
        "  # 인스턴스 메소드\n",
        "  def info(self):\n",
        "    print(f'모듈의 __name__ 속성 : {__name__}')\n",
        "\n",
        "# 함수 정의\n",
        "def puppy():\n",
        "  print('테스트 🐶')\n",
        "\n",
        "# 💥python 명령으로 직접 실행할 때(참고)\n",
        "# 특정 함수 호출하고 싶다면...\n",
        "# __name__ 은 직접 실행 vs import test.py 에 따라 값이 다름\n",
        "if __name__=='__main__':\n",
        "  puppy()"
      ],
      "metadata": {
        "colab": {
          "base_uri": "https://localhost:8080/"
        },
        "id": "go4iDvOYF5rQ",
        "outputId": "7bf857d7-b824-48c2-e057-c95ba00fd3fd"
      },
      "execution_count": null,
      "outputs": [
        {
          "output_type": "stream",
          "name": "stdout",
          "text": [
            "Writing test.py\n"
          ]
        }
      ]
    },
    {
      "cell_type": "code",
      "source": [
        "from test import Puppy,puppy\n",
        "mimi = Puppy()\n",
        "print(mimi)\n",
        "print(type(mimi))\n",
        "mimi.info()\n",
        "puppy()"
      ],
      "metadata": {
        "colab": {
          "base_uri": "https://localhost:8080/"
        },
        "id": "yo5hspNdGV1e",
        "outputId": "21f2140a-6445-4e25-8ec5-16162afaf1d4"
      },
      "execution_count": null,
      "outputs": [
        {
          "output_type": "stream",
          "name": "stdout",
          "text": [
            "<test.Puppy object at 0x7e0ea388e900>\n",
            "<class 'test.Puppy'>\n",
            "모듈의 __name__ 속성 : test\n",
            "테스트 🐶\n"
          ]
        }
      ]
    },
    {
      "cell_type": "code",
      "source": [
        "!python test.py\n",
        "# 클래스 정의는 파이썬 인터프리터가 해당 코드를 실행하면서 이루어짐.(클래스 객체를 만든다고도 함.)\n",
        "# 생성자 실행으로 만들어지는 것은 인스턴스라고 하여 구별하려고 함."
      ],
      "metadata": {
        "colab": {
          "base_uri": "https://localhost:8080/"
        },
        "id": "sqwGdyIMHuJ0",
        "outputId": "aa46445d-d51c-4585-c87d-581de841c358"
      },
      "execution_count": null,
      "outputs": [
        {
          "output_type": "stream",
          "name": "stdout",
          "text": [
            "🐶\n",
            "테스트 🐶\n"
          ]
        }
      ]
    },
    {
      "cell_type": "code",
      "source": [
        "class Dog:\n",
        "    # 클래스 변수. (자바 static 비슷.)\n",
        "    name = '멍멍이'\n",
        "    age = 0\n",
        "    family = '아직모름'\n",
        "\n",
        "    # 클래스에 포함된 함수 : 메소드\n",
        "    def eat(self):   # self 는 자바의 this\n",
        "        print(f'{self.name}는 사료를 먹습니다!')\n",
        "        # self.name 인스턴스 변수가 없으면 클래스변수를 사용합니다."
      ],
      "metadata": {
        "id": "W8LWJDBxo_46"
      },
      "execution_count": null,
      "outputs": []
    },
    {
      "cell_type": "code",
      "source": [
        "print(Dog.name)\n",
        "print(Dog.age)\n",
        "print(Dog.family)"
      ],
      "metadata": {
        "colab": {
          "base_uri": "https://localhost:8080/"
        },
        "id": "NYucbImbtwwx",
        "outputId": "4bc49476-6139-4338-c285-3649f515a1e3"
      },
      "execution_count": null,
      "outputs": [
        {
          "output_type": "stream",
          "name": "stdout",
          "text": [
            "멍멍이\n",
            "0\n",
            "아직모름\n"
          ]
        }
      ]
    },
    {
      "cell_type": "code",
      "source": [
        "'''\n",
        " self 는 현재 인스턴스(instance)를 나타내며,\n",
        " 클래스 또는 인스턴스의 속성에 접근하거나 수정할 때 사용됩니다.\n",
        "'''\n",
        "coco = Dog()   # Dog 객체를 생성하고 coco 변수로 생성된 객체의 주소를 저장하여 참조합니다.\n",
        "coco.name = '코코'\n",
        "coco.age = '15'\n",
        "coco.family = '포메리안'\n",
        "coco.weight = 8\n",
        "# coco 인스턴스에 name,age,family,weight 인스턴스 변수가 새로 생기고, 클래스 변수를 사용하지 않음.\n",
        "print(coco.name)\n",
        "print(coco.age)\n",
        "print(coco.family)\n",
        "print(coco.weight)\n",
        "coco.eat()"
      ],
      "metadata": {
        "colab": {
          "base_uri": "https://localhost:8080/"
        },
        "id": "O320PhSctsE_",
        "outputId": "0643bd69-c5bc-4fc9-fa0f-5073a85b053c"
      },
      "execution_count": null,
      "outputs": [
        {
          "output_type": "stream",
          "name": "stdout",
          "text": [
            "코코\n",
            "15\n",
            "포메리안\n",
            "8\n",
            "코코는 사료를 먹습니다!\n"
          ]
        }
      ]
    },
    {
      "cell_type": "code",
      "source": [
        "print(Dog.name)\n",
        "print(Dog.age)\n",
        "print(Dog.family)"
      ],
      "metadata": {
        "colab": {
          "base_uri": "https://localhost:8080/"
        },
        "id": "th-rKo8lsk_e",
        "outputId": "2d01c6ab-ba7d-42fb-bb5e-a1e65549e825"
      },
      "execution_count": null,
      "outputs": [
        {
          "output_type": "stream",
          "name": "stdout",
          "text": [
            "멍멍이\n",
            "0\n",
            "아직모름\n"
          ]
        }
      ]
    },
    {
      "cell_type": "code",
      "source": [
        "bori = Dog()\n",
        "bori.name = '보리'\n",
        "bori.age = '7'\n",
        "bori.family = '말티푸'\n",
        "bori.eat()"
      ],
      "metadata": {
        "colab": {
          "base_uri": "https://localhost:8080/"
        },
        "id": "eVdVcZ8rtnX6",
        "outputId": "3488435c-e81d-4a32-ab8c-3142cfe603ad"
      },
      "execution_count": null,
      "outputs": [
        {
          "output_type": "stream",
          "name": "stdout",
          "text": [
            "보리는 사료를 먹습니다!\n"
          ]
        }
      ]
    },
    {
      "cell_type": "code",
      "source": [
        "print(Dog.name)\n",
        "print(Dog.age)\n",
        "print(Dog.family)\n",
        "# print(Dog.weight)  #  type object 'Dog' has no attribute 'weight'"
      ],
      "metadata": {
        "colab": {
          "base_uri": "https://localhost:8080/"
        },
        "id": "a58lWTwZtzMi",
        "outputId": "02db2311-07e4-4e45-d1a5-ab05e7d1502a"
      },
      "execution_count": null,
      "outputs": [
        {
          "output_type": "stream",
          "name": "stdout",
          "text": [
            "멍멍이\n",
            "0\n",
            "아직모름\n"
          ]
        }
      ]
    },
    {
      "cell_type": "markdown",
      "source": [
        "- 클래스가 인스턴스화될 때 자동으로 호출되는 초기화 메소드입니다.생성자(constructor) 역할"
      ],
      "metadata": {
        "id": "fhuY-CkxMiu5"
      }
    },
    {
      "cell_type": "code",
      "source": [
        "# 생성자 : __init__    (참고 : __메소드__ 형식으로  정해진 몇가지가 있습니다.)\n",
        "class Dog:\n",
        "    def __init__(self):\n",
        "        print(self, 'init 호출!')\n",
        "\n",
        "coco = Dog()\n",
        "print(coco)"
      ],
      "metadata": {
        "colab": {
          "base_uri": "https://localhost:8080/"
        },
        "id": "G57Y4Zozt-6Y",
        "outputId": "2e6adabb-63fd-40b9-908f-b388ecbce95b"
      },
      "execution_count": null,
      "outputs": [
        {
          "output_type": "stream",
          "name": "stdout",
          "text": [
            "<__main__.Dog object at 0x78c5d85be1b0> init 호출!\n",
            "<__main__.Dog object at 0x78c5d85be1b0>\n"
          ]
        }
      ]
    },
    {
      "cell_type": "markdown",
      "source": [
        "### 스페셜 메소드\n",
        "- 클래스 안에서 양쪽에 __ (언더바 2번) 이 있는 메소드\n",
        "- 특정한 시점에서 특정한 동작을 하는 메소드\n",
        "- 파이썬에서는 클래스 내에 `__init__()`을 여러 번 정의하면 마지막에 정의된 것만 유효합니다."
      ],
      "metadata": {
        "id": "Eyo-KbGavWu2"
      }
    },
    {
      "cell_type": "code",
      "source": [
        "class Cat:\n",
        "  # 인스턴스 초기화 메소드에서 기본값을 임의로 설정\n",
        "  # 인스턴스 변수는 self 예약어와 같이 사용\n",
        "    def __init__(self):\n",
        "        self.name = 'unknown'   # 속성의 초기화 - name,age 인스턴스 변수 정의와 초기화\n",
        "        self.age = 0\n",
        "        print('__init__')"
      ],
      "metadata": {
        "id": "dRWBs_6E4aTh"
      },
      "execution_count": null,
      "outputs": []
    },
    {
      "cell_type": "code",
      "source": [
        "cat1 = Cat()\n",
        "print(cat1.name)\n",
        "print(cat1.age)\n",
        "print(cat1)"
      ],
      "metadata": {
        "colab": {
          "base_uri": "https://localhost:8080/"
        },
        "id": "cnZcfJkN4vvC",
        "outputId": "03ff6a7f-1ee9-4cd7-8624-14d1c74e5458"
      },
      "execution_count": null,
      "outputs": [
        {
          "output_type": "stream",
          "name": "stdout",
          "text": [
            "__init__\n",
            "unknown\n",
            "0\n",
            "<__main__.Cat object at 0x78c5cb2a4f50>\n"
          ]
        }
      ]
    },
    {
      "cell_type": "code",
      "source": [
        "# name,age 속성(인스턴스 변수)을 정의한 클래스\n",
        "# 인스턴스 변수는 self.변수명으로 __init__ 메소드 안에서 초기화\n",
        "# 중요.\n",
        "class Cat:\n",
        "    def __init__(self):\n",
        "        self.name = 'unknown'   # 속성의 초기화 - name,age 인스턴스 변수 정의와 초기화\n",
        "        self.age = 0\n",
        "        print('__init__')\n",
        "\n",
        "    # 커스텀 생성자 : 생성자에서 값을 전달 -> 인스턴스 변수 name, age 초기화\n",
        "    def __init__(self,name,age):\n",
        "        self.name = name\n",
        "        self.age = age\n",
        "\n",
        "    def __str__(self):   # 자바의 toString() 메소드 재정의 입니다.\n",
        "        return f\"{self.name}은 나이 {self.age} 입니다.\"\n",
        "\n",
        "salt = Cat('소금',13)\n",
        "print(salt)\n",
        "# pepper = Cat()  # 오류 : 생성자를 2개 사용할 수 없음.\n",
        "# print(pepper)"
      ],
      "metadata": {
        "colab": {
          "base_uri": "https://localhost:8080/"
        },
        "id": "OLalNxp3vUcK",
        "outputId": "4faf687d-ded6-49e5-c335-3791a7351523"
      },
      "execution_count": null,
      "outputs": [
        {
          "output_type": "stream",
          "name": "stdout",
          "text": [
            "소금은 나이 13 입니다.\n"
          ]
        }
      ]
    },
    {
      "cell_type": "code",
      "source": [
        "class Cat:\n",
        "    def __init__(self,name='멍멍이',age=0,):  # 인스턴스 변수의 기본값 설정\n",
        "        self.name = name\n",
        "        self.age = age\n",
        "\n",
        "    def __str__(self):   # 자바의 toString() 메소드 재정의 입니다.\n",
        "        return f\"{self.name}  나이 {self.age} 입니다.\"\n",
        "\n",
        "salt = Cat('소금',13)\n",
        "print(salt)\n",
        "\n",
        "pepper = Cat()\n",
        "print(pepper)"
      ],
      "metadata": {
        "colab": {
          "base_uri": "https://localhost:8080/"
        },
        "id": "9jRSYTc8wUya",
        "outputId": "74bad801-9a57-4091-8319-3c217c98f27a"
      },
      "execution_count": null,
      "outputs": [
        {
          "output_type": "stream",
          "name": "stdout",
          "text": [
            "소금  나이 13 입니다.\n",
            "멍멍이  나이 0 입니다.\n"
          ]
        }
      ]
    },
    {
      "cell_type": "markdown",
      "source": [
        "- 주의: 초기값을 설정할 변수는 맨 끝에 정의합니다."
      ],
      "metadata": {
        "id": "R4qX7oB7v4B7"
      }
    },
    {
      "cell_type": "code",
      "source": [
        "# 생성자 __init__ 에 초기값을 설정한 예시.\n",
        "class Cat:\n",
        "    # def __init__(self, name, family='unknown', age):  => 오류\n",
        "    def __init__(self, name, age, family='unknown'):\n",
        "        self.name = name\n",
        "        self.age = age\n",
        "        self.family = family\n",
        "\n",
        "    def __str__(self):\n",
        "        return f\"{self.name}은 나이 {self.age}이고, {self.family}입니다.\"\n",
        "\n",
        "\n",
        "salt = Cat('소금', 15, '페르시안')\n",
        "print(salt)\n",
        "print(salt.name)\n",
        "print(salt.age)\n",
        "print(salt.family)\n",
        "\n",
        "pepper = Cat('후추', 7)    # family 는 기본값이 있으므로 생략 가능\n",
        "print(pepper)\n",
        "print(pepper.name)\n",
        "print(pepper.age)\n",
        "print(pepper.family)\n",
        "pepper = Cat(age= 7,name=\"후추\")    # 매개변수=값 형식 가능 - 키워드 매개변수"
      ],
      "metadata": {
        "colab": {
          "base_uri": "https://localhost:8080/"
        },
        "id": "5hcTyGyRx3D4",
        "outputId": "f29d7135-5eba-4dc9-d8d1-c090dc934c07"
      },
      "execution_count": null,
      "outputs": [
        {
          "output_type": "stream",
          "name": "stdout",
          "text": [
            "소금은 나이 15이고, 페르시안입니다.\n",
            "소금\n",
            "15\n",
            "페르시안\n",
            "후추은 나이 7이고, unknown입니다.\n",
            "후추\n",
            "7\n",
            "unknown\n"
          ]
        }
      ]
    },
    {
      "cell_type": "code",
      "source": [
        "# 인스턴스 메소드 정의\n",
        "class Counter:\n",
        "    def __init__(self):\n",
        "        self.num = 0     # 인스턴스 변수 num 값을 0으로 초기화\n",
        "    # 인스턴스 메소드 : 아래 4개\n",
        "    # 인스턴스 객체를 만들어서 실행하는 메소드\n",
        "    def increment(self):\n",
        "        self.num += 1\n",
        "    def current_value(self):\n",
        "        return self.num\n",
        "    def decrement(self):\n",
        "        self.num -= 1\n",
        "    def reset(self):\n",
        "        self.num = 0\n"
      ],
      "metadata": {
        "id": "fHJ1zTQf3j8o"
      },
      "execution_count": null,
      "outputs": []
    },
    {
      "cell_type": "code",
      "source": [
        "# 객체(인스턴스) 생성\n",
        "counter = Counter()\n",
        "\n",
        "# increment 인스턴스 메소드 실행\n",
        "counter.increment()\n",
        "counter.increment()\n",
        "counter.increment()\n",
        "print(counter.num)\n",
        "\n",
        "# reset 인스턴스 메소드 실행\n",
        "counter.reset()\n",
        "print(counter.num)\n",
        "\n",
        "# decrement 인스턴스 메소드 실행\n",
        "counter.decrement()\n",
        "counter.decrement()\n",
        "print(counter.num)"
      ],
      "metadata": {
        "colab": {
          "base_uri": "https://localhost:8080/"
        },
        "id": "wbn5taiK4WQ8",
        "outputId": "2ba1b63a-249f-42a7-f103-2ddc916fe113"
      },
      "execution_count": null,
      "outputs": [
        {
          "output_type": "stream",
          "name": "stdout",
          "text": [
            "3\n",
            "0\n",
            "-2\n"
          ]
        }
      ]
    },
    {
      "cell_type": "markdown",
      "source": [
        "- 클래스 정의시 사용하는 데코레이터(자바의 애노테이션)\n"
      ],
      "metadata": {
        "id": "LVvV3HE8wcrF"
      }
    },
    {
      "cell_type": "code",
      "source": [
        "class Cat:\n",
        "    def __init__(self):\n",
        "        self.__age = 0\n",
        "        # __변수명 : 내부 변수 직접 접근 방지. 캡슐화\n",
        "\n",
        "    @property    # 메서드를 속성처럼 접근할 수 있게 해줌. getter 형식\n",
        "    def age(self):\n",
        "        return self.__age\n",
        "\n",
        "    @age.setter   # setter : @속성.setter\n",
        "    def age(self, value):\n",
        "        if value >= 0:\n",
        "            self.__age = value\n",
        "        else:\n",
        "            raise ValueError(\"나이는 음수가 될 수 없습니다.\")\n"
      ],
      "metadata": {
        "id": "8nSm0yOu4l1f"
      },
      "execution_count": null,
      "outputs": []
    },
    {
      "cell_type": "code",
      "source": [
        "lucky = Cat()\n",
        "lucky.age = 10   # setter 가 있을 때만 가능 . setter 없으면 오류\n",
        "print(lucky.age)"
      ],
      "metadata": {
        "colab": {
          "base_uri": "https://localhost:8080/"
        },
        "id": "a3lzhm6EqkaV",
        "outputId": "cbd680aa-5b94-4c32-f098-100ef2c44b56"
      },
      "execution_count": null,
      "outputs": [
        {
          "output_type": "stream",
          "name": "stdout",
          "text": [
            "10\n"
          ]
        }
      ]
    },
    {
      "cell_type": "code",
      "source": [
        "# 인스턴스 a,b 를 캡슐화하고 getter,setter 위의 데코레이터로 작성해보기\n",
        "class MyMath:\n",
        "    def __init__(self, a=0, b=0):\n",
        "        self.__a = a\n",
        "        self.__b = b\n",
        "\n",
        "    @property    # property 아래 함수 이름 속성 이름이 됩니다.\n",
        "    def first(self):\n",
        "      return self.__a\n",
        "\n",
        "    @property\n",
        "    def second(self):\n",
        "      return self.__b\n",
        "\n",
        "    @first.setter\n",
        "    def a(self,value):\n",
        "      self.__a=value\n",
        "\n",
        "    @second.setter\n",
        "    def b(self,value):\n",
        "      self.__b=value\n",
        "\n",
        "# 가능한 케이스이지만 getter 와 setter 함수 이름은 통일 추천.\n",
        "math1 = MyMath()\n",
        "math1.a = 23   # setter\n",
        "math1.b = 32   # setter\n",
        "print(f'{math1.first}, {math1.second}')"
      ],
      "metadata": {
        "colab": {
          "base_uri": "https://localhost:8080/"
        },
        "id": "7yJFc51B_SuS",
        "outputId": "d6995894-ce65-4d9b-d12c-146462f0b37d"
      },
      "execution_count": null,
      "outputs": [
        {
          "output_type": "stream",
          "name": "stdout",
          "text": [
            "23, 32\n"
          ]
        }
      ]
    },
    {
      "cell_type": "code",
      "source": [
        "class MyMath:\n",
        "    def __init__(self, a, b):\n",
        "        self.a = a\n",
        "        self.b = b\n",
        "\n",
        "    def add(self):\n",
        "        return self.a + self.b\n",
        "\n",
        "    def substract(self):\n",
        "        return self.a - self.b\n",
        "\n",
        "    def multiply(self):\n",
        "        return self.a * self.b\n",
        "\n",
        "    def divide(self):\n",
        "        if self.b != 0:\n",
        "            return self.a / self.b\n",
        "        else:\n",
        "            return \"Error: Division by zero\""
      ],
      "metadata": {
        "id": "aOLGn7JxqyZg"
      },
      "execution_count": null,
      "outputs": []
    },
    {
      "cell_type": "code",
      "source": [
        "class MyMath:\n",
        "    def __init__(self, first=0, second=0):\n",
        "        self.first = first\n",
        "        self.second = second\n",
        "\n",
        "    def add(self):\n",
        "        return self.first + self.second\n",
        "\n",
        "    def substract(self):\n",
        "        return self.first - self.second\n",
        "\n",
        "    def multiply(self):\n",
        "        return self.first * self.second\n",
        "\n",
        "    def divide(self):\n",
        "        if self.second != 0:\n",
        "            return round(self.first / self.second, 2)\n",
        "        else:\n",
        "            return \"Error: Division by zero\"\n",
        "    def __str__(self):\n",
        "        return f'first : {self.first}, second : {self.second}'"
      ],
      "metadata": {
        "id": "xajf0eRpJvWi"
      },
      "execution_count": null,
      "outputs": []
    },
    {
      "cell_type": "code",
      "source": [
        "# MyMath 클래스\n",
        "# 인스턴스 변수 : first , second\n",
        "# 생성자 : first,second 를 초기화. 기본값은 0\n",
        "# __str__ 메소드 : first, second 의 값을 출력\n",
        "# 인스턴스 메소드 : add,substract, multiply, divide 계산결과값 리턴\n",
        "\n",
        "mymath = MyMath();\n",
        "print(mymath)\n",
        "mymath = MyMath(34,12);\n",
        "print(mymath)\n",
        "print(mymath.add())\n",
        "print(mymath.substract())\n",
        "print(mymath.multiply())\n",
        "print(mymath.divide())"
      ],
      "metadata": {
        "id": "Jv3oPRdA4fnf",
        "colab": {
          "base_uri": "https://localhost:8080/"
        },
        "outputId": "e5825b9e-447e-42c7-c370-ea59ab89e827"
      },
      "execution_count": null,
      "outputs": [
        {
          "output_type": "stream",
          "name": "stdout",
          "text": [
            "first : 0, second : 0\n",
            "first : 34, second : 12\n",
            "46\n",
            "22\n",
            "408\n",
            "2.83\n"
          ]
        }
      ]
    }
  ]
}