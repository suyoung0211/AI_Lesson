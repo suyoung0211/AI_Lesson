{
  "nbformat": 4,
  "nbformat_minor": 0,
  "metadata": {
    "colab": {
      "provenance": [],
      "include_colab_link": true
    },
    "kernelspec": {
      "name": "python3",
      "display_name": "Python 3"
    },
    "language_info": {
      "name": "python"
    }
  },
  "cells": [
    {
      "cell_type": "markdown",
      "metadata": {
        "id": "view-in-github",
        "colab_type": "text"
      },
      "source": [
        "<a href=\"https://colab.research.google.com/github/suyoung0211/Python/blob/main/M_%EB%B3%80%EC%88%98scope.ipynb\" target=\"_parent\"><img src=\"https://colab.research.google.com/assets/colab-badge.svg\" alt=\"Open In Colab\"/></a>"
      ]
    },
    {
      "cell_type": "markdown",
      "source": [
        " 변수의 범위(scope)는 해당 변수가 프로그램 내에서 참조되고 변경될 수 있는 영역을 의미합니다."
      ],
      "metadata": {
        "id": "GZIC7OhwnS9x"
      }
    },
    {
      "cell_type": "markdown",
      "source": [
        "### 변수 Scope\n",
        "- local scope : `함수` 내에서 정의된 변수들이 해당됩니다. `함수` 내에서만 접근할 수 있습니다.(함수에 대한 지역 변수)"
      ],
      "metadata": {
        "id": "Nw4tZEVGpbO0"
      }
    },
    {
      "cell_type": "code",
      "source": [
        "def local_example():\n",
        "    local_var = \"로컬 변수\"\n",
        "    print(local_var)\n",
        "\n",
        "local_example()\n",
        "# print(local_var)\n",
        "# NameError: name 'local_var' is not defined\n",
        "# 오류 : local_var는 local_example 함수 내에서만 접근 가능"
      ],
      "metadata": {
        "id": "VPzDKtPspes5",
        "colab": {
          "base_uri": "https://localhost:8080/"
        },
        "outputId": "2f555bee-3007-4454-e3d1-00200045817f"
      },
      "execution_count": null,
      "outputs": [
        {
          "output_type": "stream",
          "name": "stdout",
          "text": [
            "로컬 변수\n"
          ]
        }
      ]
    },
    {
      "cell_type": "markdown",
      "source": [
        "### 전역(Global) 범위\n",
        "- 스크립트 전체에서 사용되는 범위로, 함수 외부에 정의된 변수가 해당됩니다. 함수 내부에서도 접근이 가능합니다."
      ],
      "metadata": {
        "id": "_rC_Dv7dHtDg"
      }
    },
    {
      "cell_type": "code",
      "source": [
        "if True:\n",
        "  global_var = \"전역 변수\"\n",
        "\n",
        "def global_example():\n",
        "  print('여기는 함수 내부 : ',global_var)   # 전역변수는 함수안에서도 사용 가능함.\n",
        "\n",
        "\n",
        "global_example()\n"
      ],
      "metadata": {
        "colab": {
          "base_uri": "https://localhost:8080/"
        },
        "id": "wqF8ZoSDD1pf",
        "outputId": "981cac36-0b3e-4174-dcc4-457497e0da69"
      },
      "execution_count": null,
      "outputs": [
        {
          "output_type": "stream",
          "name": "stdout",
          "text": [
            "여기는 함수 내부 :  전역 변수\n"
          ]
        }
      ]
    },
    {
      "cell_type": "markdown",
      "source": [
        "- if, for 블록 안에서 선언된 변수 : 제어문 블록의 지역변수가 아닙니다. 제어문은 block scope 개념이 없고 전역에서 접근 가능한 변수입니다."
      ],
      "metadata": {
        "id": "syHKUaCEBxXN"
      }
    },
    {
      "cell_type": "code",
      "source": [
        "if True:\n",
        "    x = 5\n",
        "\n",
        "print(x)  # 5"
      ],
      "metadata": {
        "colab": {
          "base_uri": "https://localhost:8080/"
        },
        "id": "20VghEGGFBtP",
        "outputId": "3fa5eb03-393c-4f31-ca66-c39529955103"
      },
      "execution_count": null,
      "outputs": [
        {
          "output_type": "stream",
          "name": "stdout",
          "text": [
            "5\n"
          ]
        }
      ]
    },
    {
      "cell_type": "code",
      "source": [
        "for i in range(3):\n",
        "    x = i * 2\n",
        "\n",
        "print(x)  # 4 (마지막 반복의 값)\n",
        "x = 20\n",
        "print(x)   # 변경도 가능"
      ],
      "metadata": {
        "id": "Iy09if4zFFnc",
        "outputId": "35c18698-392f-4802-f7ad-dd36d681714d",
        "colab": {
          "base_uri": "https://localhost:8080/"
        }
      },
      "execution_count": null,
      "outputs": [
        {
          "output_type": "stream",
          "name": "stdout",
          "text": [
            "4\n",
            "20\n"
          ]
        }
      ]
    },
    {
      "cell_type": "markdown",
      "source": [
        "- 함수 내부에서 전역변수 값을 수정하려면 global 키워드가 필요합니다.\n",
        "\n",
        "\n"
      ],
      "metadata": {
        "id": "zY_7WrYapzzZ"
      }
    },
    {
      "cell_type": "code",
      "source": [
        "if True:\n",
        "  global_var = \"전역 변수\"\n",
        "\n",
        "def global_example():\n",
        "  global_var=\"Global Var\"    # 값을 할당하면 지역변수로 취급(덮어씀).\n",
        "  print('여기는 함수 내부 : ',global_var)\n",
        "  # 위의 명령어와 순서 바뀌면 초기화 안된 변수 사용 오류.\n",
        "\n",
        "global_example()\n",
        "print('여기는 함수 아님 : ', global_var)"
      ],
      "metadata": {
        "colab": {
          "base_uri": "https://localhost:8080/"
        },
        "id": "8cxmjWh8FEfy",
        "outputId": "cd204f7b-9cae-4a74-a24e-6b1a331f1247"
      },
      "execution_count": null,
      "outputs": [
        {
          "output_type": "stream",
          "name": "stdout",
          "text": [
            "여기는 함수 내부 :  Global Var\n",
            "여기는 함수 아님 :  전역 변수\n"
          ]
        }
      ]
    },
    {
      "cell_type": "code",
      "source": [
        "if True:\n",
        "  global_var = \"전역 변수\"\n",
        "\n",
        "def global_example():\n",
        "  global global_var          # 함수 내부에서 전역 변수로 처리하기 위한 키워드\n",
        "  global_var=\"Global Var\"\n",
        "  print('여기는 함수 내부 : ',global_var)\n",
        "\n",
        "global_example()\n",
        "print('여기는 함수 아님 : ', global_var)"
      ],
      "metadata": {
        "colab": {
          "base_uri": "https://localhost:8080/"
        },
        "id": "h2PtkVkdp-nB",
        "outputId": "8db5f8c6-9a2f-471b-e167-ba3fda79e8db"
      },
      "execution_count": null,
      "outputs": [
        {
          "output_type": "stream",
          "name": "stdout",
          "text": [
            "여기는 함수 내부 :  Global Var\n",
            "여기는 함수 아님 :  Global Var\n"
          ]
        }
      ]
    },
    {
      "cell_type": "markdown",
      "source": [
        "### 함수의 중첩\n",
        "\n",
        "- 함수 내부에 또 다른 함수를 정의하는 것을 의미합니다. 중첩 함수는 외부 함수의 로컬 영역(scope)이며 외부 함수 안에서만 호출이 가능합니다. 이런 구조는 반복적인 특정 작업을 캡슐화하여 처리 합니다.\n",
        "- 함수 내부의 블록(Enclosing) 범위"
      ],
      "metadata": {
        "id": "PKWogRP6UAPU"
      }
    },
    {
      "cell_type": "code",
      "source": [
        "def outer_function():\n",
        "    enclosing_var = \"둘러싼 범위 변수\"  # inner_function 관점\n",
        "\n",
        "    def inner_function():   # 함수 안의 함수\n",
        "        print(enclosing_var)\n",
        "\n",
        "    inner_function()   # outer_function 함수에서만 호출 가능\n",
        "\n",
        "outer_function()\n",
        "# inner_function()   # 오류 : outer_function 함수에서만 호출 가능"
      ],
      "metadata": {
        "colab": {
          "base_uri": "https://localhost:8080/"
        },
        "id": "obUm8DAQpuym",
        "outputId": "f083acc1-c0bf-4a92-bf14-afafd41e9734"
      },
      "execution_count": null,
      "outputs": [
        {
          "output_type": "stream",
          "name": "stdout",
          "text": [
            "둘러싼 범위 변수\n"
          ]
        }
      ]
    },
    {
      "cell_type": "markdown",
      "source": [
        "### 📚 범위(Scope) 구조\n",
        "파이썬의 이름 탐색 순서 (LEGB)\n",
        "\n",
        "- Local: 현재 함수나 클래스 내부\n",
        "- Enclosing: 중첩 함수의 바깥 함수\n",
        "- Global: 현재 모듈 전체\n",
        "- Built-in: 파이썬이 기본적으로 제공하는 내장 함수와 객체들이 존재하는 가장 바깥쪽의 이름 공간(scope)"
      ],
      "metadata": {
        "id": "mfFVbvebhuTg"
      }
    },
    {
      "cell_type": "markdown",
      "source": [
        "### 내장 범위(Built-in)\n",
        "- 파이썬이 기본적으로 제공하는 내장 함수나 예외 타입들 범위\n",
        "- Built-in scope에 포함되는 것들\n",
        "  + 내장 함수: print(), len(), sum(), type(), input() 등\n",
        "  + 내장 예외 클래스: ValueError, TypeError, IndexError 등\n",
        "  + 기본 상수: True, False, None, Ellipsis, NotImplemented\n",
        "  + 기타 내장 객체: int, str, list, dict, set, tuple 등\n",
        "\n",
        "- 위의 내장 범위 키워드를 덮어쓰면 기능이 가려짐 ➡  변수명으로 키워드를 사용하면 안됨. 로컬 변수 scope 으로 먼저 탐색되므로."
      ],
      "metadata": {
        "id": "UjnD7yqCqBtQ"
      }
    },
    {
      "cell_type": "code",
      "source": [
        "len = 5  # 내장 함수 'len'을 덮어씀\n",
        "# print(len([1, 2, 3]))  # 위의 구문 때문에 오류 발생! len이 함수가 아니라 변수로 인식됨"
      ],
      "metadata": {
        "id": "FiSCQKLbqNAY",
        "colab": {
          "base_uri": "https://localhost:8080/",
          "height": 187
        },
        "outputId": "eaeb249c-233e-4512-d3e4-890d36eb1965"
      },
      "execution_count": null,
      "outputs": [
        {
          "output_type": "error",
          "ename": "TypeError",
          "evalue": "'int' object is not callable",
          "traceback": [
            "\u001b[0;31m---------------------------------------------------------------------------\u001b[0m",
            "\u001b[0;31mTypeError\u001b[0m                                 Traceback (most recent call last)",
            "\u001b[0;32m<ipython-input-5-0add9cc8bbc7>\u001b[0m in \u001b[0;36m<cell line: 0>\u001b[0;34m()\u001b[0m\n\u001b[1;32m      1\u001b[0m \u001b[0mlen\u001b[0m \u001b[0;34m=\u001b[0m \u001b[0;36m5\u001b[0m  \u001b[0;31m# 내장 함수 'len'을 덮어씀\u001b[0m\u001b[0;34m\u001b[0m\u001b[0;34m\u001b[0m\u001b[0m\n\u001b[0;32m----> 2\u001b[0;31m \u001b[0mprint\u001b[0m\u001b[0;34m(\u001b[0m\u001b[0mlen\u001b[0m\u001b[0;34m(\u001b[0m\u001b[0;34m)\u001b[0m\u001b[0;34m)\u001b[0m\u001b[0;34m\u001b[0m\u001b[0;34m\u001b[0m\u001b[0m\n\u001b[0m\u001b[1;32m      3\u001b[0m \u001b[0;31m# print(len([1, 2, 3]))  # 오류 발생! len이 함수가 아니라 변수로 인식됨\u001b[0m\u001b[0;34m\u001b[0m\u001b[0;34m\u001b[0m\u001b[0m\n",
            "\u001b[0;31mTypeError\u001b[0m: 'int' object is not callable"
          ]
        }
      ]
    },
    {
      "cell_type": "code",
      "source": [
        "print=123\n",
        "a=200\n",
        "print(200)   #  오류"
      ],
      "metadata": {
        "colab": {
          "base_uri": "https://localhost:8080/",
          "height": 182
        },
        "id": "haV_eULAIWTO",
        "outputId": "7c82444a-798a-45e2-fd8e-ffce7310568d"
      },
      "execution_count": null,
      "outputs": [
        {
          "output_type": "error",
          "ename": "TypeError",
          "evalue": "'int' object is not callable",
          "traceback": [
            "\u001b[0;31m---------------------------------------------------------------------------\u001b[0m",
            "\u001b[0;31mTypeError\u001b[0m                                 Traceback (most recent call last)",
            "\u001b[0;32m/tmp/ipython-input-1406783392.py\u001b[0m in \u001b[0;36m<cell line: 0>\u001b[0;34m()\u001b[0m\n\u001b[1;32m      1\u001b[0m \u001b[0mprint\u001b[0m\u001b[0;34m=\u001b[0m\u001b[0;36m123\u001b[0m\u001b[0;34m\u001b[0m\u001b[0;34m\u001b[0m\u001b[0m\n\u001b[1;32m      2\u001b[0m \u001b[0ma\u001b[0m\u001b[0;34m=\u001b[0m\u001b[0;36m200\u001b[0m\u001b[0;34m\u001b[0m\u001b[0;34m\u001b[0m\u001b[0m\n\u001b[0;32m----> 3\u001b[0;31m \u001b[0mprint\u001b[0m\u001b[0;34m(\u001b[0m\u001b[0;36m200\u001b[0m\u001b[0;34m)\u001b[0m\u001b[0;34m\u001b[0m\u001b[0;34m\u001b[0m\u001b[0m\n\u001b[0m",
            "\u001b[0;31mTypeError\u001b[0m: 'int' object is not callable"
          ]
        }
      ]
    },
    {
      "cell_type": "code",
      "source": [
        "list = [3,]"
      ],
      "metadata": {
        "id": "j6LMn95Kz0Zy"
      },
      "execution_count": null,
      "outputs": []
    },
    {
      "cell_type": "code",
      "source": [
        "a=123\n",
        "def test():\n",
        "    a='abc'\n",
        "    def test00():\n",
        "        a='def'\n",
        "        return a + '😊'\n",
        "    print(a)\n",
        "    return test00()\n",
        "\n",
        "print(a)\n",
        "print(test())"
      ],
      "metadata": {
        "id": "H_T4aG3TqUBW",
        "colab": {
          "base_uri": "https://localhost:8080/"
        },
        "outputId": "e839391e-27ed-4f6e-dce3-4e0dfc20d190"
      },
      "execution_count": null,
      "outputs": [
        {
          "output_type": "stream",
          "name": "stdout",
          "text": [
            "123\n",
            "abc\n",
            "def😊\n"
          ]
        }
      ]
    }
  ]
}