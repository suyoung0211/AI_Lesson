{
  "nbformat": 4,
  "nbformat_minor": 0,
  "metadata": {
    "colab": {
      "provenance": [],
      "authorship_tag": "ABX9TyP8xRd5sPzlYN4Gg3b4TB2O",
      "include_colab_link": true
    },
    "kernelspec": {
      "name": "python3",
      "display_name": "Python 3"
    },
    "language_info": {
      "name": "python"
    }
  },
  "cells": [
    {
      "cell_type": "markdown",
      "metadata": {
        "id": "view-in-github",
        "colab_type": "text"
      },
      "source": [
        "<a href=\"https://colab.research.google.com/github/suyoung0211/python/blob/main/A_print.ipynb\" target=\"_parent\"><img src=\"https://colab.research.google.com/assets/colab-badge.svg\" alt=\"Open In Colab\"/></a>"
      ]
    },
    {
      "cell_type": "markdown",
      "source": [
        "### 간단한 단축키\n",
        "- Ctrl + M , 다른 알파벳\n",
        "  * Y : 코드셀 전환\n",
        "  * M : 텍스트셀 전환\n",
        "  * A : above   위의 셀 추가\n",
        "  * B : bottom  아래의 셀 추가\n",
        "  * J : 현재 셀 아래로 이동\n",
        "  * K : 현재셀 위로 이동\n",
        "  * D : 현재 셀 삭제\n",
        "  * Z : 실행 취소\n",
        "\n",
        "- 실행\n",
        "  * Ctrl + Enter  : 실행 후 현재 셀\n",
        "  * Shift + Enter : 실행 후 다음 셀"
      ],
      "metadata": {
        "id": "AMi2ReG3K_F6"
      }
    },
    {
      "cell_type": "code",
      "source": [
        "# 표준 출력\n",
        "print('hi 파이썬')"
      ],
      "metadata": {
        "id": "9G8JGBZHMhWM",
        "colab": {
          "base_uri": "https://localhost:8080/"
        },
        "outputId": "919dde3d-6cc0-4899-f0c0-61b32b11db55"
      },
      "execution_count": null,
      "outputs": [
        {
          "output_type": "stream",
          "name": "stdout",
          "text": [
            "hi 파이썬\n"
          ]
        }
      ]
    },
    {
      "cell_type": "markdown",
      "source": [
        "### 기본 산술 연산\n",
        "- +, -, * 는 다른 언어의 연산과 유사\n",
        "- / (나눗셈) : 실수 결과\n",
        "- // : 정수 몫\n",
        "- % : 나머지 연산"
      ],
      "metadata": {
        "id": "prjjVySNSICM"
      }
    },
    {
      "cell_type": "code",
      "source": [
        "print(\"10/3  = \", 10/3)\n",
        "print(\"10//3 = \", 10//3)  # 몫\n",
        "print(\"10%3  = \", 10%3)   # 나머지"
      ],
      "metadata": {
        "colab": {
          "base_uri": "https://localhost:8080/"
        },
        "id": "GIFGZgckShMm",
        "outputId": "6bbdd332-f700-43fc-d963-9ddddf271869"
      },
      "execution_count": null,
      "outputs": [
        {
          "output_type": "stream",
          "name": "stdout",
          "text": [
            "10/3  =  3.3333333333333335\n",
            "10//3 =  3\n",
            "10%3  =  1\n"
          ]
        }
      ]
    },
    {
      "cell_type": "markdown",
      "source": [
        "### 문자열 포맷\n",
        "- 1. 문자열.format() 메소드\n",
        "- 2. f-string : 위의 1번에서 메소드를 생략한 축약 형식"
      ],
      "metadata": {
        "id": "IoeN1btcTJ4z"
      }
    },
    {
      "cell_type": "code",
      "source": [
        "# {필드명 : 형식지정자}\n",
        "# 필드명은 값의 이름 또는 인덱스 또는 생략(순서대로 대입)\n",
        "# 형식지정자는 숫자, 소숫점 등 출력 형식 또는 생략\n",
        "# {} 기호의 갯수와 값의 갯수가 일치되도록 합니다.\n",
        "\n",
        "# 1. 필드명이 생략된 경우\n",
        "print('내친구: {} {}'.format('모모', '나나'))\n",
        "print(\"이름: {}, 나이: {}, 점수: {:.2f}\".format('하니', 20, 95.678))\n",
        "\n",
        "# 2. 필드명이 인덱스인 경우(값의 순서 중요)\n",
        "print(\"첫 번째: {0}, 두 번째: {1}, 다시 첫 번째: {0}\".format(\"🥪🥪\", \"🍖🍖\"))\n",
        "\n",
        "# 3. 필드명이 이름인 경우(값의 순서 중요하지 않음)\n",
        "print(\"이름: {name}, 나이: {age}\".format(age=20, name=\"GD\"))\n",
        "\n",
        "# 4. 형식지정자를 사용한 경우\n",
        "print(\"숫자: {:,}\".format(1234567890))\n",
        "print(\"16진수: {:x}, 8진수: {:o}, 2진수: {:b}\".format(255, 255, 255))"
      ],
      "metadata": {
        "colab": {
          "base_uri": "https://localhost:8080/"
        },
        "id": "xo06224bTXOM",
        "outputId": "75ae43ae-8aba-4686-cd78-1befcacab06f"
      },
      "execution_count": null,
      "outputs": [
        {
          "output_type": "stream",
          "name": "stdout",
          "text": [
            "내친구: 모모 나나\n",
            "이름: 하니, 나이: 20, 점수: 95.68\n",
            "첫 번째: 🥪🥪, 두 번째: 🍖🍖, 다시 첫 번째: 🥪🥪\n",
            "이름: GD, 나이: 20\n",
            "숫자: 1,234,567,890\n",
            "16진수: ff, 8진수: 377, 2진수: 11111111\n"
          ]
        }
      ]
    },
    {
      "cell_type": "code",
      "source": [
        "# 5. 형식지정자에 출력값 정렬 위치\n",
        "# < 왼쪽, > 오른쪽, ^ 중앙 이며 뒤의 숫자는 출력 폭\n",
        "print('값 : {:<10}'.format('left'))\n",
        "print('값 : {:>10}'.format('right'))\n",
        "print('값 : {:^10}'.format('center'))"
      ],
      "metadata": {
        "colab": {
          "base_uri": "https://localhost:8080/"
        },
        "id": "DM-Ezfm6UOQ5",
        "outputId": "c4a2b24a-b2c3-44e3-f533-fe48b0620227"
      },
      "execution_count": null,
      "outputs": [
        {
          "output_type": "stream",
          "name": "stdout",
          "text": [
            "값 : left      \n",
            "값 :      right\n",
            "값 :   center  \n"
          ]
        }
      ]
    },
    {
      "cell_type": "code",
      "source": [
        "a=122\n",
        "b=244\n",
        "print(f'{a} + {b} = {a+b}')\n",
        "print(f'10진수 : {a} , 16진수 : {a:04x}') # 폭 4, 앞의 공백은 0으로 채움\n",
        "print(f'10진수 : {b} , 16진수 : {b:4x}')"
      ],
      "metadata": {
        "colab": {
          "base_uri": "https://localhost:8080/"
        },
        "id": "ZJha3yM1Wysk",
        "outputId": "b61d8a9e-2911-4166-ccf1-4c8551e184ea"
      },
      "execution_count": null,
      "outputs": [
        {
          "output_type": "stream",
          "name": "stdout",
          "text": [
            "122 + 244 = 366\n",
            "10진수 : 122 , 16진수 : 007a\n",
            "10진수 : 244 , 16진수 :   f4\n"
          ]
        }
      ]
    },
    {
      "cell_type": "code",
      "source": [
        "# Jupyter Notebook 은 Ipython 대화형 환경\n",
        "# print 문 없이 마지막에 실행한 수식, 값을 자동으로 출력시킵니다.\n",
        "a\n",
        "b"
      ],
      "metadata": {
        "colab": {
          "base_uri": "https://localhost:8080/"
        },
        "id": "KjsyU0w_X_35",
        "outputId": "e0d06738-118f-4173-b2e7-a6a62c7da178"
      },
      "execution_count": null,
      "outputs": [
        {
          "output_type": "execute_result",
          "data": {
            "text/plain": [
              "244"
            ]
          },
          "metadata": {},
          "execution_count": 26
        }
      ]
    },
    {
      "cell_type": "code",
      "source": [
        "# print 실행 마지막 문자열 지정(기본값은 줄바꿈)\n",
        "print('하나', end='🌟')\n",
        "print('둘')"
      ],
      "metadata": {
        "colab": {
          "base_uri": "https://localhost:8080/"
        },
        "id": "nAuXKVw_YOl6",
        "outputId": "edde9e8a-1cde-4227-9762-8430ef789f11"
      },
      "execution_count": null,
      "outputs": [
        {
          "output_type": "stream",
          "name": "stdout",
          "text": [
            "하나🌟둘\n"
          ]
        }
      ]
    },
    {
      "cell_type": "code",
      "source": [
        "# print 로 나열된 문자열 구분 지정(기본값은 공백)\n",
        "print('하나', '둘', '셋')\n",
        "print('하나', '둘', '셋', sep='🌟')\n",
        "print('넷')"
      ],
      "metadata": {
        "colab": {
          "base_uri": "https://localhost:8080/"
        },
        "id": "Zem4JxMHZk8v",
        "outputId": "3530f5ac-4d4c-4929-ff8c-cd90c1574c30"
      },
      "execution_count": null,
      "outputs": [
        {
          "output_type": "stream",
          "name": "stdout",
          "text": [
            "하나 둘 셋\n",
            "하나🌟둘🌟셋\n",
            "넷\n"
          ]
        }
      ]
    },
    {
      "cell_type": "code",
      "source": [
        "# Escape 문자, \\ 기호로 시작하는 기능 문자\n",
        "print('One\\t', 'Two\\n', '\\tThree', sep='')"
      ],
      "metadata": {
        "colab": {
          "base_uri": "https://localhost:8080/"
        },
        "id": "8KS08-OyZ_s3",
        "outputId": "a852de6b-f157-4c30-8ef4-3810d21e044d"
      },
      "execution_count": null,
      "outputs": [
        {
          "output_type": "stream",
          "name": "stdout",
          "text": [
            "One\tTwo\n",
            "\tThree\n"
          ]
        }
      ]
    }
  ]
}