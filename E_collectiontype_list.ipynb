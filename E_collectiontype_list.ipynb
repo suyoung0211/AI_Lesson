{
  "nbformat": 4,
  "nbformat_minor": 0,
  "metadata": {
    "colab": {
      "provenance": [],
      "include_colab_link": true
    },
    "kernelspec": {
      "name": "python3",
      "display_name": "Python 3"
    },
    "language_info": {
      "name": "python"
    }
  },
  "cells": [
    {
      "cell_type": "markdown",
      "metadata": {
        "id": "view-in-github",
        "colab_type": "text"
      },
      "source": [
        "<a href=\"https://colab.research.google.com/github/suyoung0211/python/blob/main/E_collectiontype_list.ipynb\" target=\"_parent\"><img src=\"https://colab.research.google.com/assets/colab-badge.svg\" alt=\"Open In Colab\"/></a>"
      ]
    },
    {
      "cell_type": "markdown",
      "source": [
        "## 컬렉션\n",
        "- 여러개의 데이터를 저장하는 자료구조\n",
        "- list(), dict(), tuple(), set() 은 컬렉션 내장클래스의 생성자(함수)\n",
        "\n",
        "### 리스트\n",
        "- 기호는 [ ] 사용\n",
        "- 자바와는 다르게 서로 다른 데이터 타입들 저장 가능합니다.\n",
        "- __슬라이싱__ 기능은 문자열의 슬라이싱과 매우 유사합니다.\n",
        "- 다른 형식의 데이터를 리스트로 변환할 때 , list() 내장 함수 사용합니다.\n",
        "- 문자열과 동일하게 len() 내장 함수로 리스트의 크기(갯수) 를 구합니다.\n",
        "- 리스트는 가변객체 입니다."
      ],
      "metadata": {
        "id": "m5zgx-J6N_T1"
      }
    },
    {
      "cell_type": "code",
      "source": [
        "li1=[1,3,5,7,9]   # 리스트 : 모든 요소의 데이터 타입이 같은 예시\n",
        "print('li1 =', li1)\n",
        "print('len(li1) :', len(li1))\n",
        "print('type(li1) :', type(li1))"
      ],
      "metadata": {
        "colab": {
          "base_uri": "https://localhost:8080/"
        },
        "id": "kKJy7YXpPSVW",
        "outputId": "0555c32c-112a-4fbd-84db-2aaf5a0d5f14"
      },
      "execution_count": null,
      "outputs": [
        {
          "output_type": "stream",
          "name": "stdout",
          "text": [
            "li1 = [1, 3, 5, 7, 9]\n",
            "len(li1) : 5\n",
            "type(li1) : <class 'list'>\n"
          ]
        }
      ]
    },
    {
      "cell_type": "code",
      "source": [
        "# 각각 다른 데이터 형식을 저장하는 것이 가능\n",
        "li1 = [1,50.9, '김🍕','이🍟',True]\n",
        "print('li1 =', li1)\n",
        "print('len(li1) :', len(li1))\n",
        "print('type(li1) :', type(li1))\n",
        "print('li1[-1] =', li1[-1])\n",
        "print('type(li1[-1]) :', type(li1[-1]))\n",
        "print('li1[-2] =', li1[-2])\n",
        "print('type(li1[-2]) :', type(li1[-2]))"
      ],
      "metadata": {
        "colab": {
          "base_uri": "https://localhost:8080/"
        },
        "id": "P3ZCZFMIQI2a",
        "outputId": "1af9a27f-8135-469f-dadb-a681045c271c"
      },
      "execution_count": null,
      "outputs": [
        {
          "output_type": "stream",
          "name": "stdout",
          "text": [
            "li1 = [1, 50.9, '김🍕', '이🍟', True]\n",
            "len(li1) : 5\n",
            "type(li1) : <class 'list'>\n",
            "li1[-1] = True\n",
            "type(li1[-1]) : <class 'bool'>\n",
            "li1[-2] = 이🍟\n",
            "type(li1[-2]) : <class 'str'>\n"
          ]
        }
      ]
    },
    {
      "cell_type": "code",
      "source": [
        "#  리스트는 가변 객체 - 특정요소 값 변경 가능\n",
        "print('li1 =', li1)\n",
        "li1[3] = '김땡땡'\n",
        "# li1[5] = '김땡땡'  # IndexError: list assignment index out of range\n",
        "print('li1 =', li1)"
      ],
      "metadata": {
        "colab": {
          "base_uri": "https://localhost:8080/"
        },
        "id": "5u-UkCgEQOoy",
        "outputId": "fdd63437-4669-4076-faf9-f6ba7a45daaf"
      },
      "execution_count": null,
      "outputs": [
        {
          "output_type": "stream",
          "name": "stdout",
          "text": [
            "li1 = [1, 50.9, '김🍕', '이🍟', True]\n",
            "li1 = [1, 50.9, '김🍕', '김땡땡', True]\n"
          ]
        }
      ]
    },
    {
      "cell_type": "markdown",
      "source": [
        "### 문자열에서 리스트로 변환\n",
        "- list() 함수\n",
        "- 문자열의 split 메소드"
      ],
      "metadata": {
        "id": "S_6RiZTiRI8x"
      }
    },
    {
      "cell_type": "code",
      "source": [
        "# 문자열 'hello python'을 list로 변환\n",
        "li2 = list('hello python')\n",
        "print('li2 =', li2)\n",
        "print('type(li2) :', type(li2))\n",
        "print('len(li2) :', len(li2))"
      ],
      "metadata": {
        "colab": {
          "base_uri": "https://localhost:8080/"
        },
        "id": "5KSq31TARfx6",
        "outputId": "2fe7e752-1b42-4e55-9173-3f3d0a74d300"
      },
      "execution_count": null,
      "outputs": [
        {
          "output_type": "stream",
          "name": "stdout",
          "text": [
            "li2 = ['h', 'e', 'l', 'l', 'o', ' ', 'p', 'y', 't', 'h', 'o', 'n']\n",
            "type(li2) : <class 'list'>\n",
            "len(li2) : 12\n"
          ]
        }
      ]
    },
    {
      "cell_type": "code",
      "source": [
        "### 문자열 분리\n",
        "text = '반도체·배터리·바이오… 한국형 AI 연구모델 만든다'\n",
        "li3= text.split()   # 구분문자는 공백이 기본값\n",
        "print('li3 =', li3)\n",
        "print('type(li3) :', type(li3))"
      ],
      "metadata": {
        "colab": {
          "base_uri": "https://localhost:8080/"
        },
        "id": "Y5xMxYU4SNV_",
        "outputId": "6896d245-7ae0-4731-c9cf-2a5d62a93d82"
      },
      "execution_count": null,
      "outputs": [
        {
          "output_type": "stream",
          "name": "stdout",
          "text": [
            "li3 = ['반도체·배터리·바이오…', '한국형', 'AI', '연구모델', '만든다']\n",
            "type(li3) : <class 'list'>\n"
          ]
        }
      ]
    },
    {
      "cell_type": "code",
      "source": [
        "import re\n",
        "li3 = re.split(r'·|…\\s*|\\s+', text)\n",
        "print('li3 =', li3)\n",
        "print('type(li3) :', type(li3))"
      ],
      "metadata": {
        "colab": {
          "base_uri": "https://localhost:8080/"
        },
        "id": "jm7APj36zzDJ",
        "outputId": "d3a190f8-b2bf-4832-9339-0ed681dc5845"
      },
      "execution_count": null,
      "outputs": [
        {
          "output_type": "stream",
          "name": "stdout",
          "text": [
            "li3 = ['반도체', '배터리', '바이오', '한국형', 'AI', '연구모델', '만든다']\n",
            "type(li3) : <class 'list'>\n"
          ]
        }
      ]
    },
    {
      "cell_type": "markdown",
      "source": [
        "### 인덱싱\n",
        "\n",
        "리스트의 각 항목은 위치(인덱스)를 가지고 있으며, 인덱스를 사용하여 접근할 수 있습니다. 인덱스는 0부터 시작합니다."
      ],
      "metadata": {
        "id": "8UWmc-jyUN7d"
      }
    },
    {
      "cell_type": "code",
      "source": [
        "print('li3[0] =', li3[0])\n",
        "print('type(li3[0]) :', type(li3[0]))\n",
        "# print(li3[8])  # IndexError: list index out of range"
      ],
      "metadata": {
        "colab": {
          "base_uri": "https://localhost:8080/"
        },
        "id": "sy5HOF0vUVYX",
        "outputId": "be124f90-f911-4854-df5b-9cb9f25a2276"
      },
      "execution_count": null,
      "outputs": [
        {
          "output_type": "stream",
          "name": "stdout",
          "text": [
            "li3[0] = 반도체\n",
            "type(li3[0]) : <class 'str'>\n"
          ]
        }
      ]
    },
    {
      "cell_type": "code",
      "source": [
        "# 문자열 연결 연산\n",
        "print('li3[-1] =', li3[-1])\n",
        "print(\"li3[-1]+'😏' =>\", li3[-1]+'😏')"
      ],
      "metadata": {
        "colab": {
          "base_uri": "https://localhost:8080/"
        },
        "id": "Upkgc8YYUPtX",
        "outputId": "44d4fb30-1af7-46ff-bbb8-19c9967da504"
      },
      "execution_count": null,
      "outputs": [
        {
          "output_type": "stream",
          "name": "stdout",
          "text": [
            "li3[-1] = 만든다\n",
            "li3[-1]+'😏' => 만든다😏\n"
          ]
        }
      ]
    },
    {
      "cell_type": "code",
      "source": [
        "# 리스트 안의 리스트 : 파이썬의 특징\n",
        "li4=[1,2,'파이썬',['AI',False]]\n",
        "print('li4 =', li4)\n",
        "print('type(li4[1]) :', type(li4[1]))\n",
        "print('type(li4[3]) :', type(li4[3]))\n",
        "print('li4[3][0] =', li4[3][0])      # 인덱싱\n",
        "print('li4[3][1] =', li4[3][1])      # 인덱싱\n",
        "print('type(li4[3][1]) :', type(li4[3][1]))"
      ],
      "metadata": {
        "colab": {
          "base_uri": "https://localhost:8080/"
        },
        "id": "neTp9dnmUb5c",
        "outputId": "6a0b5a05-0772-46ec-e584-5b8848c5e79c"
      },
      "execution_count": null,
      "outputs": [
        {
          "output_type": "stream",
          "name": "stdout",
          "text": [
            "li4 = [1, 2, '파이썬', ['AI', False]]\n",
            "type(li4[1]) : <class 'int'>\n",
            "type(li4[3]) : <class 'list'>\n",
            "li4[3][0] = AI\n",
            "li4[3][1] = False\n",
            "type(li4[3][1]) : <class 'bool'>\n"
          ]
        }
      ]
    },
    {
      "cell_type": "markdown",
      "source": [
        "### 슬라이싱\n",
        "\n",
        "- 리스트의 일부분만을 추출\n",
        "- 형식 : list[start:stop:step]  (문자열도 동일함)\n",
        "  * start : 슬라이싱 시작 인덱스 (생략 가능, 기본값은 0)\n",
        "  * stop : 슬라이싱 종료 인덱스 (해당 인덱스의 요소는 포함되지 않음)\n",
        "  * step : 요소를 선택하는 간격 (생략 가능, 기본값은 1)"
      ],
      "metadata": {
        "id": "kBW0vO3oYgIC"
      }
    },
    {
      "cell_type": "code",
      "source": [
        "# 문자열 슬라이싱과 동일하게 적용\n",
        "str1 = '반도체·배터리·바이오… 한국형 AI 연구모델 만든다'\n",
        "print('str1 =', str1)\n",
        "print('str1[2:15:2] =', str1[2:15:2])     # 문자열 리턴"
      ],
      "metadata": {
        "colab": {
          "base_uri": "https://localhost:8080/"
        },
        "id": "rT19R6jtY2mP",
        "outputId": "bbd3580d-a3b5-46aa-dbb4-53e540902939"
      },
      "execution_count": null,
      "outputs": [
        {
          "output_type": "stream",
          "name": "stdout",
          "text": [
            "str1 = 반도체·배터리·바이오… 한국형 AI 연구모델 만든다\n",
            "str1[2:15:2] = 체배리바오 국\n"
          ]
        }
      ]
    },
    {
      "cell_type": "code",
      "source": [
        "li5=['반도체', '배터리', '바이오', '한국형', 'AI', '연구모델', '만든다']\n",
        "print('li5 =', li5)\n",
        "print('li5[0::2] =', li5[0::2])\n",
        "print('li5[0:3] =', li5[0:3])    # 슬라이싱 : 결과가 리스트이다.\n",
        "print('type(li5[0:3]) :', type(li5[0:3]))\n",
        "print('li5 =', li5)              # li5 원본 리스트는 변경되지 않음.\n",
        "result = li5[0:3]\n",
        "print('result = li5[0:3]')\n",
        "print('result =', result)"
      ],
      "metadata": {
        "colab": {
          "base_uri": "https://localhost:8080/"
        },
        "id": "3MdaOZbrYUQD",
        "outputId": "02e34080-140e-4611-bfcb-c95e3cb99802"
      },
      "execution_count": null,
      "outputs": [
        {
          "output_type": "stream",
          "name": "stdout",
          "text": [
            "li5 = ['반도체', '배터리', '바이오', '한국형', 'AI', '연구모델', '만든다']\n",
            "li5[0::2] = ['반도체', '바이오', 'AI', '만든다']\n",
            "li5[0:3] = ['반도체', '배터리', '바이오']\n",
            "type(li5[0:3]) : <class 'list'>\n",
            "li5 = ['반도체', '배터리', '바이오', '한국형', 'AI', '연구모델', '만든다']\n",
            "result = li5[0:3]\n",
            "result = ['반도체', '배터리', '바이오']\n"
          ]
        }
      ]
    },
    {
      "cell_type": "code",
      "source": [
        "li6 = [10, 20, 30, ['김사과', '오렌지', '반하나'], 40, ['🍕', '🍔']]\n",
        "print('li6 =', li6)\n",
        "li6[4] = ['🌟', '🌊','🍀','🐍']\n",
        "print('li6[4] =', li6[4])\n",
        "li6[5] = ['🍕', '🍔','🍟','🌭','🍿']\n",
        "print('li6[5] =', li6[5])\n",
        "print('li6 =', li6)"
      ],
      "metadata": {
        "colab": {
          "base_uri": "https://localhost:8080/"
        },
        "id": "PjBrhiO7ZLDr",
        "outputId": "f132975a-677f-42a8-d3ae-3f4fe65ae0dd"
      },
      "execution_count": null,
      "outputs": [
        {
          "output_type": "stream",
          "name": "stdout",
          "text": [
            "li6 = [10, 20, 30, ['김사과', '오렌지', '반하나'], 40, ['🍕', '🍔']]\n",
            "li6[4] = ['🌟', '🌊', '🍀', '🐍']\n",
            "li6[5] = ['🍕', '🍔', '🍟', '🌭', '🍿']\n",
            "li6 = [10, 20, 30, ['김사과', '오렌지', '반하나'], ['🌟', '🌊', '🍀', '🐍'], ['🍕', '🍔', '🍟', '🌭', '🍿']]\n"
          ]
        }
      ]
    },
    {
      "cell_type": "code",
      "source": [
        "# 위에서 햄버거,감자튀김,핫도그를 슬라이싱 해보세요. 2가지 방법 있음.(hint.음수 인덱스 사용)\n",
        "print('li6[5][1:4] =', li6[5][1:4])\n",
        "print('li6[5][1:-1] =', li6[5][1:-1])"
      ],
      "metadata": {
        "colab": {
          "base_uri": "https://localhost:8080/"
        },
        "id": "AtIK6l1mcRQx",
        "outputId": "32cc0a2f-5c90-4993-ebfa-761e2e890412"
      },
      "execution_count": null,
      "outputs": [
        {
          "output_type": "stream",
          "name": "stdout",
          "text": [
            "li6[5][1:4] = ['🍔', '🍟', '🌭']\n",
            "li6[5][1:-1] = ['🍔', '🍟', '🌭']\n"
          ]
        }
      ]
    },
    {
      "cell_type": "code",
      "source": [
        "print('li6[5][1:] =', li6[5][1:])"
      ],
      "metadata": {
        "colab": {
          "base_uri": "https://localhost:8080/"
        },
        "id": "yvHrHFDJcZrs",
        "outputId": "91f0e5fb-62bb-4b00-81fe-ccf3ca7a1ec2"
      },
      "execution_count": null,
      "outputs": [
        {
          "output_type": "stream",
          "name": "stdout",
          "text": [
            "li6[5][1:] = ['🍔', '🍟', '🌭', '🍿']\n"
          ]
        }
      ]
    },
    {
      "cell_type": "markdown",
      "source": [
        "### 리스트 항목 수정, 추가, 삭제\n",
        "- 리스트는 __가변 객체__ 입니다. 따라서 수정 / 추가 / 삭제 연산으로 리스트 원본 변경가능합니다."
      ],
      "metadata": {
        "id": "yX1B2CzCcmyw"
      }
    },
    {
      "cell_type": "code",
      "source": [
        "# 슬라이싱을 이용하여 요소를 추가한 경우 값이 슬라이싱 위치의 값이 대체\n",
        "li7 = [10, 20, 30, 40, 50]\n",
        "print('li7 =', li7)\n",
        "print('len(li7) :', len(li7))\n",
        "li7[1:3] = ['😁','😂','😎','😍']\n",
        "print('li7 =', li7)\n",
        "print('len(li7) :', len(li7))"
      ],
      "metadata": {
        "colab": {
          "base_uri": "https://localhost:8080/"
        },
        "id": "5lUc6swqc6kg",
        "outputId": "71340dcd-0b48-41bf-b5c9-de2904e2ed25"
      },
      "execution_count": null,
      "outputs": [
        {
          "output_type": "stream",
          "name": "stdout",
          "text": [
            "li7 = [10, 20, 30, 40, 50]\n",
            "len(li7) : 5\n",
            "li7 = [10, '😁', '😂', '😎', '😍', 40, 50]\n",
            "len(li7) : 7\n"
          ]
        }
      ]
    },
    {
      "cell_type": "code",
      "source": [
        "# 인덱싱을 이용하여 요소를 추가한 경우 리스트 안에 리스트를 만들고 포함(차원이 증가)\n",
        "li8 = [10, 20, 30, 40, 50]\n",
        "print('li8 =', li8)\n",
        "li8[1] = ['😁','😂','😎','😍']\n",
        "print('li8 =', li8)"
      ],
      "metadata": {
        "colab": {
          "base_uri": "https://localhost:8080/"
        },
        "id": "_il_wnhsdGoM",
        "outputId": "6120e89d-2aba-4301-badf-819054b141aa"
      },
      "execution_count": null,
      "outputs": [
        {
          "output_type": "stream",
          "name": "stdout",
          "text": [
            "li8 = [10, 20, 30, 40, 50]\n",
            "li8 = [10, ['😁', '😂', '😎', '😍'], 30, 40, 50]\n"
          ]
        }
      ]
    },
    {
      "cell_type": "code",
      "source": [
        "print('li8 =', li8)\n",
        "print('li8[1:3] =', li8[1:3])\n",
        "li8[1:3] = [] # 빈 리스트를 슬라이싱을 통해 저장하면 해당 요소가 삭제됨\n",
        "print('li8 =', li8)"
      ],
      "metadata": {
        "colab": {
          "base_uri": "https://localhost:8080/"
        },
        "id": "Ghl5Jw9ieo1o",
        "outputId": "5d4a50c2-0af8-46ef-da21-58589b914787"
      },
      "execution_count": null,
      "outputs": [
        {
          "output_type": "stream",
          "name": "stdout",
          "text": [
            "li8 = [10, ['😁', '😂', '😎', '😍'], 30, 40, 50]\n",
            "li8[1:3] = [['😁', '😂', '😎', '😍'], 30]\n",
            "li8 = [10, 40, 50]\n"
          ]
        }
      ]
    },
    {
      "cell_type": "code",
      "source": [
        "# 인덱싱을 이용하여 요소를 추가한 경우 리스트 안에 리스트를 만들고 포함(차원이 증가)\n",
        "li8 = [10, 20, 30, 40, 50]\n",
        "print('li8 =', li8)\n",
        "li8[1] = ['😁','😂','😎','😍']\n",
        "li8[1] = []   # 인덱싱으로 빈 리스트를 저장하면?\n",
        "print('li8 =', li8)"
      ],
      "metadata": {
        "colab": {
          "base_uri": "https://localhost:8080/"
        },
        "id": "Y6f5286tewOD",
        "outputId": "24a93c7c-bb6c-45b0-df76-5b5ee197cfef"
      },
      "execution_count": null,
      "outputs": [
        {
          "output_type": "stream",
          "name": "stdout",
          "text": [
            "li8 = [10, 20, 30, 40, 50]\n",
            "li8 = [10, [], 30, 40, 50]\n"
          ]
        }
      ]
    },
    {
      "cell_type": "code",
      "source": [
        "# 리스트 삭제\n",
        "li9 = [10, 20, 30, 40, 50]\n",
        "print('li9 =', li9)\n",
        "del li9[1]\n",
        "print('li9 =', li9)"
      ],
      "metadata": {
        "colab": {
          "base_uri": "https://localhost:8080/"
        },
        "id": "RFF14KVyerP4",
        "outputId": "9737521c-e43c-42bc-977c-679b8ba2b5c4"
      },
      "execution_count": null,
      "outputs": [
        {
          "output_type": "stream",
          "name": "stdout",
          "text": [
            "li9 = [10, 20, 30, 40, 50]\n",
            "li9 = [10, 30, 40, 50]\n"
          ]
        }
      ]
    },
    {
      "cell_type": "markdown",
      "source": [
        "### 리스트 연산\n",
        "- 새로운 리스트 생성하여 리턴"
      ],
      "metadata": {
        "id": "moxl_GiZeyum"
      }
    },
    {
      "cell_type": "code",
      "source": [
        "li7=[10,20,30]\n",
        "li8=[40,50,60]\n",
        "print('li7 =', li7)\n",
        "print('li8 =', li8)\n",
        "# 리스트 연산\n",
        "print('li7+li8 =', li7+li8)\n",
        "print('li8+li7 =', li8+li7)"
      ],
      "metadata": {
        "colab": {
          "base_uri": "https://localhost:8080/"
        },
        "id": "wSMuuOLKg6XF",
        "outputId": "d707ac0e-0ddf-467e-e9dc-2e6b2692ee3f"
      },
      "execution_count": null,
      "outputs": [
        {
          "output_type": "stream",
          "name": "stdout",
          "text": [
            "li7 = [10, 20, 30]\n",
            "li8 = [40, 50, 60]\n",
            "li7+li8 = [10, 20, 30, 40, 50, 60]\n",
            "li8+li7 = [40, 50, 60, 10, 20, 30]\n"
          ]
        }
      ]
    },
    {
      "cell_type": "code",
      "source": [
        "li7=[10,20,30]\n",
        "print('li7 =', li7)\n",
        "li7=li7 + [100,200]   # 리스트 연결\n",
        "print('li7 =', li7)\n",
        "li7 += [1,2]   # 리스트 연결하는 연산을 축약 대입 연산으로 변경 가능합니다.\n",
        "print('li7 =', li7)"
      ],
      "metadata": {
        "colab": {
          "base_uri": "https://localhost:8080/"
        },
        "id": "O4nQWcubg8XI",
        "outputId": "161677c8-d644-496c-e68b-861293f20bba"
      },
      "execution_count": null,
      "outputs": [
        {
          "output_type": "stream",
          "name": "stdout",
          "text": [
            "li7 = [10, 20, 30]\n",
            "li7 = [10, 20, 30, 100, 200]\n",
            "li7 = [10, 20, 30, 100, 200, 1, 2]\n"
          ]
        }
      ]
    },
    {
      "cell_type": "code",
      "source": [
        "li7=[10,20,30]\n",
        "print('li7 =', li7)\n",
        "print('li7 * 3 =', li7*3)   # 리스트 연결을 반복하는 * 연산"
      ],
      "metadata": {
        "colab": {
          "base_uri": "https://localhost:8080/"
        },
        "id": "ifCL1A2bg_mA",
        "outputId": "11f2a2a9-a9e2-4bb4-a040-9a77cd4f1908"
      },
      "execution_count": null,
      "outputs": [
        {
          "output_type": "stream",
          "name": "stdout",
          "text": [
            "li7 = [10, 20, 30]\n",
            "li7 * 3 = [10, 20, 30, 10, 20, 30, 10, 20, 30]\n"
          ]
        }
      ]
    },
    {
      "cell_type": "code",
      "source": [
        "# 문자열 연결 연산하는 문제.\n",
        "li7=[10,20,30]\n",
        "print('li7 =', li7)\n",
        "print('li7[0] + li7[2] =', li7[0]+li7[2])   # 인덱싱한 정수값을 덧셈\n",
        "li7[1]='🍔'    # str\n",
        "print('li7 =', li7)\n",
        "# print(li7[0]+li7[1])  # TypeError: unsupported operand type(s) for +: 'int' and 'str'\n",
        "# 오류를 수정해서 문자열로 연결하려면?\n",
        "print('str(li7[0]) + li7[1] =', str(li7[0])+li7[1])"
      ],
      "metadata": {
        "colab": {
          "base_uri": "https://localhost:8080/"
        },
        "id": "500CzwpQhBUE",
        "outputId": "2359747e-0d91-4dcf-9a3c-40bc066170c1"
      },
      "execution_count": null,
      "outputs": [
        {
          "output_type": "stream",
          "name": "stdout",
          "text": [
            "li7 = [10, 20, 30]\n",
            "li7[0] + li7[2] = 40\n",
            "li7 = [10, '🍔', 30]\n",
            "str(li7[0]) + li7[1] = 10🍔\n"
          ]
        }
      ]
    },
    {
      "cell_type": "markdown",
      "source": [
        "### 함수와 메소드\n",
        "아래 예시에서\n",
        "- 내장 함수 len( ) , sorted()\n",
        "- 그 외에는 메소드  : 원본 리스트가 변경되나요?\n",
        "  * 원본리스트 변경 : append() , extend(), pop() , reverse() , sort()\n",
        "- 리턴이 있는 (원본 리스트는 변경 안됨) : sorted() 함수"
      ],
      "metadata": {
        "id": "qwu9Ns6fhFcD"
      }
    },
    {
      "cell_type": "markdown",
      "source": [
        "### 함수"
      ],
      "metadata": {
        "id": "PG3KVtyIve68"
      }
    },
    {
      "cell_type": "code",
      "source": [
        "li1=[9,1,5,7,3]\n",
        "print('li1 =', li1)\n",
        "print('len(li1) :', len(li1))"
      ],
      "metadata": {
        "colab": {
          "base_uri": "https://localhost:8080/"
        },
        "id": "qUPYW7rHlIu2",
        "outputId": "ddc30aaf-4034-4123-f974-78b22470b16a"
      },
      "execution_count": null,
      "outputs": [
        {
          "output_type": "stream",
          "name": "stdout",
          "text": [
            "li1 = [9, 1, 5, 7, 3]\n",
            "len(li1) : 5\n"
          ]
        }
      ]
    },
    {
      "cell_type": "code",
      "source": [
        "# 리턴이 있는 (원본 리스트는 변경 안됨) : sorted() 함수\n",
        "print('li1 =', li1)\n",
        "print('sorted(li1) =', sorted(li1))\n",
        "print('li1 =', li1)"
      ],
      "metadata": {
        "colab": {
          "base_uri": "https://localhost:8080/"
        },
        "id": "9Yevgq0_vkU5",
        "outputId": "af2addf5-e183-48b1-8731-22c20d9129ba"
      },
      "execution_count": null,
      "outputs": [
        {
          "output_type": "stream",
          "name": "stdout",
          "text": [
            "li1 = [9, 1, 5, 7, 3]\n",
            "sorted(li1) = [1, 3, 5, 7, 9]\n",
            "li1 = [9, 1, 5, 7, 3]\n"
          ]
        }
      ]
    },
    {
      "cell_type": "markdown",
      "source": [
        "### 메소드"
      ],
      "metadata": {
        "id": "YVf2XjnqvhYs"
      }
    },
    {
      "cell_type": "code",
      "source": [
        "# append(): 리스트 요소의 끝에 새로운 요소를 추가\n",
        "li1=[1,3,5,7,9]\n",
        "print('li1 =', li1)\n",
        "li1.append(100)\n",
        "print('li1 =', li1)\n",
        "# li1.append(200,300,400)  # append 는 인자 1개만\n",
        "li1.append([200,300,400])  # 리스트 타입 인자\n",
        "print('li1 =', li1)"
      ],
      "metadata": {
        "id": "sInZ-_WWoKw6",
        "colab": {
          "base_uri": "https://localhost:8080/"
        },
        "outputId": "ed172d5c-c612-4e2c-98e9-0bd49144c44c"
      },
      "execution_count": null,
      "outputs": [
        {
          "output_type": "stream",
          "name": "stdout",
          "text": [
            "li1 = [1, 3, 5, 7, 9]\n",
            "li1 = [1, 3, 5, 7, 9, 100]\n",
            "li1 = [1, 3, 5, 7, 9, 100, [200, 300, 400]]\n"
          ]
        }
      ]
    },
    {
      "cell_type": "code",
      "source": [
        "# extend(): 리스트 요소의 끝에 새로운 여러 요소를 추가\n",
        "li1=[1,3,5,7,9]\n",
        "li1.extend([200,300,400])\n",
        "print('li1 =', li1)"
      ],
      "metadata": {
        "colab": {
          "base_uri": "https://localhost:8080/"
        },
        "id": "OnOnG_ggpKmT",
        "outputId": "2b8a723e-8045-4143-b3a1-fdfd84fea07f"
      },
      "execution_count": null,
      "outputs": [
        {
          "output_type": "stream",
          "name": "stdout",
          "text": [
            "li1 = [1, 3, 5, 7, 9, 200, 300, 400]\n"
          ]
        }
      ]
    },
    {
      "cell_type": "code",
      "source": [
        "# pop(): 리스트 마지막 요소를 삭제하고 삭제된 요소를 반환\n",
        "li1=[1,3,5,7,9]\n",
        "print('li1 =', li1)\n",
        "print('li1.pop() :', li1.pop())\n",
        "print('li1 =', li1)\n",
        "print('li1.pop() :', li1.pop())\n",
        "print('li1 =', li1)"
      ],
      "metadata": {
        "colab": {
          "base_uri": "https://localhost:8080/"
        },
        "id": "qzBQIDwmpV0-",
        "outputId": "4d86efa0-0f84-4f9f-9cf9-670391c06713"
      },
      "execution_count": null,
      "outputs": [
        {
          "output_type": "stream",
          "name": "stdout",
          "text": [
            "li1 = [1, 3, 5, 7, 9]\n",
            "li1.pop() : 9\n",
            "li1 = [1, 3, 5, 7]\n",
            "li1.pop() : 7\n",
            "li1 = [1, 3, 5]\n"
          ]
        }
      ]
    },
    {
      "cell_type": "code",
      "source": [
        "# index(): 리스트에서 특정 요소 값의 인덱스를 반환\n",
        "li8 = [10, 20, 30]\n",
        "print('li8 =', li8)\n",
        "print('li8.index(30) :', li8.index(30))\n",
        "# print(li8.index(100)) # 값이 없으면 에러"
      ],
      "metadata": {
        "colab": {
          "base_uri": "https://localhost:8080/"
        },
        "id": "iLm0za8npaOb",
        "outputId": "bc035f53-bdc7-4efe-9753-10fd7dcfb8af"
      },
      "execution_count": null,
      "outputs": [
        {
          "output_type": "stream",
          "name": "stdout",
          "text": [
            "li8 = [10, 20, 30]\n",
            "li8.index(30) : 2\n"
          ]
        }
      ]
    },
    {
      "cell_type": "code",
      "source": [
        "# reverse(): 리스트의 요소들의 순서를 반대로 설정\n",
        "li8 = [100, 50, 70, 60, 20]\n",
        "print('li8 =', li8)\n",
        "li8.reverse()\n",
        "print('li8 =', li8)"
      ],
      "metadata": {
        "colab": {
          "base_uri": "https://localhost:8080/"
        },
        "id": "mJyIh6QNpeJh",
        "outputId": "4d31e473-6e2d-468c-8f59-fbebab2bb866"
      },
      "execution_count": null,
      "outputs": [
        {
          "output_type": "stream",
          "name": "stdout",
          "text": [
            "li8 = [100, 50, 70, 60, 20]\n",
            "li8 = [20, 60, 70, 50, 100]\n"
          ]
        }
      ]
    },
    {
      "cell_type": "code",
      "source": [
        "# sort(): 리스트의 요소를 오름차순으로 정렬\n",
        "li8 = [100, 50, 70, 60, 20]\n",
        "print('li8 =', li8)\n",
        "li8.sort()\n",
        "print('li8 =', li8)"
      ],
      "metadata": {
        "colab": {
          "base_uri": "https://localhost:8080/"
        },
        "id": "CmPkWNaAtOnK",
        "outputId": "cabb2994-d0db-4ce8-9942-ad70ee725db6"
      },
      "execution_count": null,
      "outputs": [
        {
          "output_type": "stream",
          "name": "stdout",
          "text": [
            "li8 = [100, 50, 70, 60, 20]\n",
            "li8 = [20, 50, 60, 70, 100]\n"
          ]
        }
      ]
    },
    {
      "cell_type": "code",
      "source": [
        "# sort(reverse=True): 리스트의 요소를 내림차순으로 정렬\n",
        "li8.sort(reverse=True)\n",
        "print('li8 =', li8)"
      ],
      "metadata": {
        "colab": {
          "base_uri": "https://localhost:8080/"
        },
        "id": "YpNUoj6QtP0e",
        "outputId": "9be2eac9-f68d-40a6-ccd2-7a60dc66f4a7"
      },
      "execution_count": null,
      "outputs": [
        {
          "output_type": "stream",
          "name": "stdout",
          "text": [
            "[100, 70, 60, 50, 20]\n"
          ]
        }
      ]
    },
    {
      "cell_type": "code",
      "source": [
        "li9 = ['Apple', 'apple', 'orange', 'banana', 'melon']\n",
        "li9.sort()\n",
        "print('li9 =', li9)"
      ],
      "metadata": {
        "colab": {
          "base_uri": "https://localhost:8080/"
        },
        "id": "3W5ArBoWtRbv",
        "outputId": "d74f02c0-fd9f-49d6-e60c-dd1bb153ba50"
      },
      "execution_count": null,
      "outputs": [
        {
          "output_type": "stream",
          "name": "stdout",
          "text": [
            "li9 = ['Apple', 'apple', 'banana', 'melon', 'orange']\n"
          ]
        }
      ]
    },
    {
      "cell_type": "code",
      "source": [
        "li9 = ['김🍎', '김🍕', '김🍈', '김🍆', '김🔥']\n",
        "li9.sort()\n",
        "print('li9 =', li9)"
      ],
      "metadata": {
        "colab": {
          "base_uri": "https://localhost:8080/"
        },
        "id": "y_RfesXutTNZ",
        "outputId": "58c38979-9116-4763-fa94-cad4d2499907"
      },
      "execution_count": null,
      "outputs": [
        {
          "output_type": "stream",
          "name": "stdout",
          "text": [
            "li9 = ['김🍆', '김🍈', '김🍎', '김🍕', '김🔥']\n"
          ]
        }
      ]
    },
    {
      "cell_type": "code",
      "source": [
        "for item in li9:\n",
        "    emoji = item[1]   # '김' 다음 이모지\n",
        "    print(item, emoji, hex(ord(emoji)))\n",
        "# ord() 함수는 문자(한글이든 이모지든)를 유니코드 코드 포인트(정수 값)로 바꿀 때\n",
        "# hex() 함수는 정수값을 16진수로 출력."
      ],
      "metadata": {
        "colab": {
          "base_uri": "https://localhost:8080/"
        },
        "id": "Xv5OMzuiAPcR",
        "outputId": "2ec1c49a-5944-4cf7-a51a-78797d43c246"
      },
      "execution_count": null,
      "outputs": [
        {
          "output_type": "stream",
          "name": "stdout",
          "text": [
            "김🍆 🍆 0x1f346\n",
            "김🍈 🍈 0x1f348\n",
            "김🍎 🍎 0x1f34e\n",
            "김🍕 🍕 0x1f355\n",
            "김🔥 🔥 0x1f525\n"
          ]
        }
      ]
    },
    {
      "cell_type": "code",
      "source": [
        "# sorted(): 리스트 요소를 정렬한 후 새로운 리스트 반환해주는 함수.\n",
        "li99 = [100, 50, 70, 60, 20]\n",
        "print('li99 =', li99)\n",
        "\n",
        "result = sorted(li99)\n",
        "print('li99 =', li99)   # 기존 리스트는 변경 없음\n",
        "print('result =', result)"
      ],
      "metadata": {
        "colab": {
          "base_uri": "https://localhost:8080/"
        },
        "id": "Bng4Ge1ztUo4",
        "outputId": "bfcf48af-2aa9-44ea-b503-bd7d0403a13e"
      },
      "execution_count": null,
      "outputs": [
        {
          "output_type": "stream",
          "name": "stdout",
          "text": [
            "li99 = [100, 50, 70, 60, 20]\n",
            "li99 = [100, 50, 70, 60, 20]\n",
            "result = [20, 50, 60, 70, 100]\n"
          ]
        }
      ]
    },
    {
      "cell_type": "code",
      "source": [
        "# count(): 리스트에서 특정 값의 갯수를 반환\n",
        "li99 = [10, 20, 30, 50, 20, 40, 30, 20]\n",
        "print('li99 =', li99)\n",
        "\n",
        "print('li99.count(20) :', li99.count(20))\n",
        "print('li99.count(100) :', li99.count(100))"
      ],
      "metadata": {
        "colab": {
          "base_uri": "https://localhost:8080/"
        },
        "id": "VHqT0bYgtXEk",
        "outputId": "6db53f14-04d1-4c56-de78-7797caa0dec4"
      },
      "execution_count": null,
      "outputs": [
        {
          "output_type": "stream",
          "name": "stdout",
          "text": [
            "li99 = [10, 20, 30, 50, 20, 40, 30, 20]\n",
            "li99.count(20) : 3\n",
            "li99.count(100) : 0\n"
          ]
        }
      ]
    },
    {
      "cell_type": "code",
      "source": [
        "# 복습\n",
        "numbers = [100, 50, 70, 60, 20]\n",
        "# print(numbers[0:5])\n",
        "print('numbers[:] =', numbers[:])         # [0:5]\n",
        "print('numbers[::] =', numbers[::])       # step이 생략\n",
        "print('numbers[0:5:1] =', numbers[0:5:1]) # step의 기본값은 1"
      ],
      "metadata": {
        "colab": {
          "base_uri": "https://localhost:8080/"
        },
        "id": "Pj_k9kYMtYn6",
        "outputId": "9196418e-c1ef-44ab-8ad0-d334b71cd99f"
      },
      "execution_count": null,
      "outputs": [
        {
          "output_type": "stream",
          "name": "stdout",
          "text": [
            "numbers[:] = [100, 50, 70, 60, 20]\n",
            "numbers[::] = [100, 50, 70, 60, 20]\n",
            "numbers[0:5:1] = [100, 50, 70, 60, 20]\n"
          ]
        }
      ]
    },
    {
      "cell_type": "code",
      "source": [
        "print('numbers =', numbers)\n",
        "print('numbers[0:5:2] =', numbers[0:5:2]) # step을 2로 설정"
      ],
      "metadata": {
        "colab": {
          "base_uri": "https://localhost:8080/"
        },
        "id": "sMKTJ-H1tj6g",
        "outputId": "4779dbe2-c8b4-4094-d8c0-1c6a13ea38cd"
      },
      "execution_count": null,
      "outputs": [
        {
          "output_type": "stream",
          "name": "stdout",
          "text": [
            "numbers = [100, 50, 70, 60, 20]\n",
            "numbers[0:5:2] = [100, 70, 20]\n"
          ]
        }
      ]
    },
    {
      "cell_type": "code",
      "source": [
        "# 슬라이싱을 사용하여 리스트의 요소들의 순서를 반대로 설정하는 방법\n",
        "numbers = [100, 50, 70, 60, 20]\n",
        "print('numbers =', numbers)\n",
        "numbers.reverse()\n",
        "print('numbers =', numbers)"
      ],
      "metadata": {
        "id": "DeYLs4xxtp6m",
        "colab": {
          "base_uri": "https://localhost:8080/"
        },
        "outputId": "b3015b1d-1477-4e02-f40d-48b495f0d920"
      },
      "execution_count": null,
      "outputs": [
        {
          "output_type": "stream",
          "name": "stdout",
          "text": [
            "numbers = [100, 50, 70, 60, 20]\n",
            "numbers = [20, 60, 70, 50, 100]\n"
          ]
        }
      ]
    },
    {
      "cell_type": "code",
      "source": [
        "# ※ step이 -1일 경우 start의 기본값은 -1, stop의 기본값은? None\n",
        "print('numbers[1::-1] =', numbers[1::-1])\n",
        "print('numbers[:0:-1] =', numbers[:0:-1])\n",
        "print('numbers[::-1] =', numbers[::-1])"
      ],
      "metadata": {
        "id": "WR7Mi7Nutsvk",
        "outputId": "36664bf7-3d19-4de4-da0b-6d3e60f94da8",
        "colab": {
          "base_uri": "https://localhost:8080/"
        }
      },
      "execution_count": null,
      "outputs": [
        {
          "output_type": "stream",
          "name": "stdout",
          "text": [
            "numbers[1::-1] = [60, 20]\n",
            "numbers[:0:-1] = [100, 50, 70, 60]\n",
            "numbers[::-1] = [100, 50, 70, 60, 20]\n"
          ]
        }
      ]
    },
    {
      "cell_type": "code",
      "source": [
        "# ※ 자주 사용됨.\n",
        "print('numbers[::-1] =', numbers[::-1])\n",
        "print('numbers[-1:None:-1] =', numbers[-1:None:-1])"
      ],
      "metadata": {
        "id": "uUvB2vS9tuTz",
        "outputId": "c6f745cf-fd0f-4754-f380-42af574a5114",
        "colab": {
          "base_uri": "https://localhost:8080/"
        }
      },
      "execution_count": null,
      "outputs": [
        {
          "output_type": "stream",
          "name": "stdout",
          "text": [
            "numbers[::-1] = [100, 50, 70, 60, 20]\n",
            "numbers[-1:None:-1] = [100, 50, 70, 60, 20]\n"
          ]
        }
      ]
    },
    {
      "cell_type": "code",
      "source": [
        "# 결론 : 문자열 또는 리스트 모두 슬라이싱 기본값\n",
        "# 형식  [start:stop:step] , [::step] , [start::step], [:stop:step]\n",
        "#       [start:stop] , [:] , [start:], [:stop]\n",
        "#     step 이 양수,음수에 따라 다르다. step 기본값은 1\n",
        "# 양수 : start 는 0, stop 은 len()\n",
        "# 음수 : start 는 -1, stop 은 None"
      ],
      "metadata": {
        "id": "IYdEnmgNxZds"
      },
      "execution_count": null,
      "outputs": []
    }
  ]
}